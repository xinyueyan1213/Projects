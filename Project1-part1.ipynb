{
 "cells": [
  {
   "cell_type": "markdown",
   "id": "98d1dc38",
   "metadata": {},
   "source": [
    "# Group member:   \n",
    "# xinyue yan, \n",
    "# marian mae cedeno, \n",
    "# keaton curtice."
   ]
  },
  {
   "cell_type": "markdown",
   "id": "fe0d9cdb",
   "metadata": {},
   "source": [
    "# This part shows the visualizations,we do something on preparing data. like combinations data and shows the final results."
   ]
  },
  {
   "cell_type": "code",
   "execution_count": 2,
   "id": "1e6ac158",
   "metadata": {},
   "outputs": [],
   "source": [
    "import numpy as np\n",
    "import pandas as pd\n",
    "import os\n",
    "%matplotlib inline\n",
    "import matplotlib as mpl\n",
    "import matplotlib.pyplot as plt\n",
    "mpl.rc('axes', labelsize=14)\n",
    "mpl.rc('xtick', labelsize=12)\n",
    "mpl.rc('ytick', labelsize=12)\n",
    "import warnings\n",
    "warnings.filterwarnings(action=\"ignore\")\n",
    "np.random.seed(42)\n",
    "from sklearn.metrics import mean_squared_error\n",
    "def mean_absolute_percentage_error(y_true, y_pred): \n",
    "    y_true, y_pred = np.array(y_true), np.array(y_pred)\n",
    "    return np.mean(np.abs((y_true - y_pred) / y_true)) * 100\n"
   ]
  },
  {
   "cell_type": "code",
   "execution_count": 3,
   "id": "77e835e3",
   "metadata": {},
   "outputs": [
    {
     "data": {
      "text/html": [
       "<div>\n",
       "<style scoped>\n",
       "    .dataframe tbody tr th:only-of-type {\n",
       "        vertical-align: middle;\n",
       "    }\n",
       "\n",
       "    .dataframe tbody tr th {\n",
       "        vertical-align: top;\n",
       "    }\n",
       "\n",
       "    .dataframe thead th {\n",
       "        text-align: right;\n",
       "    }\n",
       "</style>\n",
       "<table border=\"1\" class=\"dataframe\">\n",
       "  <thead>\n",
       "    <tr style=\"text-align: right;\">\n",
       "      <th></th>\n",
       "      <th>No</th>\n",
       "      <th>X1 transaction date</th>\n",
       "      <th>X2 house age</th>\n",
       "      <th>X3 distance to the nearest MRT station</th>\n",
       "      <th>X4 number of convenience stores</th>\n",
       "      <th>X5 latitude</th>\n",
       "      <th>X6 longitude</th>\n",
       "      <th>Y house price of unit area</th>\n",
       "    </tr>\n",
       "  </thead>\n",
       "  <tbody>\n",
       "    <tr>\n",
       "      <th>0</th>\n",
       "      <td>1</td>\n",
       "      <td>2012.917</td>\n",
       "      <td>32.0</td>\n",
       "      <td>84.87882</td>\n",
       "      <td>10</td>\n",
       "      <td>24.98298</td>\n",
       "      <td>121.54024</td>\n",
       "      <td>37.9</td>\n",
       "    </tr>\n",
       "    <tr>\n",
       "      <th>1</th>\n",
       "      <td>2</td>\n",
       "      <td>2012.917</td>\n",
       "      <td>19.5</td>\n",
       "      <td>306.59470</td>\n",
       "      <td>9</td>\n",
       "      <td>24.98034</td>\n",
       "      <td>121.53951</td>\n",
       "      <td>42.2</td>\n",
       "    </tr>\n",
       "    <tr>\n",
       "      <th>2</th>\n",
       "      <td>3</td>\n",
       "      <td>2013.583</td>\n",
       "      <td>13.3</td>\n",
       "      <td>561.98450</td>\n",
       "      <td>5</td>\n",
       "      <td>24.98746</td>\n",
       "      <td>121.54391</td>\n",
       "      <td>47.3</td>\n",
       "    </tr>\n",
       "    <tr>\n",
       "      <th>3</th>\n",
       "      <td>4</td>\n",
       "      <td>2013.500</td>\n",
       "      <td>13.3</td>\n",
       "      <td>561.98450</td>\n",
       "      <td>5</td>\n",
       "      <td>24.98746</td>\n",
       "      <td>121.54391</td>\n",
       "      <td>54.8</td>\n",
       "    </tr>\n",
       "    <tr>\n",
       "      <th>4</th>\n",
       "      <td>5</td>\n",
       "      <td>2012.833</td>\n",
       "      <td>5.0</td>\n",
       "      <td>390.56840</td>\n",
       "      <td>5</td>\n",
       "      <td>24.97937</td>\n",
       "      <td>121.54245</td>\n",
       "      <td>43.1</td>\n",
       "    </tr>\n",
       "  </tbody>\n",
       "</table>\n",
       "</div>"
      ],
      "text/plain": [
       "   No  X1 transaction date  X2 house age  \\\n",
       "0   1             2012.917          32.0   \n",
       "1   2             2012.917          19.5   \n",
       "2   3             2013.583          13.3   \n",
       "3   4             2013.500          13.3   \n",
       "4   5             2012.833           5.0   \n",
       "\n",
       "   X3 distance to the nearest MRT station  X4 number of convenience stores  \\\n",
       "0                                84.87882                               10   \n",
       "1                               306.59470                                9   \n",
       "2                               561.98450                                5   \n",
       "3                               561.98450                                5   \n",
       "4                               390.56840                                5   \n",
       "\n",
       "   X5 latitude  X6 longitude  Y house price of unit area  \n",
       "0     24.98298     121.54024                        37.9  \n",
       "1     24.98034     121.53951                        42.2  \n",
       "2     24.98746     121.54391                        47.3  \n",
       "3     24.98746     121.54391                        54.8  \n",
       "4     24.97937     121.54245                        43.1  "
      ]
     },
     "execution_count": 3,
     "metadata": {},
     "output_type": "execute_result"
    }
   ],
   "source": [
    "r_estate= pd.read_csv(\"./Real estate.csv\")\n",
    "r_estate.head()"
   ]
  },
  {
   "cell_type": "code",
   "execution_count": 4,
   "id": "10d0d9da",
   "metadata": {},
   "outputs": [
    {
     "name": "stdout",
     "output_type": "stream",
     "text": [
      "<class 'pandas.core.frame.DataFrame'>\n",
      "RangeIndex: 414 entries, 0 to 413\n",
      "Data columns (total 8 columns):\n",
      " #   Column                                  Non-Null Count  Dtype  \n",
      "---  ------                                  --------------  -----  \n",
      " 0   No                                      414 non-null    int64  \n",
      " 1   X1 transaction date                     414 non-null    float64\n",
      " 2   X2 house age                            414 non-null    float64\n",
      " 3   X3 distance to the nearest MRT station  414 non-null    float64\n",
      " 4   X4 number of convenience stores         414 non-null    int64  \n",
      " 5   X5 latitude                             414 non-null    float64\n",
      " 6   X6 longitude                            414 non-null    float64\n",
      " 7   Y house price of unit area              414 non-null    float64\n",
      "dtypes: float64(6), int64(2)\n",
      "memory usage: 26.0 KB\n"
     ]
    }
   ],
   "source": [
    "r_estate.info()"
   ]
  },
  {
   "cell_type": "code",
   "execution_count": 5,
   "id": "0b11fab4",
   "metadata": {},
   "outputs": [],
   "source": [
    "r_estate.set_index('No',drop=True,inplace=True)"
   ]
  },
  {
   "cell_type": "code",
   "execution_count": 6,
   "id": "ab1b8525",
   "metadata": {
    "scrolled": true
   },
   "outputs": [
    {
     "data": {
      "text/html": [
       "<div>\n",
       "<style scoped>\n",
       "    .dataframe tbody tr th:only-of-type {\n",
       "        vertical-align: middle;\n",
       "    }\n",
       "\n",
       "    .dataframe tbody tr th {\n",
       "        vertical-align: top;\n",
       "    }\n",
       "\n",
       "    .dataframe thead th {\n",
       "        text-align: right;\n",
       "    }\n",
       "</style>\n",
       "<table border=\"1\" class=\"dataframe\">\n",
       "  <thead>\n",
       "    <tr style=\"text-align: right;\">\n",
       "      <th></th>\n",
       "      <th>X1 transaction date</th>\n",
       "      <th>X2 house age</th>\n",
       "      <th>X3 distance to the nearest MRT station</th>\n",
       "      <th>X4 number of convenience stores</th>\n",
       "      <th>X5 latitude</th>\n",
       "      <th>X6 longitude</th>\n",
       "      <th>Y house price of unit area</th>\n",
       "    </tr>\n",
       "    <tr>\n",
       "      <th>No</th>\n",
       "      <th></th>\n",
       "      <th></th>\n",
       "      <th></th>\n",
       "      <th></th>\n",
       "      <th></th>\n",
       "      <th></th>\n",
       "      <th></th>\n",
       "    </tr>\n",
       "  </thead>\n",
       "  <tbody>\n",
       "    <tr>\n",
       "      <th>1</th>\n",
       "      <td>2012.917</td>\n",
       "      <td>32.0</td>\n",
       "      <td>84.87882</td>\n",
       "      <td>10</td>\n",
       "      <td>24.98298</td>\n",
       "      <td>121.54024</td>\n",
       "      <td>37.9</td>\n",
       "    </tr>\n",
       "    <tr>\n",
       "      <th>2</th>\n",
       "      <td>2012.917</td>\n",
       "      <td>19.5</td>\n",
       "      <td>306.59470</td>\n",
       "      <td>9</td>\n",
       "      <td>24.98034</td>\n",
       "      <td>121.53951</td>\n",
       "      <td>42.2</td>\n",
       "    </tr>\n",
       "    <tr>\n",
       "      <th>3</th>\n",
       "      <td>2013.583</td>\n",
       "      <td>13.3</td>\n",
       "      <td>561.98450</td>\n",
       "      <td>5</td>\n",
       "      <td>24.98746</td>\n",
       "      <td>121.54391</td>\n",
       "      <td>47.3</td>\n",
       "    </tr>\n",
       "    <tr>\n",
       "      <th>4</th>\n",
       "      <td>2013.500</td>\n",
       "      <td>13.3</td>\n",
       "      <td>561.98450</td>\n",
       "      <td>5</td>\n",
       "      <td>24.98746</td>\n",
       "      <td>121.54391</td>\n",
       "      <td>54.8</td>\n",
       "    </tr>\n",
       "    <tr>\n",
       "      <th>5</th>\n",
       "      <td>2012.833</td>\n",
       "      <td>5.0</td>\n",
       "      <td>390.56840</td>\n",
       "      <td>5</td>\n",
       "      <td>24.97937</td>\n",
       "      <td>121.54245</td>\n",
       "      <td>43.1</td>\n",
       "    </tr>\n",
       "  </tbody>\n",
       "</table>\n",
       "</div>"
      ],
      "text/plain": [
       "    X1 transaction date  X2 house age  X3 distance to the nearest MRT station  \\\n",
       "No                                                                              \n",
       "1              2012.917          32.0                                84.87882   \n",
       "2              2012.917          19.5                               306.59470   \n",
       "3              2013.583          13.3                               561.98450   \n",
       "4              2013.500          13.3                               561.98450   \n",
       "5              2012.833           5.0                               390.56840   \n",
       "\n",
       "    X4 number of convenience stores  X5 latitude  X6 longitude  \\\n",
       "No                                                               \n",
       "1                                10     24.98298     121.54024   \n",
       "2                                 9     24.98034     121.53951   \n",
       "3                                 5     24.98746     121.54391   \n",
       "4                                 5     24.98746     121.54391   \n",
       "5                                 5     24.97937     121.54245   \n",
       "\n",
       "    Y house price of unit area  \n",
       "No                              \n",
       "1                         37.9  \n",
       "2                         42.2  \n",
       "3                         47.3  \n",
       "4                         54.8  \n",
       "5                         43.1  "
      ]
     },
     "execution_count": 6,
     "metadata": {},
     "output_type": "execute_result"
    }
   ],
   "source": [
    "r_estate.head() "
   ]
  },
  {
   "cell_type": "code",
   "execution_count": 7,
   "id": "eb19908e",
   "metadata": {},
   "outputs": [
    {
     "data": {
      "text/html": [
       "<div>\n",
       "<style scoped>\n",
       "    .dataframe tbody tr th:only-of-type {\n",
       "        vertical-align: middle;\n",
       "    }\n",
       "\n",
       "    .dataframe tbody tr th {\n",
       "        vertical-align: top;\n",
       "    }\n",
       "\n",
       "    .dataframe thead th {\n",
       "        text-align: right;\n",
       "    }\n",
       "</style>\n",
       "<table border=\"1\" class=\"dataframe\">\n",
       "  <thead>\n",
       "    <tr style=\"text-align: right;\">\n",
       "      <th></th>\n",
       "      <th>X1 transaction date</th>\n",
       "      <th>X2 house age</th>\n",
       "      <th>X3 distance to the nearest MRT station</th>\n",
       "      <th>X4 number of convenience stores</th>\n",
       "      <th>X5 latitude</th>\n",
       "      <th>X6 longitude</th>\n",
       "      <th>Y house price of unit area</th>\n",
       "    </tr>\n",
       "  </thead>\n",
       "  <tbody>\n",
       "    <tr>\n",
       "      <th>count</th>\n",
       "      <td>414.000000</td>\n",
       "      <td>414.000000</td>\n",
       "      <td>414.000000</td>\n",
       "      <td>414.000000</td>\n",
       "      <td>414.000000</td>\n",
       "      <td>414.000000</td>\n",
       "      <td>414.000000</td>\n",
       "    </tr>\n",
       "    <tr>\n",
       "      <th>mean</th>\n",
       "      <td>2013.148971</td>\n",
       "      <td>17.712560</td>\n",
       "      <td>1083.885689</td>\n",
       "      <td>4.094203</td>\n",
       "      <td>24.969030</td>\n",
       "      <td>121.533361</td>\n",
       "      <td>37.980193</td>\n",
       "    </tr>\n",
       "    <tr>\n",
       "      <th>std</th>\n",
       "      <td>0.281967</td>\n",
       "      <td>11.392485</td>\n",
       "      <td>1262.109595</td>\n",
       "      <td>2.945562</td>\n",
       "      <td>0.012410</td>\n",
       "      <td>0.015347</td>\n",
       "      <td>13.606488</td>\n",
       "    </tr>\n",
       "    <tr>\n",
       "      <th>min</th>\n",
       "      <td>2012.667000</td>\n",
       "      <td>0.000000</td>\n",
       "      <td>23.382840</td>\n",
       "      <td>0.000000</td>\n",
       "      <td>24.932070</td>\n",
       "      <td>121.473530</td>\n",
       "      <td>7.600000</td>\n",
       "    </tr>\n",
       "    <tr>\n",
       "      <th>25%</th>\n",
       "      <td>2012.917000</td>\n",
       "      <td>9.025000</td>\n",
       "      <td>289.324800</td>\n",
       "      <td>1.000000</td>\n",
       "      <td>24.963000</td>\n",
       "      <td>121.528085</td>\n",
       "      <td>27.700000</td>\n",
       "    </tr>\n",
       "    <tr>\n",
       "      <th>50%</th>\n",
       "      <td>2013.167000</td>\n",
       "      <td>16.100000</td>\n",
       "      <td>492.231300</td>\n",
       "      <td>4.000000</td>\n",
       "      <td>24.971100</td>\n",
       "      <td>121.538630</td>\n",
       "      <td>38.450000</td>\n",
       "    </tr>\n",
       "    <tr>\n",
       "      <th>75%</th>\n",
       "      <td>2013.417000</td>\n",
       "      <td>28.150000</td>\n",
       "      <td>1454.279000</td>\n",
       "      <td>6.000000</td>\n",
       "      <td>24.977455</td>\n",
       "      <td>121.543305</td>\n",
       "      <td>46.600000</td>\n",
       "    </tr>\n",
       "    <tr>\n",
       "      <th>max</th>\n",
       "      <td>2013.583000</td>\n",
       "      <td>43.800000</td>\n",
       "      <td>6488.021000</td>\n",
       "      <td>10.000000</td>\n",
       "      <td>25.014590</td>\n",
       "      <td>121.566270</td>\n",
       "      <td>117.500000</td>\n",
       "    </tr>\n",
       "  </tbody>\n",
       "</table>\n",
       "</div>"
      ],
      "text/plain": [
       "       X1 transaction date  X2 house age  \\\n",
       "count           414.000000    414.000000   \n",
       "mean           2013.148971     17.712560   \n",
       "std               0.281967     11.392485   \n",
       "min            2012.667000      0.000000   \n",
       "25%            2012.917000      9.025000   \n",
       "50%            2013.167000     16.100000   \n",
       "75%            2013.417000     28.150000   \n",
       "max            2013.583000     43.800000   \n",
       "\n",
       "       X3 distance to the nearest MRT station  \\\n",
       "count                              414.000000   \n",
       "mean                              1083.885689   \n",
       "std                               1262.109595   \n",
       "min                                 23.382840   \n",
       "25%                                289.324800   \n",
       "50%                                492.231300   \n",
       "75%                               1454.279000   \n",
       "max                               6488.021000   \n",
       "\n",
       "       X4 number of convenience stores  X5 latitude  X6 longitude  \\\n",
       "count                       414.000000   414.000000    414.000000   \n",
       "mean                          4.094203    24.969030    121.533361   \n",
       "std                           2.945562     0.012410      0.015347   \n",
       "min                           0.000000    24.932070    121.473530   \n",
       "25%                           1.000000    24.963000    121.528085   \n",
       "50%                           4.000000    24.971100    121.538630   \n",
       "75%                           6.000000    24.977455    121.543305   \n",
       "max                          10.000000    25.014590    121.566270   \n",
       "\n",
       "       Y house price of unit area  \n",
       "count                  414.000000  \n",
       "mean                    37.980193  \n",
       "std                     13.606488  \n",
       "min                      7.600000  \n",
       "25%                     27.700000  \n",
       "50%                     38.450000  \n",
       "75%                     46.600000  \n",
       "max                    117.500000  "
      ]
     },
     "execution_count": 7,
     "metadata": {},
     "output_type": "execute_result"
    }
   ],
   "source": [
    "r_estate.describe() "
   ]
  },
  {
   "cell_type": "code",
   "execution_count": 7,
   "id": "6c0280d8",
   "metadata": {},
   "outputs": [
    {
     "data": {
      "image/png": "[encoded data removed]",
      "text/plain": [
       "<Figure size 1440x1080 with 9 Axes>"
      ]
     },
     "metadata": {
      "needs_background": "light"
     },
     "output_type": "display_data"
    }
   ],
   "source": [
    "r_estate.hist(bins=50, figsize=(20,15))\n",
    "plt.show()"
   ]
  },
  {
   "cell_type": "code",
   "execution_count": 8,
   "id": "bc2758b1",
   "metadata": {},
   "outputs": [
    {
     "data": {
      "image/png": "[encoded data removed]",
      "text/plain": [
       "<Figure size 1080x1080 with 6 Axes>"
      ]
     },
     "metadata": {
      "needs_background": "light"
     },
     "output_type": "display_data"
    }
   ],
   "source": [
    "x1 = r_estate['X1 transaction date']\n",
    "x2 = r_estate['X2 house age']\n",
    "x3 = r_estate['X3 distance to the nearest MRT station']\n",
    "x4 = r_estate['X4 number of convenience stores']\n",
    "x5 = r_estate['X5 latitude']\n",
    "x6 = r_estate['X6 longitude']\n",
    "y1 = r_estate['Y house price of unit area']\n",
    "\n",
    "plt.figure(figsize = (15, 15))\n",
    "\n",
    "plt.subplot(2,3,1)\n",
    "plt.scatter(x1, y1)\n",
    "plt.xlabel('transaction date')\n",
    "plt.ylabel('house price of unit area')\n",
    "\n",
    "plt.subplot(2,3,2)\n",
    "plt.scatter(x2, y1)\n",
    "plt.xlabel('house age')\n",
    "plt.ylabel('house price of unit area')\n",
    "\n",
    "plt.subplot(2,3,3)\n",
    "plt.scatter(x3, y1)\n",
    "plt.xlabel('distance to the nearest MRT station')\n",
    "plt.ylabel('house price of unit area')\n",
    "\n",
    "plt.subplot(2,3,4)\n",
    "plt.scatter(x4, y1)\n",
    "plt.xlabel('# of convenience stores')\n",
    "plt.ylabel('house price of unit area')\n",
    "\n",
    "plt.subplot(2,3,5)\n",
    "plt.scatter(x5, y1)\n",
    "plt.xlabel('latitude')\n",
    "plt.ylabel('house price of unit area')\n",
    "\n",
    "plt.subplot(2,3,6)\n",
    "plt.scatter(x6, y1)\n",
    "plt.xlabel('longitude')\n",
    "plt.ylabel('house price of unit area')\n",
    "\n",
    "plt.show()"
   ]
  },
  {
   "cell_type": "code",
   "execution_count": 8,
   "id": "70a2dadc",
   "metadata": {
    "scrolled": true
   },
   "outputs": [
    {
     "data": {
      "image/png": "[encoded data removed]",
      "text/plain": [
       "<Figure size 576x720 with 1 Axes>"
      ]
     },
     "metadata": {
      "needs_background": "light"
     },
     "output_type": "display_data"
    }
   ],
   "source": [
    "r_estate.plot(kind=\"scatter\", y=\"X5 latitude\", x=\"X6 longitude\", alpha=0.4,figsize = (8,10))\n",
    "plt.show()"
   ]
  },
  {
   "cell_type": "code",
   "execution_count": 9,
   "id": "fc03464e",
   "metadata": {},
   "outputs": [
    {
     "data": {
      "image/png": "[encoded data removed]",
      "text/plain": [
       "<Figure size 720x720 with 2 Axes>"
      ]
     },
     "metadata": {
      "needs_background": "light"
     },
     "output_type": "display_data"
    }
   ],
   "source": [
    "r_estate.plot(kind=\"scatter\", x=\"X6 longitude\", y=\"X5 latitude\", alpha=0.8,\n",
    "    s=r_estate[\"X2 house age\"], label=\"house age\", figsize=(10,10),\n",
    "    c=\"Y house price of unit area\",cmap=plt.get_cmap(\"jet\"), colorbar=True)\n",
    "\n",
    "plt.legend()\n",
    "plt.show()"
   ]
  },
  {
   "cell_type": "code",
   "execution_count": 10,
   "id": "afc76cf7",
   "metadata": {},
   "outputs": [
    {
     "data": {
      "text/html": [
       "<div>\n",
       "<style scoped>\n",
       "    .dataframe tbody tr th:only-of-type {\n",
       "        vertical-align: middle;\n",
       "    }\n",
       "\n",
       "    .dataframe tbody tr th {\n",
       "        vertical-align: top;\n",
       "    }\n",
       "\n",
       "    .dataframe thead th {\n",
       "        text-align: right;\n",
       "    }\n",
       "</style>\n",
       "<table border=\"1\" class=\"dataframe\">\n",
       "  <thead>\n",
       "    <tr style=\"text-align: right;\">\n",
       "      <th></th>\n",
       "      <th>X1 transaction date</th>\n",
       "      <th>X2 house age</th>\n",
       "      <th>X3 distance to the nearest MRT station</th>\n",
       "      <th>X4 number of convenience stores</th>\n",
       "      <th>X5 latitude</th>\n",
       "      <th>X6 longitude</th>\n",
       "      <th>Y house price of unit area</th>\n",
       "    </tr>\n",
       "  </thead>\n",
       "  <tbody>\n",
       "    <tr>\n",
       "      <th>X1 transaction date</th>\n",
       "      <td>1.000000</td>\n",
       "      <td>0.017549</td>\n",
       "      <td>0.060880</td>\n",
       "      <td>0.009635</td>\n",
       "      <td>0.035058</td>\n",
       "      <td>-0.041082</td>\n",
       "      <td>0.087491</td>\n",
       "    </tr>\n",
       "    <tr>\n",
       "      <th>X2 house age</th>\n",
       "      <td>0.017549</td>\n",
       "      <td>1.000000</td>\n",
       "      <td>0.025622</td>\n",
       "      <td>0.049593</td>\n",
       "      <td>0.054420</td>\n",
       "      <td>-0.048520</td>\n",
       "      <td>-0.210567</td>\n",
       "    </tr>\n",
       "    <tr>\n",
       "      <th>X3 distance to the nearest MRT station</th>\n",
       "      <td>0.060880</td>\n",
       "      <td>0.025622</td>\n",
       "      <td>1.000000</td>\n",
       "      <td>-0.602519</td>\n",
       "      <td>-0.591067</td>\n",
       "      <td>-0.806317</td>\n",
       "      <td>-0.673613</td>\n",
       "    </tr>\n",
       "    <tr>\n",
       "      <th>X4 number of convenience stores</th>\n",
       "      <td>0.009635</td>\n",
       "      <td>0.049593</td>\n",
       "      <td>-0.602519</td>\n",
       "      <td>1.000000</td>\n",
       "      <td>0.444143</td>\n",
       "      <td>0.449099</td>\n",
       "      <td>0.571005</td>\n",
       "    </tr>\n",
       "    <tr>\n",
       "      <th>X5 latitude</th>\n",
       "      <td>0.035058</td>\n",
       "      <td>0.054420</td>\n",
       "      <td>-0.591067</td>\n",
       "      <td>0.444143</td>\n",
       "      <td>1.000000</td>\n",
       "      <td>0.412924</td>\n",
       "      <td>0.546307</td>\n",
       "    </tr>\n",
       "    <tr>\n",
       "      <th>X6 longitude</th>\n",
       "      <td>-0.041082</td>\n",
       "      <td>-0.048520</td>\n",
       "      <td>-0.806317</td>\n",
       "      <td>0.449099</td>\n",
       "      <td>0.412924</td>\n",
       "      <td>1.000000</td>\n",
       "      <td>0.523287</td>\n",
       "    </tr>\n",
       "    <tr>\n",
       "      <th>Y house price of unit area</th>\n",
       "      <td>0.087491</td>\n",
       "      <td>-0.210567</td>\n",
       "      <td>-0.673613</td>\n",
       "      <td>0.571005</td>\n",
       "      <td>0.546307</td>\n",
       "      <td>0.523287</td>\n",
       "      <td>1.000000</td>\n",
       "    </tr>\n",
       "  </tbody>\n",
       "</table>\n",
       "</div>"
      ],
      "text/plain": [
       "                                        X1 transaction date  X2 house age  \\\n",
       "X1 transaction date                                1.000000      0.017549   \n",
       "X2 house age                                       0.017549      1.000000   \n",
       "X3 distance to the nearest MRT station             0.060880      0.025622   \n",
       "X4 number of convenience stores                    0.009635      0.049593   \n",
       "X5 latitude                                        0.035058      0.054420   \n",
       "X6 longitude                                      -0.041082     -0.048520   \n",
       "Y house price of unit area                         0.087491     -0.210567   \n",
       "\n",
       "                                        X3 distance to the nearest MRT station  \\\n",
       "X1 transaction date                                                   0.060880   \n",
       "X2 house age                                                          0.025622   \n",
       "X3 distance to the nearest MRT station                                1.000000   \n",
       "X4 number of convenience stores                                      -0.602519   \n",
       "X5 latitude                                                          -0.591067   \n",
       "X6 longitude                                                         -0.806317   \n",
       "Y house price of unit area                                           -0.673613   \n",
       "\n",
       "                                        X4 number of convenience stores  \\\n",
       "X1 transaction date                                            0.009635   \n",
       "X2 house age                                                   0.049593   \n",
       "X3 distance to the nearest MRT station                        -0.602519   \n",
       "X4 number of convenience stores                                1.000000   \n",
       "X5 latitude                                                    0.444143   \n",
       "X6 longitude                                                   0.449099   \n",
       "Y house price of unit area                                     0.571005   \n",
       "\n",
       "                                        X5 latitude  X6 longitude  \\\n",
       "X1 transaction date                        0.035058     -0.041082   \n",
       "X2 house age                               0.054420     -0.048520   \n",
       "X3 distance to the nearest MRT station    -0.591067     -0.806317   \n",
       "X4 number of convenience stores            0.444143      0.449099   \n",
       "X5 latitude                                1.000000      0.412924   \n",
       "X6 longitude                               0.412924      1.000000   \n",
       "Y house price of unit area                 0.546307      0.523287   \n",
       "\n",
       "                                        Y house price of unit area  \n",
       "X1 transaction date                                       0.087491  \n",
       "X2 house age                                             -0.210567  \n",
       "X3 distance to the nearest MRT station                   -0.673613  \n",
       "X4 number of convenience stores                           0.571005  \n",
       "X5 latitude                                               0.546307  \n",
       "X6 longitude                                              0.523287  \n",
       "Y house price of unit area                                1.000000  "
      ]
     },
     "execution_count": 10,
     "metadata": {},
     "output_type": "execute_result"
    }
   ],
   "source": [
    "corr_matrix = r_estate.corr()\n",
    "corr_matrix"
   ]
  },
  {
   "cell_type": "code",
   "execution_count": 106,
   "id": "c9764d11",
   "metadata": {},
   "outputs": [
    {
     "data": {
      "text/plain": [
       "<AxesSubplot:>"
      ]
     },
     "execution_count": 106,
     "metadata": {},
     "output_type": "execute_result"
    },
    {
     "data": {
      "image/png": "[encoded data removed]",
      "text/plain": [
       "<Figure size 432x288 with 2 Axes>"
      ]
     },
     "metadata": {
      "needs_background": "light"
     },
     "output_type": "display_data"
    }
   ],
   "source": [
    "import seaborn as sns\n",
    "sns.heatmap(r_estate.corr(),annot=True)\n"
   ]
  },
  {
   "cell_type": "markdown",
   "id": "e57e0f28",
   "metadata": {},
   "source": [
    "# 2.prepare data for machine learning"
   ]
  },
  {
   "cell_type": "code",
   "execution_count": 9,
   "id": "e3528294",
   "metadata": {
    "scrolled": false
   },
   "outputs": [
    {
     "data": {
      "text/html": [
       "<div>\n",
       "<style scoped>\n",
       "    .dataframe tbody tr th:only-of-type {\n",
       "        vertical-align: middle;\n",
       "    }\n",
       "\n",
       "    .dataframe tbody tr th {\n",
       "        vertical-align: top;\n",
       "    }\n",
       "\n",
       "    .dataframe thead th {\n",
       "        text-align: right;\n",
       "    }\n",
       "</style>\n",
       "<table border=\"1\" class=\"dataframe\">\n",
       "  <thead>\n",
       "    <tr style=\"text-align: right;\">\n",
       "      <th></th>\n",
       "      <th>X1 transaction date</th>\n",
       "      <th>X2 house age</th>\n",
       "      <th>X3 distance to the nearest MRT station</th>\n",
       "      <th>X4 number of convenience stores</th>\n",
       "      <th>X5 latitude</th>\n",
       "      <th>X6 longitude</th>\n",
       "      <th>Y house price of unit area</th>\n",
       "    </tr>\n",
       "    <tr>\n",
       "      <th>No</th>\n",
       "      <th></th>\n",
       "      <th></th>\n",
       "      <th></th>\n",
       "      <th></th>\n",
       "      <th></th>\n",
       "      <th></th>\n",
       "      <th></th>\n",
       "    </tr>\n",
       "  </thead>\n",
       "  <tbody>\n",
       "    <tr>\n",
       "      <th>1</th>\n",
       "      <td>2012.917</td>\n",
       "      <td>32.0</td>\n",
       "      <td>84.87882</td>\n",
       "      <td>10</td>\n",
       "      <td>24.98298</td>\n",
       "      <td>121.54024</td>\n",
       "      <td>37.9</td>\n",
       "    </tr>\n",
       "    <tr>\n",
       "      <th>2</th>\n",
       "      <td>2012.917</td>\n",
       "      <td>19.5</td>\n",
       "      <td>306.59470</td>\n",
       "      <td>9</td>\n",
       "      <td>24.98034</td>\n",
       "      <td>121.53951</td>\n",
       "      <td>42.2</td>\n",
       "    </tr>\n",
       "    <tr>\n",
       "      <th>3</th>\n",
       "      <td>2013.583</td>\n",
       "      <td>13.3</td>\n",
       "      <td>561.98450</td>\n",
       "      <td>5</td>\n",
       "      <td>24.98746</td>\n",
       "      <td>121.54391</td>\n",
       "      <td>47.3</td>\n",
       "    </tr>\n",
       "    <tr>\n",
       "      <th>4</th>\n",
       "      <td>2013.500</td>\n",
       "      <td>13.3</td>\n",
       "      <td>561.98450</td>\n",
       "      <td>5</td>\n",
       "      <td>24.98746</td>\n",
       "      <td>121.54391</td>\n",
       "      <td>54.8</td>\n",
       "    </tr>\n",
       "    <tr>\n",
       "      <th>5</th>\n",
       "      <td>2012.833</td>\n",
       "      <td>5.0</td>\n",
       "      <td>390.56840</td>\n",
       "      <td>5</td>\n",
       "      <td>24.97937</td>\n",
       "      <td>121.54245</td>\n",
       "      <td>43.1</td>\n",
       "    </tr>\n",
       "    <tr>\n",
       "      <th>...</th>\n",
       "      <td>...</td>\n",
       "      <td>...</td>\n",
       "      <td>...</td>\n",
       "      <td>...</td>\n",
       "      <td>...</td>\n",
       "      <td>...</td>\n",
       "      <td>...</td>\n",
       "    </tr>\n",
       "    <tr>\n",
       "      <th>410</th>\n",
       "      <td>2013.000</td>\n",
       "      <td>13.7</td>\n",
       "      <td>4082.01500</td>\n",
       "      <td>0</td>\n",
       "      <td>24.94155</td>\n",
       "      <td>121.50381</td>\n",
       "      <td>15.4</td>\n",
       "    </tr>\n",
       "    <tr>\n",
       "      <th>411</th>\n",
       "      <td>2012.667</td>\n",
       "      <td>5.6</td>\n",
       "      <td>90.45606</td>\n",
       "      <td>9</td>\n",
       "      <td>24.97433</td>\n",
       "      <td>121.54310</td>\n",
       "      <td>50.0</td>\n",
       "    </tr>\n",
       "    <tr>\n",
       "      <th>412</th>\n",
       "      <td>2013.250</td>\n",
       "      <td>18.8</td>\n",
       "      <td>390.96960</td>\n",
       "      <td>7</td>\n",
       "      <td>24.97923</td>\n",
       "      <td>121.53986</td>\n",
       "      <td>40.6</td>\n",
       "    </tr>\n",
       "    <tr>\n",
       "      <th>413</th>\n",
       "      <td>2013.000</td>\n",
       "      <td>8.1</td>\n",
       "      <td>104.81010</td>\n",
       "      <td>5</td>\n",
       "      <td>24.96674</td>\n",
       "      <td>121.54067</td>\n",
       "      <td>52.5</td>\n",
       "    </tr>\n",
       "    <tr>\n",
       "      <th>414</th>\n",
       "      <td>2013.500</td>\n",
       "      <td>6.5</td>\n",
       "      <td>90.45606</td>\n",
       "      <td>9</td>\n",
       "      <td>24.97433</td>\n",
       "      <td>121.54310</td>\n",
       "      <td>63.9</td>\n",
       "    </tr>\n",
       "  </tbody>\n",
       "</table>\n",
       "<p>414 rows × 7 columns</p>\n",
       "</div>"
      ],
      "text/plain": [
       "     X1 transaction date  X2 house age  \\\n",
       "No                                       \n",
       "1               2012.917          32.0   \n",
       "2               2012.917          19.5   \n",
       "3               2013.583          13.3   \n",
       "4               2013.500          13.3   \n",
       "5               2012.833           5.0   \n",
       "..                   ...           ...   \n",
       "410             2013.000          13.7   \n",
       "411             2012.667           5.6   \n",
       "412             2013.250          18.8   \n",
       "413             2013.000           8.1   \n",
       "414             2013.500           6.5   \n",
       "\n",
       "     X3 distance to the nearest MRT station  X4 number of convenience stores  \\\n",
       "No                                                                             \n",
       "1                                  84.87882                               10   \n",
       "2                                 306.59470                                9   \n",
       "3                                 561.98450                                5   \n",
       "4                                 561.98450                                5   \n",
       "5                                 390.56840                                5   \n",
       "..                                      ...                              ...   \n",
       "410                              4082.01500                                0   \n",
       "411                                90.45606                                9   \n",
       "412                               390.96960                                7   \n",
       "413                               104.81010                                5   \n",
       "414                                90.45606                                9   \n",
       "\n",
       "     X5 latitude  X6 longitude  Y house price of unit area  \n",
       "No                                                          \n",
       "1       24.98298     121.54024                        37.9  \n",
       "2       24.98034     121.53951                        42.2  \n",
       "3       24.98746     121.54391                        47.3  \n",
       "4       24.98746     121.54391                        54.8  \n",
       "5       24.97937     121.54245                        43.1  \n",
       "..           ...           ...                         ...  \n",
       "410     24.94155     121.50381                        15.4  \n",
       "411     24.97433     121.54310                        50.0  \n",
       "412     24.97923     121.53986                        40.6  \n",
       "413     24.96674     121.54067                        52.5  \n",
       "414     24.97433     121.54310                        63.9  \n",
       "\n",
       "[414 rows x 7 columns]"
      ]
     },
     "execution_count": 9,
     "metadata": {},
     "output_type": "execute_result"
    }
   ],
   "source": [
    "r_estate\n"
   ]
  },
  {
   "cell_type": "code",
   "execution_count": 10,
   "id": "73c14602",
   "metadata": {},
   "outputs": [
    {
     "data": {
      "text/plain": [
       "X1 transaction date                       float64\n",
       "X2 house age                              float64\n",
       "X3 distance to the nearest MRT station    float64\n",
       "X4 number of convenience stores             int64\n",
       "X5 latitude                               float64\n",
       "X6 longitude                              float64\n",
       "Y house price of unit area                float64\n",
       "dtype: object"
      ]
     },
     "execution_count": 10,
     "metadata": {},
     "output_type": "execute_result"
    }
   ],
   "source": [
    "r_estate.dtypes\n"
   ]
  },
  {
   "cell_type": "code",
   "execution_count": 11,
   "id": "9552a030",
   "metadata": {},
   "outputs": [],
   "source": [
    "r_estate_labels=r_estate[\"Y house price of unit area\"].copy()\n",
    "r_estate = r_estate.drop(\"Y house price of unit area\", axis=1)\n"
   ]
  },
  {
   "cell_type": "code",
   "execution_count": 12,
   "id": "ec007907",
   "metadata": {},
   "outputs": [
    {
     "data": {
      "text/plain": [
       "X1 transaction date                       0\n",
       "X2 house age                              0\n",
       "X3 distance to the nearest MRT station    0\n",
       "X4 number of convenience stores           0\n",
       "X5 latitude                               0\n",
       "X6 longitude                              0\n",
       "dtype: int64"
      ]
     },
     "execution_count": 12,
     "metadata": {},
     "output_type": "execute_result"
    }
   ],
   "source": [
    "r_estate.isnull().sum()  #we don't have missing data ,that's great!\n"
   ]
  },
  {
   "cell_type": "code",
   "execution_count": 13,
   "id": "484ee2c3",
   "metadata": {},
   "outputs": [
    {
     "data": {
      "text/plain": [
       "(414, 6)"
      ]
     },
     "execution_count": 13,
     "metadata": {},
     "output_type": "execute_result"
    }
   ],
   "source": [
    "r_estate.shape\n"
   ]
  },
  {
   "cell_type": "markdown",
   "id": "1cf74272",
   "metadata": {},
   "source": [
    "# 2.1Transformation Pipelines"
   ]
  },
  {
   "cell_type": "code",
   "execution_count": 14,
   "id": "7f488151",
   "metadata": {},
   "outputs": [],
   "source": [
    "from sklearn.pipeline import Pipeline\n",
    "from sklearn.impute import SimpleImputer\n",
    "from sklearn.preprocessing import FunctionTransformer\n",
    "from sklearn.preprocessing import StandardScaler\n"
   ]
  },
  {
   "cell_type": "code",
   "execution_count": 15,
   "id": "efc306d9",
   "metadata": {},
   "outputs": [],
   "source": [
    "num_pipeline = Pipeline([      \n",
    "        ('std_scaler', StandardScaler())\n",
    "        ])                                     #this step to make the data set as scaler"
   ]
  },
  {
   "cell_type": "code",
   "execution_count": 16,
   "id": "2e494939",
   "metadata": {},
   "outputs": [],
   "source": [
    "r_estate_prepared = num_pipeline.fit_transform(r_estate)\n"
   ]
  },
  {
   "cell_type": "code",
   "execution_count": 17,
   "id": "d3046488",
   "metadata": {},
   "outputs": [
    {
     "data": {
      "text/plain": [
       "(414, 6)"
      ]
     },
     "execution_count": 17,
     "metadata": {},
     "output_type": "execute_result"
    }
   ],
   "source": [
    "r_estate_prepared.shape\n"
   ]
  },
  {
   "cell_type": "code",
   "execution_count": 18,
   "id": "811c11b7",
   "metadata": {},
   "outputs": [
    {
     "data": {
      "text/plain": [
       "numpy.ndarray"
      ]
     },
     "execution_count": 18,
     "metadata": {},
     "output_type": "execute_result"
    }
   ],
   "source": [
    "type(r_estate_prepared)\n"
   ]
  },
  {
   "cell_type": "code",
   "execution_count": 19,
   "id": "d8082284",
   "metadata": {},
   "outputs": [],
   "source": [
    "r_estate_prepared = pd.DataFrame(r_estate_prepared, columns = r_estate.columns)\n"
   ]
  },
  {
   "cell_type": "code",
   "execution_count": 20,
   "id": "15111694",
   "metadata": {},
   "outputs": [
    {
     "data": {
      "text/plain": [
       "X1 transaction date                       0\n",
       "X2 house age                              0\n",
       "X3 distance to the nearest MRT station    0\n",
       "X4 number of convenience stores           0\n",
       "X5 latitude                               0\n",
       "X6 longitude                              0\n",
       "dtype: int64"
      ]
     },
     "execution_count": 20,
     "metadata": {},
     "output_type": "execute_result"
    }
   ],
   "source": [
    "r_estate_prepared.isnull().sum()   #this step to check prepared data has no missing value.\n"
   ]
  },
  {
   "cell_type": "code",
   "execution_count": 21,
   "id": "69bea110",
   "metadata": {},
   "outputs": [
    {
     "data": {
      "text/html": [
       "<div>\n",
       "<style scoped>\n",
       "    .dataframe tbody tr th:only-of-type {\n",
       "        vertical-align: middle;\n",
       "    }\n",
       "\n",
       "    .dataframe tbody tr th {\n",
       "        vertical-align: top;\n",
       "    }\n",
       "\n",
       "    .dataframe thead th {\n",
       "        text-align: right;\n",
       "    }\n",
       "</style>\n",
       "<table border=\"1\" class=\"dataframe\">\n",
       "  <thead>\n",
       "    <tr style=\"text-align: right;\">\n",
       "      <th></th>\n",
       "      <th>X1 transaction date</th>\n",
       "      <th>X2 house age</th>\n",
       "      <th>X3 distance to the nearest MRT station</th>\n",
       "      <th>X4 number of convenience stores</th>\n",
       "      <th>X5 latitude</th>\n",
       "      <th>X6 longitude</th>\n",
       "    </tr>\n",
       "  </thead>\n",
       "  <tbody>\n",
       "    <tr>\n",
       "      <th>count</th>\n",
       "      <td>4.140000e+02</td>\n",
       "      <td>4.140000e+02</td>\n",
       "      <td>4.140000e+02</td>\n",
       "      <td>4.140000e+02</td>\n",
       "      <td>4.140000e+02</td>\n",
       "      <td>4.140000e+02</td>\n",
       "    </tr>\n",
       "    <tr>\n",
       "      <th>mean</th>\n",
       "      <td>3.705656e-13</td>\n",
       "      <td>-6.704245e-17</td>\n",
       "      <td>-1.161175e-16</td>\n",
       "      <td>-1.072679e-18</td>\n",
       "      <td>1.343228e-13</td>\n",
       "      <td>-1.614546e-12</td>\n",
       "    </tr>\n",
       "    <tr>\n",
       "      <th>std</th>\n",
       "      <td>1.001210e+00</td>\n",
       "      <td>1.001210e+00</td>\n",
       "      <td>1.001210e+00</td>\n",
       "      <td>1.001210e+00</td>\n",
       "      <td>1.001210e+00</td>\n",
       "      <td>1.001210e+00</td>\n",
       "    </tr>\n",
       "    <tr>\n",
       "      <th>min</th>\n",
       "      <td>-1.711384e+00</td>\n",
       "      <td>-1.556639e+00</td>\n",
       "      <td>-8.412787e-01</td>\n",
       "      <td>-1.391638e+00</td>\n",
       "      <td>-2.981805e+00</td>\n",
       "      <td>-3.903223e+00</td>\n",
       "    </tr>\n",
       "    <tr>\n",
       "      <th>25%</th>\n",
       "      <td>-8.236832e-01</td>\n",
       "      <td>-7.634921e-01</td>\n",
       "      <td>-6.303115e-01</td>\n",
       "      <td>-1.051734e+00</td>\n",
       "      <td>-4.864845e-01</td>\n",
       "      <td>-3.441981e-01</td>\n",
       "    </tr>\n",
       "    <tr>\n",
       "      <th>50%</th>\n",
       "      <td>6.401736e-02</td>\n",
       "      <td>-1.417172e-01</td>\n",
       "      <td>-4.693493e-01</td>\n",
       "      <td>-3.202000e-02</td>\n",
       "      <td>1.669943e-01</td>\n",
       "      <td>3.437301e-01</td>\n",
       "    </tr>\n",
       "    <tr>\n",
       "      <th>75%</th>\n",
       "      <td>9.517179e-01</td>\n",
       "      <td>9.172774e-01</td>\n",
       "      <td>2.938267e-01</td>\n",
       "      <td>6.477891e-01</td>\n",
       "      <td>6.796928e-01</td>\n",
       "      <td>6.487148e-01</td>\n",
       "    </tr>\n",
       "    <tr>\n",
       "      <th>max</th>\n",
       "      <td>1.541151e+00</td>\n",
       "      <td>2.292652e+00</td>\n",
       "      <td>4.287008e+00</td>\n",
       "      <td>2.007407e+00</td>\n",
       "      <td>3.675611e+00</td>\n",
       "      <td>2.146891e+00</td>\n",
       "    </tr>\n",
       "  </tbody>\n",
       "</table>\n",
       "</div>"
      ],
      "text/plain": [
       "       X1 transaction date  X2 house age  \\\n",
       "count         4.140000e+02  4.140000e+02   \n",
       "mean          3.705656e-13 -6.704245e-17   \n",
       "std           1.001210e+00  1.001210e+00   \n",
       "min          -1.711384e+00 -1.556639e+00   \n",
       "25%          -8.236832e-01 -7.634921e-01   \n",
       "50%           6.401736e-02 -1.417172e-01   \n",
       "75%           9.517179e-01  9.172774e-01   \n",
       "max           1.541151e+00  2.292652e+00   \n",
       "\n",
       "       X3 distance to the nearest MRT station  \\\n",
       "count                            4.140000e+02   \n",
       "mean                            -1.161175e-16   \n",
       "std                              1.001210e+00   \n",
       "min                             -8.412787e-01   \n",
       "25%                             -6.303115e-01   \n",
       "50%                             -4.693493e-01   \n",
       "75%                              2.938267e-01   \n",
       "max                              4.287008e+00   \n",
       "\n",
       "       X4 number of convenience stores   X5 latitude  X6 longitude  \n",
       "count                     4.140000e+02  4.140000e+02  4.140000e+02  \n",
       "mean                     -1.072679e-18  1.343228e-13 -1.614546e-12  \n",
       "std                       1.001210e+00  1.001210e+00  1.001210e+00  \n",
       "min                      -1.391638e+00 -2.981805e+00 -3.903223e+00  \n",
       "25%                      -1.051734e+00 -4.864845e-01 -3.441981e-01  \n",
       "50%                      -3.202000e-02  1.669943e-01  3.437301e-01  \n",
       "75%                       6.477891e-01  6.796928e-01  6.487148e-01  \n",
       "max                       2.007407e+00  3.675611e+00  2.146891e+00  "
      ]
     },
     "execution_count": 21,
     "metadata": {},
     "output_type": "execute_result"
    }
   ],
   "source": [
    "r_estate_prepared.describe()   #this table shows the std value is almost 1, the min value is near 0.\n"
   ]
  },
  {
   "cell_type": "code",
   "execution_count": 22,
   "id": "c0398111",
   "metadata": {},
   "outputs": [
    {
     "data": {
      "text/plain": [
       "pandas.core.series.Series"
      ]
     },
     "execution_count": 22,
     "metadata": {},
     "output_type": "execute_result"
    }
   ],
   "source": [
    "type(r_estate_labels)"
   ]
  },
  {
   "cell_type": "code",
   "execution_count": 23,
   "id": "0012ceeb",
   "metadata": {},
   "outputs": [
    {
     "data": {
      "text/plain": [
       "pandas.core.frame.DataFrame"
      ]
     },
     "execution_count": 23,
     "metadata": {},
     "output_type": "execute_result"
    }
   ],
   "source": [
    "type(r_estate_prepared)"
   ]
  },
  {
   "cell_type": "code",
   "execution_count": 24,
   "id": "0cb83dd2",
   "metadata": {},
   "outputs": [],
   "source": [
    "r_estate_labels=r_estate_labels.to_numpy()"
   ]
  },
  {
   "cell_type": "markdown",
   "id": "5c6b4f28",
   "metadata": {},
   "source": [
    " # 2.1.1linear regression (just use the orginal data set)"
   ]
  },
  {
   "cell_type": "code",
   "execution_count": 26,
   "id": "efe648cb",
   "metadata": {},
   "outputs": [
    {
     "data": {
      "text/html": [
       "<table class=\"simpletable\">\n",
       "<tr>\n",
       "        <td>Model:</td>               <td>OLS</td>         <td>Adj. R-squared:</td>     <td>0.576</td>  \n",
       "</tr>\n",
       "<tr>\n",
       "  <td>Dependent Variable:</td>         <td>y</td>               <td>AIC:</td>         <td>2987.9241</td>\n",
       "</tr>\n",
       "<tr>\n",
       "         <td>Date:</td>        <td>2022-11-08 11:24</td>        <td>BIC:</td>         <td>3016.1052</td>\n",
       "</tr>\n",
       "<tr>\n",
       "   <td>No. Observations:</td>         <td>414</td>         <td>Log-Likelihood:</td>    <td>-1487.0</td> \n",
       "</tr>\n",
       "<tr>\n",
       "       <td>Df Model:</td>              <td>6</td>           <td>F-statistic:</td>       <td>94.59</td>  \n",
       "</tr>\n",
       "<tr>\n",
       "     <td>Df Residuals:</td>           <td>407</td>       <td>Prob (F-statistic):</td> <td>4.86e-74</td> \n",
       "</tr>\n",
       "<tr>\n",
       "      <td>R-squared:</td>            <td>0.582</td>            <td>Scale:</td>         <td>78.458</td>  \n",
       "</tr>\n",
       "</table>\n",
       "<table class=\"simpletable\">\n",
       "<tr>\n",
       "                     <td></td>                     <th>Coef.</th>  <th>Std.Err.</th>    <th>t</th>     <th>P>|t|</th> <th>[0.025</th>  <th>0.975]</th> \n",
       "</tr>\n",
       "<tr>\n",
       "  <th>const</th>                                  <td>37.9802</td>  <td>0.4353</td>  <td>87.2445</td> <td>0.0000</td> <td>37.1244</td> <td>38.8360</td>\n",
       "</tr>\n",
       "<tr>\n",
       "  <th>X1 transaction date</th>                    <td>1.4493</td>   <td>0.4385</td>  <td>3.3051</td>  <td>0.0010</td> <td>0.5873</td>  <td>2.3113</td> \n",
       "</tr>\n",
       "<tr>\n",
       "  <th>X2 house age</th>                           <td>-3.0688</td>  <td>0.4384</td>  <td>-6.9995</td> <td>0.0000</td> <td>-3.9307</td> <td>-2.2069</td>\n",
       "</tr>\n",
       "<tr>\n",
       "  <th>X3 distance to the nearest MRT station</th> <td>-5.6568</td>  <td>0.9051</td>  <td>-6.2497</td> <td>0.0000</td> <td>-7.4361</td> <td>-3.8775</td>\n",
       "</tr>\n",
       "<tr>\n",
       "  <th>X4 number of convenience stores</th>        <td>3.3341</td>   <td>0.5536</td>  <td>6.0228</td>  <td>0.0000</td> <td>2.2459</td>  <td>4.4223</td> \n",
       "</tr>\n",
       "<tr>\n",
       "  <th>X5 latitude</th>                            <td>2.7948</td>   <td>0.5524</td>  <td>5.0592</td>  <td>0.0000</td> <td>1.7088</td>  <td>3.8807</td> \n",
       "</tr>\n",
       "<tr>\n",
       "  <th>X6 longitude</th>                           <td>-0.1904</td>  <td>0.7447</td>  <td>-0.2557</td> <td>0.7983</td> <td>-1.6544</td> <td>1.2735</td> \n",
       "</tr>\n",
       "</table>\n",
       "<table class=\"simpletable\">\n",
       "<tr>\n",
       "     <td>Omnibus:</td>    <td>231.634</td>  <td>Durbin-Watson:</td>     <td>2.153</td> \n",
       "</tr>\n",
       "<tr>\n",
       "  <td>Prob(Omnibus):</td>  <td>0.000</td>  <td>Jarque-Bera (JB):</td> <td>3599.138</td>\n",
       "</tr>\n",
       "<tr>\n",
       "       <td>Skew:</td>      <td>2.026</td>      <td>Prob(JB):</td>       <td>0.000</td> \n",
       "</tr>\n",
       "<tr>\n",
       "     <td>Kurtosis:</td>   <td>16.865</td>   <td>Condition No.:</td>       <td>4</td>   \n",
       "</tr>\n",
       "</table>"
      ],
      "text/plain": [
       "<class 'statsmodels.iolib.summary2.Summary'>\n",
       "\"\"\"\n",
       "                           Results: Ordinary least squares\n",
       "======================================================================================\n",
       "Model:                      OLS                    Adj. R-squared:           0.576    \n",
       "Dependent Variable:         y                      AIC:                      2987.9241\n",
       "Date:                       2022-11-08 11:24       BIC:                      3016.1052\n",
       "No. Observations:           414                    Log-Likelihood:           -1487.0  \n",
       "Df Model:                   6                      F-statistic:              94.59    \n",
       "Df Residuals:               407                    Prob (F-statistic):       4.86e-74 \n",
       "R-squared:                  0.582                  Scale:                    78.458   \n",
       "--------------------------------------------------------------------------------------\n",
       "                                        Coef.  Std.Err.    t    P>|t|   [0.025  0.975]\n",
       "--------------------------------------------------------------------------------------\n",
       "const                                  37.9802   0.4353 87.2445 0.0000 37.1244 38.8360\n",
       "X1 transaction date                     1.4493   0.4385  3.3051 0.0010  0.5873  2.3113\n",
       "X2 house age                           -3.0688   0.4384 -6.9995 0.0000 -3.9307 -2.2069\n",
       "X3 distance to the nearest MRT station -5.6568   0.9051 -6.2497 0.0000 -7.4361 -3.8775\n",
       "X4 number of convenience stores         3.3341   0.5536  6.0228 0.0000  2.2459  4.4223\n",
       "X5 latitude                             2.7948   0.5524  5.0592 0.0000  1.7088  3.8807\n",
       "X6 longitude                           -0.1904   0.7447 -0.2557 0.7983 -1.6544  1.2735\n",
       "--------------------------------------------------------------------------------------\n",
       "Omnibus:                    231.634             Durbin-Watson:                2.153   \n",
       "Prob(Omnibus):              0.000               Jarque-Bera (JB):             3599.138\n",
       "Skew:                       2.026               Prob(JB):                     0.000   \n",
       "Kurtosis:                   16.865              Condition No.:                4       \n",
       "======================================================================================\n",
       "\n",
       "\"\"\""
      ]
     },
     "execution_count": 26,
     "metadata": {},
     "output_type": "execute_result"
    }
   ],
   "source": [
    "import statsmodels.api as sm\n",
    "X_const = sm.add_constant(r_estate_prepared)\n",
    "OLS_model = sm.OLS(r_estate_labels,X_const)\n",
    "lr_fit = OLS_model.fit()\n",
    "lr_fit.summary2()\n",
    "\n"
   ]
  },
  {
   "cell_type": "code",
   "execution_count": 27,
   "id": "6a4ef3e1",
   "metadata": {},
   "outputs": [
    {
     "data": {
      "text/html": [
       "<div>\n",
       "<style scoped>\n",
       "    .dataframe tbody tr th:only-of-type {\n",
       "        vertical-align: middle;\n",
       "    }\n",
       "\n",
       "    .dataframe tbody tr th {\n",
       "        vertical-align: top;\n",
       "    }\n",
       "\n",
       "    .dataframe thead th {\n",
       "        text-align: right;\n",
       "    }\n",
       "</style>\n",
       "<table border=\"1\" class=\"dataframe\">\n",
       "  <thead>\n",
       "    <tr style=\"text-align: right;\">\n",
       "      <th></th>\n",
       "      <th>X1 transaction date</th>\n",
       "      <th>X2 house age</th>\n",
       "      <th>X3 distance to the nearest MRT station</th>\n",
       "      <th>X4 number of convenience stores</th>\n",
       "      <th>X5 latitude</th>\n",
       "      <th>X6 longitude</th>\n",
       "    </tr>\n",
       "  </thead>\n",
       "  <tbody>\n",
       "    <tr>\n",
       "      <th>0</th>\n",
       "      <td>-0.823683</td>\n",
       "      <td>1.255628</td>\n",
       "      <td>-0.792495</td>\n",
       "      <td>2.007407</td>\n",
       "      <td>1.125430</td>\n",
       "      <td>0.448762</td>\n",
       "    </tr>\n",
       "    <tr>\n",
       "      <th>1</th>\n",
       "      <td>-0.823683</td>\n",
       "      <td>0.157086</td>\n",
       "      <td>-0.616612</td>\n",
       "      <td>1.667503</td>\n",
       "      <td>0.912444</td>\n",
       "      <td>0.401139</td>\n",
       "    </tr>\n",
       "    <tr>\n",
       "      <th>2</th>\n",
       "      <td>1.541151</td>\n",
       "      <td>-0.387791</td>\n",
       "      <td>-0.414015</td>\n",
       "      <td>0.307885</td>\n",
       "      <td>1.486860</td>\n",
       "      <td>0.688183</td>\n",
       "    </tr>\n",
       "    <tr>\n",
       "      <th>3</th>\n",
       "      <td>1.246435</td>\n",
       "      <td>-0.387791</td>\n",
       "      <td>-0.414015</td>\n",
       "      <td>0.307885</td>\n",
       "      <td>1.486860</td>\n",
       "      <td>0.688183</td>\n",
       "    </tr>\n",
       "    <tr>\n",
       "      <th>4</th>\n",
       "      <td>-1.121951</td>\n",
       "      <td>-1.117223</td>\n",
       "      <td>-0.549997</td>\n",
       "      <td>0.307885</td>\n",
       "      <td>0.834188</td>\n",
       "      <td>0.592937</td>\n",
       "    </tr>\n",
       "  </tbody>\n",
       "</table>\n",
       "</div>"
      ],
      "text/plain": [
       "   X1 transaction date  X2 house age  X3 distance to the nearest MRT station  \\\n",
       "0            -0.823683      1.255628                               -0.792495   \n",
       "1            -0.823683      0.157086                               -0.616612   \n",
       "2             1.541151     -0.387791                               -0.414015   \n",
       "3             1.246435     -0.387791                               -0.414015   \n",
       "4            -1.121951     -1.117223                               -0.549997   \n",
       "\n",
       "   X4 number of convenience stores  X5 latitude  X6 longitude  \n",
       "0                         2.007407     1.125430      0.448762  \n",
       "1                         1.667503     0.912444      0.401139  \n",
       "2                         0.307885     1.486860      0.688183  \n",
       "3                         0.307885     1.486860      0.688183  \n",
       "4                         0.307885     0.834188      0.592937  "
      ]
     },
     "execution_count": 27,
     "metadata": {},
     "output_type": "execute_result"
    }
   ],
   "source": [
    "r_estate_prepared.head()"
   ]
  },
  {
   "cell_type": "markdown",
   "id": "4b3a10a0",
   "metadata": {},
   "source": [
    "# use PCA to reduce dimension, extract info and, solve multicollinearity"
   ]
  },
  {
   "cell_type": "code",
   "execution_count": 28,
   "id": "3209af2d",
   "metadata": {},
   "outputs": [],
   "source": [
    "from statsmodels.stats.outliers_influence import variance_inflation_factor\n",
    "\n",
    "r_estate_prepared_VIF = {}\n",
    "\n",
    "for i in range(r_estate_prepared.shape[1]):\n",
    "    r_estate_prepared_VIF[r_estate_prepared.columns[i]] = variance_inflation_factor(r_estate_prepared.values, i)"
   ]
  },
  {
   "cell_type": "code",
   "execution_count": 29,
   "id": "a0549c8a",
   "metadata": {},
   "outputs": [
    {
     "data": {
      "text/plain": [
       "{'X1 transaction date': 1.0146736235676819,\n",
       " 'X2 house age': 1.0142867648104992,\n",
       " 'X3 distance to the nearest MRT station': 4.323019469033114,\n",
       " 'X4 number of convenience stores': 1.617037748505585,\n",
       " 'X5 latitude': 1.6102343933412469,\n",
       " 'X6 longitude': 2.926302102890358}"
      ]
     },
     "execution_count": 29,
     "metadata": {},
     "output_type": "execute_result"
    }
   ],
   "source": [
    "r_estate_prepared_VIF"
   ]
  },
  {
   "cell_type": "code",
   "execution_count": 30,
   "id": "f66707ac",
   "metadata": {},
   "outputs": [
    {
     "data": {
      "text/plain": [
       "PCA()"
      ]
     },
     "execution_count": 30,
     "metadata": {},
     "output_type": "execute_result"
    }
   ],
   "source": [
    "from sklearn.decomposition import PCA, KernelPCA\n",
    "pca = PCA(n_components = None) \n",
    "pca.fit(r_estate_prepared)"
   ]
  },
  {
   "cell_type": "code",
   "execution_count": 31,
   "id": "4c4fd075",
   "metadata": {},
   "outputs": [
    {
     "name": "stdout",
     "output_type": "stream",
     "text": [
      "Variances (Percentage):\n",
      "[44.57320963 17.4571358  16.38282284  9.92428447  9.1603346   2.50221266]\n",
      "\n"
     ]
    }
   ],
   "source": [
    "print(\"Variances (Percentage):\")\n",
    "print(pca.explained_variance_ratio_ * 100)\n",
    "print()"
   ]
  },
  {
   "cell_type": "code",
   "execution_count": 32,
   "id": "516e095e",
   "metadata": {},
   "outputs": [
    {
     "name": "stdout",
     "output_type": "stream",
     "text": [
      "Cumulative Variances (Percentage):\n",
      "[ 44.57320963  62.03034543  78.41316827  88.33745275  97.49778734\n",
      " 100.        ]\n",
      "\n"
     ]
    }
   ],
   "source": [
    "print(\"Cumulative Variances (Percentage):\")\n",
    "print(pca.explained_variance_ratio_.cumsum() * 100)\n",
    "print()"
   ]
  },
  {
   "cell_type": "code",
   "execution_count": 33,
   "id": "d8737905",
   "metadata": {},
   "outputs": [
    {
     "data": {
      "text/plain": [
       "<matplotlib.collections.LineCollection at 0x1335ac250>"
      ]
     },
     "execution_count": 33,
     "metadata": {},
     "output_type": "execute_result"
    },
    {
     "data": {
      "image/png": "[encoded data removed]",
      "text/plain": [
       "<Figure size 432x288 with 1 Axes>"
      ]
     },
     "metadata": {
      "needs_background": "light"
     },
     "output_type": "display_data"
    }
   ],
   "source": [
    "components =  None\n",
    "components = len(pca.explained_variance_ratio_) if components is None else components\n",
    "plt.plot(range(1,components+1), np.cumsum(pca.explained_variance_ratio_ * 100))\n",
    "plt.xlabel(\"Number of components\")\n",
    "plt.ylabel(\"Explained variance (%)\")\n",
    "plt.vlines(x = 5, ymin = 20, ymax = 100, color = \"red\")"
   ]
  },
  {
   "cell_type": "markdown",
   "id": "fb1bed3f",
   "metadata": {},
   "source": [
    "### we use pca to transform r_estate_prepared as r_estate_in data set."
   ]
  },
  {
   "cell_type": "code",
   "execution_count": 34,
   "id": "092c282c",
   "metadata": {},
   "outputs": [
    {
     "name": "stdout",
     "output_type": "stream",
     "text": [
      "(414, 6)\n"
     ]
    },
    {
     "data": {
      "text/html": [
       "<div>\n",
       "<style scoped>\n",
       "    .dataframe tbody tr th:only-of-type {\n",
       "        vertical-align: middle;\n",
       "    }\n",
       "\n",
       "    .dataframe tbody tr th {\n",
       "        vertical-align: top;\n",
       "    }\n",
       "\n",
       "    .dataframe thead th {\n",
       "        text-align: right;\n",
       "    }\n",
       "</style>\n",
       "<table border=\"1\" class=\"dataframe\">\n",
       "  <thead>\n",
       "    <tr style=\"text-align: right;\">\n",
       "      <th></th>\n",
       "      <th>X1 transaction date</th>\n",
       "      <th>X2 house age</th>\n",
       "      <th>X3 distance to the nearest MRT station</th>\n",
       "      <th>X4 number of convenience stores</th>\n",
       "      <th>X5 latitude</th>\n",
       "      <th>X6 longitude</th>\n",
       "    </tr>\n",
       "    <tr>\n",
       "      <th>No</th>\n",
       "      <th></th>\n",
       "      <th></th>\n",
       "      <th></th>\n",
       "      <th></th>\n",
       "      <th></th>\n",
       "      <th></th>\n",
       "    </tr>\n",
       "  </thead>\n",
       "  <tbody>\n",
       "    <tr>\n",
       "      <th>1</th>\n",
       "      <td>2012.917</td>\n",
       "      <td>32.0</td>\n",
       "      <td>84.87882</td>\n",
       "      <td>10</td>\n",
       "      <td>24.98298</td>\n",
       "      <td>121.54024</td>\n",
       "    </tr>\n",
       "    <tr>\n",
       "      <th>2</th>\n",
       "      <td>2012.917</td>\n",
       "      <td>19.5</td>\n",
       "      <td>306.59470</td>\n",
       "      <td>9</td>\n",
       "      <td>24.98034</td>\n",
       "      <td>121.53951</td>\n",
       "    </tr>\n",
       "    <tr>\n",
       "      <th>3</th>\n",
       "      <td>2013.583</td>\n",
       "      <td>13.3</td>\n",
       "      <td>561.98450</td>\n",
       "      <td>5</td>\n",
       "      <td>24.98746</td>\n",
       "      <td>121.54391</td>\n",
       "    </tr>\n",
       "    <tr>\n",
       "      <th>4</th>\n",
       "      <td>2013.500</td>\n",
       "      <td>13.3</td>\n",
       "      <td>561.98450</td>\n",
       "      <td>5</td>\n",
       "      <td>24.98746</td>\n",
       "      <td>121.54391</td>\n",
       "    </tr>\n",
       "    <tr>\n",
       "      <th>5</th>\n",
       "      <td>2012.833</td>\n",
       "      <td>5.0</td>\n",
       "      <td>390.56840</td>\n",
       "      <td>5</td>\n",
       "      <td>24.97937</td>\n",
       "      <td>121.54245</td>\n",
       "    </tr>\n",
       "  </tbody>\n",
       "</table>\n",
       "</div>"
      ],
      "text/plain": [
       "    X1 transaction date  X2 house age  X3 distance to the nearest MRT station  \\\n",
       "No                                                                              \n",
       "1              2012.917          32.0                                84.87882   \n",
       "2              2012.917          19.5                               306.59470   \n",
       "3              2013.583          13.3                               561.98450   \n",
       "4              2013.500          13.3                               561.98450   \n",
       "5              2012.833           5.0                               390.56840   \n",
       "\n",
       "    X4 number of convenience stores  X5 latitude  X6 longitude  \n",
       "No                                                              \n",
       "1                                10     24.98298     121.54024  \n",
       "2                                 9     24.98034     121.53951  \n",
       "3                                 5     24.98746     121.54391  \n",
       "4                                 5     24.98746     121.54391  \n",
       "5                                 5     24.97937     121.54245  "
      ]
     },
     "execution_count": 34,
     "metadata": {},
     "output_type": "execute_result"
    }
   ],
   "source": [
    "r_estate_in = pd.DataFrame(pca.transform(r_estate_prepared), columns = [\"comp_\" + str(i) for i in range(len(r_estate_prepared.columns))]).iloc[:, :6]\n",
    "print(r_estate_in.shape)\n",
    "r_estate.head()"
   ]
  },
  {
   "cell_type": "code",
   "execution_count": 35,
   "id": "a115ec90",
   "metadata": {},
   "outputs": [],
   "source": [
    "r_estate_prepared_VIF = {}\n",
    "\n",
    "for i in range(r_estate_in.shape[1]):\n",
    "    r_estate_prepared_VIF[r_estate_in.columns[i]] = variance_inflation_factor(r_estate_in.values, i)"
   ]
  },
  {
   "cell_type": "code",
   "execution_count": 36,
   "id": "7ad47d6f",
   "metadata": {},
   "outputs": [
    {
     "data": {
      "text/plain": [
       "{'comp_0': 1.0000000000000004,\n",
       " 'comp_1': 1.0000000000000002,\n",
       " 'comp_2': 0.9999999999999998,\n",
       " 'comp_3': 0.9999999999999996,\n",
       " 'comp_4': 1.0000000000000004,\n",
       " 'comp_5': 0.9999999999999991}"
      ]
     },
     "execution_count": 36,
     "metadata": {},
     "output_type": "execute_result"
    }
   ],
   "source": [
    "r_estate_prepared_VIF"
   ]
  },
  {
   "cell_type": "markdown",
   "id": "93b574e6",
   "metadata": {},
   "source": [
    "# let split data as training sets and test sets to see the final results(standard linear regression)"
   ]
  },
  {
   "cell_type": "code",
   "execution_count": 37,
   "id": "3fb98382",
   "metadata": {},
   "outputs": [],
   "source": [
    "from sklearn.model_selection import train_test_split\n",
    "X_train, X_test, y_train, y_test = train_test_split(r_estate_in, r_estate_labels, test_size=0.2, random_state=1234) "
   ]
  },
  {
   "cell_type": "code",
   "execution_count": 38,
   "id": "56e613ad",
   "metadata": {},
   "outputs": [
    {
     "data": {
      "text/plain": [
       "(331, 6)"
      ]
     },
     "execution_count": 38,
     "metadata": {},
     "output_type": "execute_result"
    }
   ],
   "source": [
    "X_train.shape"
   ]
  },
  {
   "cell_type": "markdown",
   "id": "d559df32",
   "metadata": {},
   "source": [
    "# let's do something back to prepare data ."
   ]
  },
  {
   "cell_type": "markdown",
   "id": "149a79ce",
   "metadata": {},
   "source": [
    "### by using combinations function, multiple 2 columns as new columns"
   ]
  },
  {
   "cell_type": "code",
   "execution_count": 40,
   "id": "1e2ccc72",
   "metadata": {},
   "outputs": [
    {
     "data": {
      "text/html": [
       "<div>\n",
       "<style scoped>\n",
       "    .dataframe tbody tr th:only-of-type {\n",
       "        vertical-align: middle;\n",
       "    }\n",
       "\n",
       "    .dataframe tbody tr th {\n",
       "        vertical-align: top;\n",
       "    }\n",
       "\n",
       "    .dataframe thead th {\n",
       "        text-align: right;\n",
       "    }\n",
       "</style>\n",
       "<table border=\"1\" class=\"dataframe\">\n",
       "  <thead>\n",
       "    <tr style=\"text-align: right;\">\n",
       "      <th></th>\n",
       "      <th>X1 transaction date</th>\n",
       "      <th>X2 house age</th>\n",
       "      <th>X3 distance to the nearest MRT station</th>\n",
       "      <th>X4 number of convenience stores</th>\n",
       "      <th>X5 latitude</th>\n",
       "      <th>X6 longitude</th>\n",
       "    </tr>\n",
       "  </thead>\n",
       "  <tbody>\n",
       "    <tr>\n",
       "      <th>0</th>\n",
       "      <td>-0.823683</td>\n",
       "      <td>1.255628</td>\n",
       "      <td>-0.792495</td>\n",
       "      <td>2.007407</td>\n",
       "      <td>1.125430</td>\n",
       "      <td>0.448762</td>\n",
       "    </tr>\n",
       "    <tr>\n",
       "      <th>1</th>\n",
       "      <td>-0.823683</td>\n",
       "      <td>0.157086</td>\n",
       "      <td>-0.616612</td>\n",
       "      <td>1.667503</td>\n",
       "      <td>0.912444</td>\n",
       "      <td>0.401139</td>\n",
       "    </tr>\n",
       "    <tr>\n",
       "      <th>2</th>\n",
       "      <td>1.541151</td>\n",
       "      <td>-0.387791</td>\n",
       "      <td>-0.414015</td>\n",
       "      <td>0.307885</td>\n",
       "      <td>1.486860</td>\n",
       "      <td>0.688183</td>\n",
       "    </tr>\n",
       "    <tr>\n",
       "      <th>3</th>\n",
       "      <td>1.246435</td>\n",
       "      <td>-0.387791</td>\n",
       "      <td>-0.414015</td>\n",
       "      <td>0.307885</td>\n",
       "      <td>1.486860</td>\n",
       "      <td>0.688183</td>\n",
       "    </tr>\n",
       "    <tr>\n",
       "      <th>4</th>\n",
       "      <td>-1.121951</td>\n",
       "      <td>-1.117223</td>\n",
       "      <td>-0.549997</td>\n",
       "      <td>0.307885</td>\n",
       "      <td>0.834188</td>\n",
       "      <td>0.592937</td>\n",
       "    </tr>\n",
       "  </tbody>\n",
       "</table>\n",
       "</div>"
      ],
      "text/plain": [
       "   X1 transaction date  X2 house age  X3 distance to the nearest MRT station  \\\n",
       "0            -0.823683      1.255628                               -0.792495   \n",
       "1            -0.823683      0.157086                               -0.616612   \n",
       "2             1.541151     -0.387791                               -0.414015   \n",
       "3             1.246435     -0.387791                               -0.414015   \n",
       "4            -1.121951     -1.117223                               -0.549997   \n",
       "\n",
       "   X4 number of convenience stores  X5 latitude  X6 longitude  \n",
       "0                         2.007407     1.125430      0.448762  \n",
       "1                         1.667503     0.912444      0.401139  \n",
       "2                         0.307885     1.486860      0.688183  \n",
       "3                         0.307885     1.486860      0.688183  \n",
       "4                         0.307885     0.834188      0.592937  "
      ]
     },
     "execution_count": 40,
     "metadata": {},
     "output_type": "execute_result"
    }
   ],
   "source": [
    "r_estate_prepared.head()"
   ]
  },
  {
   "cell_type": "code",
   "execution_count": 41,
   "id": "1f863cb9",
   "metadata": {},
   "outputs": [],
   "source": [
    "from itertools import combinations\n",
    "comb=combinations(r_estate_prepared.columns,2)\n",
    "combs=list(comb)\n"
   ]
  },
  {
   "cell_type": "code",
   "execution_count": 42,
   "id": "44bbb5df",
   "metadata": {},
   "outputs": [],
   "source": [
    "for i in combs:\n",
    "    new_col_i=i[0]+'_x_'+i[1]\n",
    "    r_estate_prepared[new_col_i] = r_estate_prepared[i[0]] * r_estate_prepared[i[1]]\n",
    "    "
   ]
  },
  {
   "cell_type": "code",
   "execution_count": 43,
   "id": "4f2b3904",
   "metadata": {},
   "outputs": [
    {
     "data": {
      "text/plain": [
       "(414, 21)"
      ]
     },
     "execution_count": 43,
     "metadata": {},
     "output_type": "execute_result"
    }
   ],
   "source": [
    "r_estate_prepared.shape"
   ]
  },
  {
   "cell_type": "code",
   "execution_count": 44,
   "id": "4e48de9e",
   "metadata": {},
   "outputs": [
    {
     "data": {
      "text/html": [
       "<table class=\"simpletable\">\n",
       "<tr>\n",
       "        <td>Model:</td>               <td>OLS</td>         <td>Adj. R-squared:</td>     <td>0.660</td>  \n",
       "</tr>\n",
       "<tr>\n",
       "  <td>Dependent Variable:</td>         <td>y</td>               <td>AIC:</td>         <td>2911.0740</td>\n",
       "</tr>\n",
       "<tr>\n",
       "         <td>Date:</td>        <td>2022-11-08 11:33</td>        <td>BIC:</td>         <td>2999.6430</td>\n",
       "</tr>\n",
       "<tr>\n",
       "   <td>No. Observations:</td>         <td>414</td>         <td>Log-Likelihood:</td>    <td>-1433.5</td> \n",
       "</tr>\n",
       "<tr>\n",
       "       <td>Df Model:</td>             <td>21</td>           <td>F-statistic:</td>       <td>39.19</td>  \n",
       "</tr>\n",
       "<tr>\n",
       "     <td>Df Residuals:</td>           <td>392</td>       <td>Prob (F-statistic):</td> <td>8.70e-83</td> \n",
       "</tr>\n",
       "<tr>\n",
       "      <td>R-squared:</td>            <td>0.677</td>            <td>Scale:</td>         <td>62.930</td>  \n",
       "</tr>\n",
       "</table>\n",
       "<table class=\"simpletable\">\n",
       "<tr>\n",
       "                                      <td></td>                                       <th>Coef.</th>  <th>Std.Err.</th>    <th>t</th>     <th>P>|t|</th>  <th>[0.025</th>   <th>0.975]</th> \n",
       "</tr>\n",
       "<tr>\n",
       "  <th>const</th>                                                                     <td>33.9877</td>  <td>0.7121</td>  <td>47.7269</td> <td>0.0000</td>  <td>32.5876</td>  <td>35.3877</td>\n",
       "</tr>\n",
       "<tr>\n",
       "  <th>X1 transaction date</th>                                                       <td>1.7199</td>   <td>0.3977</td>  <td>4.3251</td>  <td>0.0000</td>  <td>0.9381</td>   <td>2.5017</td> \n",
       "</tr>\n",
       "<tr>\n",
       "  <th>X2 house age</th>                                                              <td>-2.8019</td>  <td>0.4617</td>  <td>-6.0689</td> <td>0.0000</td>  <td>-3.7096</td>  <td>-1.8942</td>\n",
       "</tr>\n",
       "<tr>\n",
       "  <th>X3 distance to the nearest MRT station</th>                                   <td>-14.6522</td>  <td>1.9293</td>  <td>-7.5947</td> <td>0.0000</td> <td>-18.4452</td> <td>-10.8592</td>\n",
       "</tr>\n",
       "<tr>\n",
       "  <th>X4 number of convenience stores</th>                                           <td>-0.0096</td>  <td>0.8138</td>  <td>-0.0118</td> <td>0.9906</td>  <td>-1.6095</td>  <td>1.5903</td> \n",
       "</tr>\n",
       "<tr>\n",
       "  <th>X5 latitude</th>                                                               <td>3.2782</td>   <td>0.5718</td>  <td>5.7332</td>  <td>0.0000</td>  <td>2.1540</td>   <td>4.4023</td> \n",
       "</tr>\n",
       "<tr>\n",
       "  <th>X6 longitude</th>                                                              <td>-0.7601</td>  <td>1.3974</td>  <td>-0.5440</td> <td>0.5868</td>  <td>-3.5075</td>  <td>1.9873</td> \n",
       "</tr>\n",
       "<tr>\n",
       "  <th>X1 transaction date_x_X2 house age</th>                                        <td>0.3338</td>   <td>0.4105</td>  <td>0.8132</td>  <td>0.4166</td>  <td>-0.4732</td>  <td>1.1409</td> \n",
       "</tr>\n",
       "<tr>\n",
       "  <th>X1 transaction date_x_X3 distance to the nearest MRT station</th>              <td>-0.4155</td>  <td>0.8590</td>  <td>-0.4837</td> <td>0.6288</td>  <td>-2.1044</td>  <td>1.2733</td> \n",
       "</tr>\n",
       "<tr>\n",
       "  <th>X1 transaction date_x_X4 number of convenience stores</th>                     <td>-0.3179</td>  <td>0.5193</td>  <td>-0.6121</td> <td>0.5408</td>  <td>-1.3388</td>  <td>0.7031</td> \n",
       "</tr>\n",
       "<tr>\n",
       "  <th>X1 transaction date_x_X5 latitude</th>                                         <td>-0.0779</td>  <td>0.5621</td>  <td>-0.1386</td> <td>0.8898</td>  <td>-1.1830</td>  <td>1.0272</td> \n",
       "</tr>\n",
       "<tr>\n",
       "  <th>X1 transaction date_x_X6 longitude</th>                                        <td>-0.0749</td>  <td>0.7024</td>  <td>-0.1067</td> <td>0.9151</td>  <td>-1.4559</td>  <td>1.3061</td> \n",
       "</tr>\n",
       "<tr>\n",
       "  <th>X2 house age_x_X3 distance to the nearest MRT station</th>                     <td>0.1314</td>   <td>1.1365</td>  <td>0.1156</td>  <td>0.9080</td>  <td>-2.1030</td>  <td>2.3658</td> \n",
       "</tr>\n",
       "<tr>\n",
       "  <th>X2 house age_x_X4 number of convenience stores</th>                            <td>0.2962</td>   <td>0.4844</td>  <td>0.6115</td>  <td>0.5412</td>  <td>-0.6561</td>  <td>1.2486</td> \n",
       "</tr>\n",
       "<tr>\n",
       "  <th>X2 house age_x_X5 latitude</th>                                                <td>-0.4152</td>  <td>0.6283</td>  <td>-0.6608</td> <td>0.5091</td>  <td>-1.6504</td>  <td>0.8201</td> \n",
       "</tr>\n",
       "<tr>\n",
       "  <th>X2 house age_x_X6 longitude</th>                                               <td>-0.6443</td>  <td>1.0377</td>  <td>-0.6209</td> <td>0.5350</td>  <td>-2.6844</td>  <td>1.3958</td> \n",
       "</tr>\n",
       "<tr>\n",
       "  <th>X3 distance to the nearest MRT station_x_X4 number of convenience stores</th>  <td>-6.2213</td>  <td>1.4808</td>  <td>-4.2014</td> <td>0.0000</td>  <td>-9.1325</td>  <td>-3.3101</td>\n",
       "</tr>\n",
       "<tr>\n",
       "  <th>X3 distance to the nearest MRT station_x_X5 latitude</th>                      <td>-3.5959</td>  <td>1.0875</td>  <td>-3.3065</td> <td>0.0010</td>  <td>-5.7341</td>  <td>-1.4578</td>\n",
       "</tr>\n",
       "<tr>\n",
       "  <th>X3 distance to the nearest MRT station_x_X6 longitude</th>                     <td>-0.2658</td>  <td>0.5408</td>  <td>-0.4915</td> <td>0.6233</td>  <td>-1.3290</td>  <td>0.7974</td> \n",
       "</tr>\n",
       "<tr>\n",
       "  <th>X4 number of convenience stores_x_X5 latitude</th>                             <td>-3.9090</td>  <td>0.7935</td>  <td>-4.9260</td> <td>0.0000</td>  <td>-5.4691</td>  <td>-2.3489</td>\n",
       "</tr>\n",
       "<tr>\n",
       "  <th>X4 number of convenience stores_x_X6 longitude</th>                            <td>-0.6089</td>  <td>1.4950</td>  <td>-0.4073</td> <td>0.6840</td>  <td>-3.5482</td>  <td>2.3304</td> \n",
       "</tr>\n",
       "<tr>\n",
       "  <th>X5 latitude_x_X6 longitude</th>                                                <td>-0.2196</td>  <td>1.1414</td>  <td>-0.1924</td> <td>0.8476</td>  <td>-2.4636</td>  <td>2.0245</td> \n",
       "</tr>\n",
       "</table>\n",
       "<table class=\"simpletable\">\n",
       "<tr>\n",
       "     <td>Omnibus:</td>    <td>269.578</td>  <td>Durbin-Watson:</td>     <td>2.265</td> \n",
       "</tr>\n",
       "<tr>\n",
       "  <td>Prob(Omnibus):</td>  <td>0.000</td>  <td>Jarque-Bera (JB):</td> <td>6404.644</td>\n",
       "</tr>\n",
       "<tr>\n",
       "       <td>Skew:</td>      <td>2.347</td>      <td>Prob(JB):</td>       <td>0.000</td> \n",
       "</tr>\n",
       "<tr>\n",
       "     <td>Kurtosis:</td>   <td>21.688</td>   <td>Condition No.:</td>      <td>26</td>   \n",
       "</tr>\n",
       "</table>"
      ],
      "text/plain": [
       "<class 'statsmodels.iolib.summary2.Summary'>\n",
       "\"\"\"\n",
       "                                              Results: Ordinary least squares\n",
       "===========================================================================================================================\n",
       "Model:                                 OLS                                 Adj. R-squared:                        0.660    \n",
       "Dependent Variable:                    y                                   AIC:                                   2911.0740\n",
       "Date:                                  2022-11-08 11:33                    BIC:                                   2999.6430\n",
       "No. Observations:                      414                                 Log-Likelihood:                        -1433.5  \n",
       "Df Model:                              21                                  F-statistic:                           39.19    \n",
       "Df Residuals:                          392                                 Prob (F-statistic):                    8.70e-83 \n",
       "R-squared:                             0.677                               Scale:                                 62.930   \n",
       "---------------------------------------------------------------------------------------------------------------------------\n",
       "                                                                          Coef.   Std.Err.    t    P>|t|   [0.025   0.975] \n",
       "---------------------------------------------------------------------------------------------------------------------------\n",
       "const                                                                     33.9877   0.7121 47.7269 0.0000  32.5876  35.3877\n",
       "X1 transaction date                                                        1.7199   0.3977  4.3251 0.0000   0.9381   2.5017\n",
       "X2 house age                                                              -2.8019   0.4617 -6.0689 0.0000  -3.7096  -1.8942\n",
       "X3 distance to the nearest MRT station                                   -14.6522   1.9293 -7.5947 0.0000 -18.4452 -10.8592\n",
       "X4 number of convenience stores                                           -0.0096   0.8138 -0.0118 0.9906  -1.6095   1.5903\n",
       "X5 latitude                                                                3.2782   0.5718  5.7332 0.0000   2.1540   4.4023\n",
       "X6 longitude                                                              -0.7601   1.3974 -0.5440 0.5868  -3.5075   1.9873\n",
       "X1 transaction date_x_X2 house age                                         0.3338   0.4105  0.8132 0.4166  -0.4732   1.1409\n",
       "X1 transaction date_x_X3 distance to the nearest MRT station              -0.4155   0.8590 -0.4837 0.6288  -2.1044   1.2733\n",
       "X1 transaction date_x_X4 number of convenience stores                     -0.3179   0.5193 -0.6121 0.5408  -1.3388   0.7031\n",
       "X1 transaction date_x_X5 latitude                                         -0.0779   0.5621 -0.1386 0.8898  -1.1830   1.0272\n",
       "X1 transaction date_x_X6 longitude                                        -0.0749   0.7024 -0.1067 0.9151  -1.4559   1.3061\n",
       "X2 house age_x_X3 distance to the nearest MRT station                      0.1314   1.1365  0.1156 0.9080  -2.1030   2.3658\n",
       "X2 house age_x_X4 number of convenience stores                             0.2962   0.4844  0.6115 0.5412  -0.6561   1.2486\n",
       "X2 house age_x_X5 latitude                                                -0.4152   0.6283 -0.6608 0.5091  -1.6504   0.8201\n",
       "X2 house age_x_X6 longitude                                               -0.6443   1.0377 -0.6209 0.5350  -2.6844   1.3958\n",
       "X3 distance to the nearest MRT station_x_X4 number of convenience stores  -6.2213   1.4808 -4.2014 0.0000  -9.1325  -3.3101\n",
       "X3 distance to the nearest MRT station_x_X5 latitude                      -3.5959   1.0875 -3.3065 0.0010  -5.7341  -1.4578\n",
       "X3 distance to the nearest MRT station_x_X6 longitude                     -0.2658   0.5408 -0.4915 0.6233  -1.3290   0.7974\n",
       "X4 number of convenience stores_x_X5 latitude                             -3.9090   0.7935 -4.9260 0.0000  -5.4691  -2.3489\n",
       "X4 number of convenience stores_x_X6 longitude                            -0.6089   1.4950 -0.4073 0.6840  -3.5482   2.3304\n",
       "X5 latitude_x_X6 longitude                                                -0.2196   1.1414 -0.1924 0.8476  -2.4636   2.0245\n",
       "---------------------------------------------------------------------------------------------------------------------------\n",
       "Omnibus:                                 269.578                         Durbin-Watson:                            2.265   \n",
       "Prob(Omnibus):                           0.000                           Jarque-Bera (JB):                         6404.644\n",
       "Skew:                                    2.347                           Prob(JB):                                 0.000   \n",
       "Kurtosis:                                21.688                          Condition No.:                            26      \n",
       "===========================================================================================================================\n",
       "\n",
       "\"\"\""
      ]
     },
     "execution_count": 44,
     "metadata": {},
     "output_type": "execute_result"
    }
   ],
   "source": [
    "import statsmodels.api as sm\n",
    "X_const = sm.add_constant(r_estate_prepared)\n",
    "OLS_model = sm.OLS(r_estate_labels,X_const)\n",
    "lr_fit = OLS_model.fit()\n",
    "lr_fit.summary2()"
   ]
  },
  {
   "cell_type": "code",
   "execution_count": 93,
   "id": "7bba4f28",
   "metadata": {},
   "outputs": [],
   "source": [
    "from sklearn.model_selection import train_test_split\n",
    "X_train, X_test, y_train, y_test = train_test_split(r_estate_prepared, r_estate_labels, test_size=0.2, random_state=1234)"
   ]
  },
  {
   "cell_type": "code",
   "execution_count": 96,
   "id": "2aae6ea4",
   "metadata": {},
   "outputs": [
    {
     "data": {
      "text/html": [
       "<table class=\"simpletable\">\n",
       "<tr>\n",
       "        <td>Model:</td>               <td>OLS</td>         <td>Adj. R-squared:</td>     <td>0.696</td>  \n",
       "</tr>\n",
       "<tr>\n",
       "  <td>Dependent Variable:</td>         <td>y</td>               <td>AIC:</td>         <td>2281.3678</td>\n",
       "</tr>\n",
       "<tr>\n",
       "         <td>Date:</td>        <td>2022-11-08 15:11</td>        <td>BIC:</td>         <td>2365.0144</td>\n",
       "</tr>\n",
       "<tr>\n",
       "   <td>No. Observations:</td>         <td>331</td>         <td>Log-Likelihood:</td>    <td>-1118.7</td> \n",
       "</tr>\n",
       "<tr>\n",
       "       <td>Df Model:</td>             <td>21</td>           <td>F-statistic:</td>       <td>36.94</td>  \n",
       "</tr>\n",
       "<tr>\n",
       "     <td>Df Residuals:</td>           <td>309</td>       <td>Prob (F-statistic):</td> <td>1.75e-71</td> \n",
       "</tr>\n",
       "<tr>\n",
       "      <td>R-squared:</td>            <td>0.715</td>            <td>Scale:</td>         <td>54.072</td>  \n",
       "</tr>\n",
       "</table>\n",
       "<table class=\"simpletable\">\n",
       "<tr>\n",
       "                                      <td></td>                                       <th>Coef.</th>  <th>Std.Err.</th>    <th>t</th>     <th>P>|t|</th>  <th>[0.025</th>   <th>0.975]</th> \n",
       "</tr>\n",
       "<tr>\n",
       "  <th>const</th>                                                                     <td>34.0542</td>  <td>0.7295</td>  <td>46.6819</td> <td>0.0000</td>  <td>32.6188</td>  <td>35.4897</td>\n",
       "</tr>\n",
       "<tr>\n",
       "  <th>X1 transaction date</th>                                                       <td>1.6643</td>   <td>0.4156</td>  <td>4.0049</td>  <td>0.0001</td>  <td>0.8466</td>   <td>2.4820</td> \n",
       "</tr>\n",
       "<tr>\n",
       "  <th>X2 house age</th>                                                              <td>-2.4075</td>  <td>0.4805</td>  <td>-5.0105</td> <td>0.0000</td>  <td>-3.3530</td>  <td>-1.4621</td>\n",
       "</tr>\n",
       "<tr>\n",
       "  <th>X3 distance to the nearest MRT station</th>                                   <td>-14.4056</td>  <td>1.9803</td>  <td>-7.2743</td> <td>0.0000</td> <td>-18.3023</td> <td>-10.5089</td>\n",
       "</tr>\n",
       "<tr>\n",
       "  <th>X4 number of convenience stores</th>                                           <td>0.1410</td>   <td>0.8627</td>  <td>0.1634</td>  <td>0.8703</td>  <td>-1.5566</td>  <td>1.8385</td> \n",
       "</tr>\n",
       "<tr>\n",
       "  <th>X5 latitude</th>                                                               <td>3.4666</td>   <td>0.6084</td>  <td>5.6982</td>  <td>0.0000</td>  <td>2.2695</td>   <td>4.6636</td> \n",
       "</tr>\n",
       "<tr>\n",
       "  <th>X6 longitude</th>                                                              <td>-0.5723</td>  <td>1.4190</td>  <td>-0.4033</td> <td>0.6870</td>  <td>-3.3644</td>  <td>2.2198</td> \n",
       "</tr>\n",
       "<tr>\n",
       "  <th>X1 transaction date_x_X2 house age</th>                                        <td>0.5487</td>   <td>0.4393</td>  <td>1.2490</td>  <td>0.2126</td>  <td>-0.3157</td>  <td>1.4130</td> \n",
       "</tr>\n",
       "<tr>\n",
       "  <th>X1 transaction date_x_X3 distance to the nearest MRT station</th>              <td>0.1658</td>   <td>0.9597</td>  <td>0.1727</td>  <td>0.8630</td>  <td>-1.7227</td>  <td>2.0542</td> \n",
       "</tr>\n",
       "<tr>\n",
       "  <th>X1 transaction date_x_X4 number of convenience stores</th>                     <td>0.0508</td>   <td>0.5397</td>  <td>0.0942</td>  <td>0.9250</td>  <td>-1.0111</td>  <td>1.1128</td> \n",
       "</tr>\n",
       "<tr>\n",
       "  <th>X1 transaction date_x_X5 latitude</th>                                         <td>-0.3582</td>  <td>0.5918</td>  <td>-0.6053</td> <td>0.5454</td>  <td>-1.5226</td>  <td>0.8062</td> \n",
       "</tr>\n",
       "<tr>\n",
       "  <th>X1 transaction date_x_X6 longitude</th>                                        <td>0.5838</td>   <td>0.8010</td>  <td>0.7289</td>  <td>0.4666</td>  <td>-0.9923</td>  <td>2.1599</td> \n",
       "</tr>\n",
       "<tr>\n",
       "  <th>X2 house age_x_X3 distance to the nearest MRT station</th>                     <td>0.0094</td>   <td>1.1397</td>  <td>0.0082</td>  <td>0.9934</td>  <td>-2.2331</td>  <td>2.2519</td> \n",
       "</tr>\n",
       "<tr>\n",
       "  <th>X2 house age_x_X4 number of convenience stores</th>                            <td>-0.0681</td>  <td>0.4964</td>  <td>-0.1373</td> <td>0.8909</td>  <td>-1.0449</td>  <td>0.9086</td> \n",
       "</tr>\n",
       "<tr>\n",
       "  <th>X2 house age_x_X5 latitude</th>                                                <td>0.0027</td>   <td>0.6729</td>  <td>0.0040</td>  <td>0.9968</td>  <td>-1.3213</td>  <td>1.3266</td> \n",
       "</tr>\n",
       "<tr>\n",
       "  <th>X2 house age_x_X6 longitude</th>                                               <td>-0.5389</td>  <td>1.0422</td>  <td>-0.5171</td> <td>0.6054</td>  <td>-2.5897</td>  <td>1.5118</td> \n",
       "</tr>\n",
       "<tr>\n",
       "  <th>X3 distance to the nearest MRT station_x_X4 number of convenience stores</th>  <td>-6.3922</td>  <td>1.5064</td>  <td>-4.2433</td> <td>0.0000</td>  <td>-9.3563</td>  <td>-3.4281</td>\n",
       "</tr>\n",
       "<tr>\n",
       "  <th>X3 distance to the nearest MRT station_x_X5 latitude</th>                      <td>-3.6745</td>  <td>1.1690</td>  <td>-3.1433</td> <td>0.0018</td>  <td>-5.9747</td>  <td>-1.3743</td>\n",
       "</tr>\n",
       "<tr>\n",
       "  <th>X3 distance to the nearest MRT station_x_X6 longitude</th>                     <td>-0.3616</td>  <td>0.5241</td>  <td>-0.6899</td> <td>0.4908</td>  <td>-1.3929</td>  <td>0.6697</td> \n",
       "</tr>\n",
       "<tr>\n",
       "  <th>X4 number of convenience stores_x_X5 latitude</th>                             <td>-3.7150</td>  <td>0.8532</td>  <td>-4.3540</td> <td>0.0000</td>  <td>-5.3939</td>  <td>-2.0361</td>\n",
       "</tr>\n",
       "<tr>\n",
       "  <th>X4 number of convenience stores_x_X6 longitude</th>                            <td>-1.0441</td>  <td>1.5374</td>  <td>-0.6791</td> <td>0.4976</td>  <td>-4.0692</td>  <td>1.9811</td> \n",
       "</tr>\n",
       "<tr>\n",
       "  <th>X5 latitude_x_X6 longitude</th>                                                <td>-0.4228</td>  <td>1.2004</td>  <td>-0.3522</td> <td>0.7249</td>  <td>-2.7848</td>  <td>1.9392</td> \n",
       "</tr>\n",
       "</table>\n",
       "<table class=\"simpletable\">\n",
       "<tr>\n",
       "     <td>Omnibus:</td>    <td>69.850</td>  <td>Durbin-Watson:</td>    <td>2.062</td> \n",
       "</tr>\n",
       "<tr>\n",
       "  <td>Prob(Omnibus):</td>  <td>0.000</td> <td>Jarque-Bera (JB):</td> <td>343.001</td>\n",
       "</tr>\n",
       "<tr>\n",
       "       <td>Skew:</td>      <td>0.770</td>     <td>Prob(JB):</td>      <td>0.000</td> \n",
       "</tr>\n",
       "<tr>\n",
       "     <td>Kurtosis:</td>    <td>7.743</td>  <td>Condition No.:</td>     <td>26</td>   \n",
       "</tr>\n",
       "</table>"
      ],
      "text/plain": [
       "<class 'statsmodels.iolib.summary2.Summary'>\n",
       "\"\"\"\n",
       "                                              Results: Ordinary least squares\n",
       "===========================================================================================================================\n",
       "Model:                                 OLS                                 Adj. R-squared:                        0.696    \n",
       "Dependent Variable:                    y                                   AIC:                                   2281.3678\n",
       "Date:                                  2022-11-08 15:11                    BIC:                                   2365.0144\n",
       "No. Observations:                      331                                 Log-Likelihood:                        -1118.7  \n",
       "Df Model:                              21                                  F-statistic:                           36.94    \n",
       "Df Residuals:                          309                                 Prob (F-statistic):                    1.75e-71 \n",
       "R-squared:                             0.715                               Scale:                                 54.072   \n",
       "---------------------------------------------------------------------------------------------------------------------------\n",
       "                                                                          Coef.   Std.Err.    t    P>|t|   [0.025   0.975] \n",
       "---------------------------------------------------------------------------------------------------------------------------\n",
       "const                                                                     34.0542   0.7295 46.6819 0.0000  32.6188  35.4897\n",
       "X1 transaction date                                                        1.6643   0.4156  4.0049 0.0001   0.8466   2.4820\n",
       "X2 house age                                                              -2.4075   0.4805 -5.0105 0.0000  -3.3530  -1.4621\n",
       "X3 distance to the nearest MRT station                                   -14.4056   1.9803 -7.2743 0.0000 -18.3023 -10.5089\n",
       "X4 number of convenience stores                                            0.1410   0.8627  0.1634 0.8703  -1.5566   1.8385\n",
       "X5 latitude                                                                3.4666   0.6084  5.6982 0.0000   2.2695   4.6636\n",
       "X6 longitude                                                              -0.5723   1.4190 -0.4033 0.6870  -3.3644   2.2198\n",
       "X1 transaction date_x_X2 house age                                         0.5487   0.4393  1.2490 0.2126  -0.3157   1.4130\n",
       "X1 transaction date_x_X3 distance to the nearest MRT station               0.1658   0.9597  0.1727 0.8630  -1.7227   2.0542\n",
       "X1 transaction date_x_X4 number of convenience stores                      0.0508   0.5397  0.0942 0.9250  -1.0111   1.1128\n",
       "X1 transaction date_x_X5 latitude                                         -0.3582   0.5918 -0.6053 0.5454  -1.5226   0.8062\n",
       "X1 transaction date_x_X6 longitude                                         0.5838   0.8010  0.7289 0.4666  -0.9923   2.1599\n",
       "X2 house age_x_X3 distance to the nearest MRT station                      0.0094   1.1397  0.0082 0.9934  -2.2331   2.2519\n",
       "X2 house age_x_X4 number of convenience stores                            -0.0681   0.4964 -0.1373 0.8909  -1.0449   0.9086\n",
       "X2 house age_x_X5 latitude                                                 0.0027   0.6729  0.0040 0.9968  -1.3213   1.3266\n",
       "X2 house age_x_X6 longitude                                               -0.5389   1.0422 -0.5171 0.6054  -2.5897   1.5118\n",
       "X3 distance to the nearest MRT station_x_X4 number of convenience stores  -6.3922   1.5064 -4.2433 0.0000  -9.3563  -3.4281\n",
       "X3 distance to the nearest MRT station_x_X5 latitude                      -3.6745   1.1690 -3.1433 0.0018  -5.9747  -1.3743\n",
       "X3 distance to the nearest MRT station_x_X6 longitude                     -0.3616   0.5241 -0.6899 0.4908  -1.3929   0.6697\n",
       "X4 number of convenience stores_x_X5 latitude                             -3.7150   0.8532 -4.3540 0.0000  -5.3939  -2.0361\n",
       "X4 number of convenience stores_x_X6 longitude                            -1.0441   1.5374 -0.6791 0.4976  -4.0692   1.9811\n",
       "X5 latitude_x_X6 longitude                                                -0.4228   1.2004 -0.3522 0.7249  -2.7848   1.9392\n",
       "---------------------------------------------------------------------------------------------------------------------------\n",
       "Omnibus:                                 69.850                          Durbin-Watson:                             2.062  \n",
       "Prob(Omnibus):                           0.000                           Jarque-Bera (JB):                          343.001\n",
       "Skew:                                    0.770                           Prob(JB):                                  0.000  \n",
       "Kurtosis:                                7.743                           Condition No.:                             26     \n",
       "===========================================================================================================================\n",
       "\n",
       "\"\"\""
      ]
     },
     "execution_count": 96,
     "metadata": {},
     "output_type": "execute_result"
    }
   ],
   "source": [
    "X_const = sm.add_constant(X_train)\n",
    "OLS_model = sm.OLS(y_train,X_const)\n",
    "lr_fit = OLS_model.fit()\n",
    "lr_fit.summary2()"
   ]
  },
  {
   "cell_type": "code",
   "execution_count": 97,
   "id": "813e097b",
   "metadata": {},
   "outputs": [
    {
     "data": {
      "text/plain": [
       "9.979075338155242"
      ]
     },
     "execution_count": 97,
     "metadata": {},
     "output_type": "execute_result"
    }
   ],
   "source": [
    "r_estate_predictions = lr_fit.predict(sm.add_constant(X_test))\n",
    "lrmse= mean_squared_error(y_test, r_estate_predictions)\n",
    "lr_rmse = np.sqrt(lrmse)\n",
    "lr_rmse"
   ]
  },
  {
   "cell_type": "code",
   "execution_count": null,
   "id": "56adfbbd",
   "metadata": {},
   "outputs": [],
   "source": []
  },
  {
   "cell_type": "markdown",
   "id": "97082e4a",
   "metadata": {},
   "source": [
    "# Machine learning ----tree base regression"
   ]
  },
  {
   "cell_type": "code",
   "execution_count": 47,
   "id": "04006ddb",
   "metadata": {},
   "outputs": [
    {
     "data": {
      "text/plain": [
       "(414,)"
      ]
     },
     "execution_count": 47,
     "metadata": {},
     "output_type": "execute_result"
    }
   ],
   "source": [
    "r_estate_labels.shape"
   ]
  },
  {
   "cell_type": "code",
   "execution_count": 48,
   "id": "35dbd7fb",
   "metadata": {},
   "outputs": [
    {
     "data": {
      "text/plain": [
       "DecisionTreeRegressor(random_state=42)"
      ]
     },
     "execution_count": 48,
     "metadata": {},
     "output_type": "execute_result"
    }
   ],
   "source": [
    "from sklearn.tree import DecisionTreeRegressor\n",
    "\n",
    "tree_reg = DecisionTreeRegressor(random_state=42)\n",
    "tree_reg.fit(r_estate_in, r_estate_labels)"
   ]
  },
  {
   "cell_type": "code",
   "execution_count": 49,
   "id": "ba56d44e",
   "metadata": {},
   "outputs": [
    {
     "data": {
      "text/plain": [
       "0.7815659988945395"
      ]
     },
     "execution_count": 49,
     "metadata": {},
     "output_type": "execute_result"
    }
   ],
   "source": [
    "r_estate_predictions = tree_reg.predict(r_estate_in)\n",
    "tree_mse = mean_squared_error(r_estate_labels, r_estate_predictions)\n",
    "tree_rmse = np.sqrt(tree_mse)\n",
    "tree_rmse"
   ]
  },
  {
   "cell_type": "code",
   "execution_count": 50,
   "id": "941523ad",
   "metadata": {},
   "outputs": [
    {
     "data": {
      "text/plain": [
       "array([37.9, 42.2, 47.3, 54.8, 43.1, 32.1, 40.3, 46.7, 18.8, 22.1])"
      ]
     },
     "execution_count": 50,
     "metadata": {},
     "output_type": "execute_result"
    }
   ],
   "source": [
    "r_estate_predictions[:10]"
   ]
  },
  {
   "cell_type": "code",
   "execution_count": 51,
   "id": "77d7ffa4",
   "metadata": {},
   "outputs": [
    {
     "data": {
      "text/plain": [
       "0.5183839559915354"
      ]
     },
     "execution_count": 51,
     "metadata": {},
     "output_type": "execute_result"
    }
   ],
   "source": [
    "mean_absolute_percentage_error(r_estate_labels, r_estate_predictions)"
   ]
  },
  {
   "cell_type": "code",
   "execution_count": 52,
   "id": "d034a2e9",
   "metadata": {},
   "outputs": [
    {
     "data": {
      "text/plain": [
       "9.979075338155242"
      ]
     },
     "execution_count": 52,
     "metadata": {},
     "output_type": "execute_result"
    }
   ],
   "source": [
    "lr_predictions = lr_fit.predict(sm.add_constant(X_test))\n",
    "lr_mse = mean_squared_error(y_test, lr_predictions)\n",
    "lr_rmse = np.sqrt(lr_mse)\n",
    "lr_rmse"
   ]
  },
  {
   "cell_type": "code",
   "execution_count": 53,
   "id": "964e8ce7",
   "metadata": {},
   "outputs": [
    {
     "data": {
      "text/plain": [
       "RandomForestRegressor(n_estimators=50, random_state=42)"
      ]
     },
     "execution_count": 53,
     "metadata": {},
     "output_type": "execute_result"
    }
   ],
   "source": [
    "from sklearn.ensemble import RandomForestRegressor\n",
    "\n",
    "forest_reg = RandomForestRegressor(n_estimators=50, random_state=42)\n",
    "forest_reg.fit(X_train, y_train)"
   ]
  },
  {
   "cell_type": "code",
   "execution_count": 54,
   "id": "f7cb7fed",
   "metadata": {},
   "outputs": [
    {
     "data": {
      "text/plain": [
       "9.934324393160354"
      ]
     },
     "execution_count": 54,
     "metadata": {},
     "output_type": "execute_result"
    }
   ],
   "source": [
    "r_estate_predictions = forest_reg.predict(X_test)\n",
    "forest_mse = mean_squared_error(y_test, r_estate_predictions)\n",
    "forest_rmse = np.sqrt(forest_mse)\n",
    "forest_rmse"
   ]
  },
  {
   "cell_type": "code",
   "execution_count": 56,
   "id": "29a952ae",
   "metadata": {},
   "outputs": [],
   "source": [
    "from sklearn.metrics import r2_score"
   ]
  },
  {
   "cell_type": "code",
   "execution_count": 98,
   "id": "8d8c9ebd",
   "metadata": {},
   "outputs": [
    {
     "name": "stdout",
     "output_type": "stream",
     "text": [
      "Testing performance:\n",
      "R2: 0.54\n"
     ]
    }
   ],
   "source": [
    "lr_r2 = r2_score(y_test, lr_predictions)\n",
    "print('Testing performance:')\n",
    "print('R2: {:.2f}'.format(lr_r2))"
   ]
  },
  {
   "cell_type": "code",
   "execution_count": 63,
   "id": "63044690",
   "metadata": {},
   "outputs": [
    {
     "name": "stdout",
     "output_type": "stream",
     "text": [
      "Testing performance:\n",
      "R2: 0.54\n"
     ]
    }
   ],
   "source": [
    "rf_r2 = r2_score(y_test, r_estate_predictions)\n",
    "print('Testing performance:')\n",
    "print('R2: {:.2f}'.format(rf_r2))\n"
   ]
  },
  {
   "cell_type": "markdown",
   "id": "0f324e4d",
   "metadata": {},
   "source": [
    "# extension: drop nonsignficant features to see whether the results change"
   ]
  },
  {
   "cell_type": "markdown",
   "id": "c32e8345",
   "metadata": {},
   "source": [
    "### the result is 0.54 ,it's same to the dataset not drop these garbage data."
   ]
  },
  {
   "cell_type": "code",
   "execution_count": 68,
   "id": "3eeff127",
   "metadata": {},
   "outputs": [
    {
     "data": {
      "text/plain": [
       "X4 number of convenience stores                                 0.870297\n",
       "X6 longitude                                                    0.686982\n",
       "X1 transaction date_x_X2 house age                              0.212605\n",
       "X1 transaction date_x_X3 distance to the nearest MRT station    0.862994\n",
       "X1 transaction date_x_X4 number of convenience stores           0.925036\n",
       "X1 transaction date_x_X5 latitude                               0.545392\n",
       "X1 transaction date_x_X6 longitude                              0.466645\n",
       "X2 house age_x_X3 distance to the nearest MRT station           0.993423\n",
       "X2 house age_x_X4 number of convenience stores                  0.890898\n",
       "X2 house age_x_X5 latitude                                      0.996828\n",
       "X2 house age_x_X6 longitude                                     0.605449\n",
       "X3 distance to the nearest MRT station_x_X6 longitude           0.490766\n",
       "X4 number of convenience stores_x_X6 longitude                  0.497585\n",
       "X5 latitude_x_X6 longitude                                      0.724939\n",
       "Name: P>|t|, dtype: float64"
      ]
     },
     "execution_count": 68,
     "metadata": {},
     "output_type": "execute_result"
    }
   ],
   "source": [
    "p_values = lr_fit.summary2().tables[1]['P>|t|']\n",
    "p_values[p_values> 0.05]\n"
   ]
  },
  {
   "cell_type": "code",
   "execution_count": null,
   "id": "573c462a",
   "metadata": {},
   "outputs": [],
   "source": []
  },
  {
   "cell_type": "code",
   "execution_count": 88,
   "id": "f7b10a78",
   "metadata": {},
   "outputs": [],
   "source": [
    "r_new=r_estate_prepared.drop(['X4 number of convenience stores','X6 longitude','X1 transaction date_x_X2 house age','X1 transaction date_x_X3 distance to the nearest MRT station','X1 transaction date_x_X4 number of convenience stores','X1 transaction date_x_X5 latitude','X1 transaction date_x_X6 longitude','X2 house age_x_X3 distance to the nearest MRT station','X2 house age_x_X4 number of convenience stores','X2 house age_x_X5 latitude','X2 house age_x_X6 longitude','X3 distance to the nearest MRT station_x_X6 longitude','X3 distance to the nearest MRT station_x_X6 longitude','X4 number of convenience stores_x_X6 longitude','X5 latitude_x_X6 longitude'],axis=1)"
   ]
  },
  {
   "cell_type": "code",
   "execution_count": 89,
   "id": "ef26d314",
   "metadata": {},
   "outputs": [
    {
     "data": {
      "text/html": [
       "<div>\n",
       "<style scoped>\n",
       "    .dataframe tbody tr th:only-of-type {\n",
       "        vertical-align: middle;\n",
       "    }\n",
       "\n",
       "    .dataframe tbody tr th {\n",
       "        vertical-align: top;\n",
       "    }\n",
       "\n",
       "    .dataframe thead th {\n",
       "        text-align: right;\n",
       "    }\n",
       "</style>\n",
       "<table border=\"1\" class=\"dataframe\">\n",
       "  <thead>\n",
       "    <tr style=\"text-align: right;\">\n",
       "      <th></th>\n",
       "      <th>X1 transaction date</th>\n",
       "      <th>X2 house age</th>\n",
       "      <th>X3 distance to the nearest MRT station</th>\n",
       "      <th>X5 latitude</th>\n",
       "      <th>X3 distance to the nearest MRT station_x_X4 number of convenience stores</th>\n",
       "      <th>X3 distance to the nearest MRT station_x_X5 latitude</th>\n",
       "      <th>X4 number of convenience stores_x_X5 latitude</th>\n",
       "    </tr>\n",
       "  </thead>\n",
       "  <tbody>\n",
       "    <tr>\n",
       "      <th>0</th>\n",
       "      <td>-0.823683</td>\n",
       "      <td>1.255628</td>\n",
       "      <td>-0.792495</td>\n",
       "      <td>1.125430</td>\n",
       "      <td>-1.590860</td>\n",
       "      <td>-0.891898</td>\n",
       "      <td>2.259196</td>\n",
       "    </tr>\n",
       "    <tr>\n",
       "      <th>1</th>\n",
       "      <td>-0.823683</td>\n",
       "      <td>0.157086</td>\n",
       "      <td>-0.616612</td>\n",
       "      <td>0.912444</td>\n",
       "      <td>-1.028202</td>\n",
       "      <td>-0.562624</td>\n",
       "      <td>1.521503</td>\n",
       "    </tr>\n",
       "    <tr>\n",
       "      <th>2</th>\n",
       "      <td>1.541151</td>\n",
       "      <td>-0.387791</td>\n",
       "      <td>-0.414015</td>\n",
       "      <td>1.486860</td>\n",
       "      <td>-0.127469</td>\n",
       "      <td>-0.615583</td>\n",
       "      <td>0.457781</td>\n",
       "    </tr>\n",
       "    <tr>\n",
       "      <th>3</th>\n",
       "      <td>1.246435</td>\n",
       "      <td>-0.387791</td>\n",
       "      <td>-0.414015</td>\n",
       "      <td>1.486860</td>\n",
       "      <td>-0.127469</td>\n",
       "      <td>-0.615583</td>\n",
       "      <td>0.457781</td>\n",
       "    </tr>\n",
       "    <tr>\n",
       "      <th>4</th>\n",
       "      <td>-1.121951</td>\n",
       "      <td>-1.117223</td>\n",
       "      <td>-0.549997</td>\n",
       "      <td>0.834188</td>\n",
       "      <td>-0.169336</td>\n",
       "      <td>-0.458801</td>\n",
       "      <td>0.256834</td>\n",
       "    </tr>\n",
       "    <tr>\n",
       "      <th>...</th>\n",
       "      <td>...</td>\n",
       "      <td>...</td>\n",
       "      <td>...</td>\n",
       "      <td>...</td>\n",
       "      <td>...</td>\n",
       "      <td>...</td>\n",
       "      <td>...</td>\n",
       "    </tr>\n",
       "    <tr>\n",
       "      <th>409</th>\n",
       "      <td>-0.528967</td>\n",
       "      <td>-0.352637</td>\n",
       "      <td>2.378365</td>\n",
       "      <td>-2.216993</td>\n",
       "      <td>-3.309823</td>\n",
       "      <td>-5.272818</td>\n",
       "      <td>3.085253</td>\n",
       "    </tr>\n",
       "    <tr>\n",
       "      <th>410</th>\n",
       "      <td>-1.711384</td>\n",
       "      <td>-1.064493</td>\n",
       "      <td>-0.788071</td>\n",
       "      <td>0.427579</td>\n",
       "      <td>-1.314110</td>\n",
       "      <td>-0.336963</td>\n",
       "      <td>0.712989</td>\n",
       "    </tr>\n",
       "    <tr>\n",
       "      <th>411</th>\n",
       "      <td>0.358734</td>\n",
       "      <td>0.095568</td>\n",
       "      <td>-0.549678</td>\n",
       "      <td>0.822893</td>\n",
       "      <td>-0.542914</td>\n",
       "      <td>-0.452327</td>\n",
       "      <td>0.812767</td>\n",
       "    </tr>\n",
       "    <tr>\n",
       "      <th>412</th>\n",
       "      <td>-0.528967</td>\n",
       "      <td>-0.844784</td>\n",
       "      <td>-0.776684</td>\n",
       "      <td>-0.184755</td>\n",
       "      <td>-0.239129</td>\n",
       "      <td>0.143496</td>\n",
       "      <td>-0.056883</td>\n",
       "    </tr>\n",
       "    <tr>\n",
       "      <th>413</th>\n",
       "      <td>1.246435</td>\n",
       "      <td>-0.985398</td>\n",
       "      <td>-0.788071</td>\n",
       "      <td>0.427579</td>\n",
       "      <td>-1.314110</td>\n",
       "      <td>-0.336963</td>\n",
       "      <td>0.712989</td>\n",
       "    </tr>\n",
       "  </tbody>\n",
       "</table>\n",
       "<p>414 rows × 7 columns</p>\n",
       "</div>"
      ],
      "text/plain": [
       "     X1 transaction date  X2 house age  \\\n",
       "0              -0.823683      1.255628   \n",
       "1              -0.823683      0.157086   \n",
       "2               1.541151     -0.387791   \n",
       "3               1.246435     -0.387791   \n",
       "4              -1.121951     -1.117223   \n",
       "..                   ...           ...   \n",
       "409            -0.528967     -0.352637   \n",
       "410            -1.711384     -1.064493   \n",
       "411             0.358734      0.095568   \n",
       "412            -0.528967     -0.844784   \n",
       "413             1.246435     -0.985398   \n",
       "\n",
       "     X3 distance to the nearest MRT station  X5 latitude  \\\n",
       "0                                 -0.792495     1.125430   \n",
       "1                                 -0.616612     0.912444   \n",
       "2                                 -0.414015     1.486860   \n",
       "3                                 -0.414015     1.486860   \n",
       "4                                 -0.549997     0.834188   \n",
       "..                                      ...          ...   \n",
       "409                                2.378365    -2.216993   \n",
       "410                               -0.788071     0.427579   \n",
       "411                               -0.549678     0.822893   \n",
       "412                               -0.776684    -0.184755   \n",
       "413                               -0.788071     0.427579   \n",
       "\n",
       "     X3 distance to the nearest MRT station_x_X4 number of convenience stores  \\\n",
       "0                                            -1.590860                          \n",
       "1                                            -1.028202                          \n",
       "2                                            -0.127469                          \n",
       "3                                            -0.127469                          \n",
       "4                                            -0.169336                          \n",
       "..                                                 ...                          \n",
       "409                                          -3.309823                          \n",
       "410                                          -1.314110                          \n",
       "411                                          -0.542914                          \n",
       "412                                          -0.239129                          \n",
       "413                                          -1.314110                          \n",
       "\n",
       "     X3 distance to the nearest MRT station_x_X5 latitude  \\\n",
       "0                                            -0.891898      \n",
       "1                                            -0.562624      \n",
       "2                                            -0.615583      \n",
       "3                                            -0.615583      \n",
       "4                                            -0.458801      \n",
       "..                                                 ...      \n",
       "409                                          -5.272818      \n",
       "410                                          -0.336963      \n",
       "411                                          -0.452327      \n",
       "412                                           0.143496      \n",
       "413                                          -0.336963      \n",
       "\n",
       "     X4 number of convenience stores_x_X5 latitude  \n",
       "0                                         2.259196  \n",
       "1                                         1.521503  \n",
       "2                                         0.457781  \n",
       "3                                         0.457781  \n",
       "4                                         0.256834  \n",
       "..                                             ...  \n",
       "409                                       3.085253  \n",
       "410                                       0.712989  \n",
       "411                                       0.812767  \n",
       "412                                      -0.056883  \n",
       "413                                       0.712989  \n",
       "\n",
       "[414 rows x 7 columns]"
      ]
     },
     "execution_count": 89,
     "metadata": {},
     "output_type": "execute_result"
    }
   ],
   "source": [
    "r_new"
   ]
  },
  {
   "cell_type": "code",
   "execution_count": 90,
   "id": "38536272",
   "metadata": {},
   "outputs": [],
   "source": [
    "from sklearn.model_selection import train_test_split\n",
    "X_train, X_test, y_train, y_test = train_test_split(r_new, r_estate_labels, test_size=0.2, random_state=1234)"
   ]
  },
  {
   "cell_type": "code",
   "execution_count": 91,
   "id": "ab1fc9ea",
   "metadata": {},
   "outputs": [
    {
     "data": {
      "text/html": [
       "<table class=\"simpletable\">\n",
       "<tr>\n",
       "        <td>Model:</td>               <td>OLS</td>         <td>Adj. R-squared:</td>     <td>0.704</td>  \n",
       "</tr>\n",
       "<tr>\n",
       "  <td>Dependent Variable:</td>         <td>y</td>               <td>AIC:</td>         <td>2258.7550</td>\n",
       "</tr>\n",
       "<tr>\n",
       "         <td>Date:</td>        <td>2022-11-08 14:54</td>        <td>BIC:</td>         <td>2289.1719</td>\n",
       "</tr>\n",
       "<tr>\n",
       "   <td>No. Observations:</td>         <td>331</td>         <td>Log-Likelihood:</td>    <td>-1121.4</td> \n",
       "</tr>\n",
       "<tr>\n",
       "       <td>Df Model:</td>              <td>7</td>           <td>F-statistic:</td>       <td>113.2</td>  \n",
       "</tr>\n",
       "<tr>\n",
       "     <td>Df Residuals:</td>           <td>323</td>       <td>Prob (F-statistic):</td> <td>5.05e-83</td> \n",
       "</tr>\n",
       "<tr>\n",
       "      <td>R-squared:</td>            <td>0.710</td>            <td>Scale:</td>         <td>52.577</td>  \n",
       "</tr>\n",
       "</table>\n",
       "<table class=\"simpletable\">\n",
       "<tr>\n",
       "                                      <td></td>                                       <th>Coef.</th>  <th>Std.Err.</th>     <th>t</th>     <th>P>|t|</th>  <th>[0.025</th>   <th>0.975]</th> \n",
       "</tr>\n",
       "<tr>\n",
       "  <th>const</th>                                                                     <td>34.0550</td>  <td>0.5447</td>   <td>62.5261</td> <td>0.0000</td>  <td>32.9835</td>  <td>35.1265</td>\n",
       "</tr>\n",
       "<tr>\n",
       "  <th>X1 transaction date</th>                                                       <td>1.5825</td>   <td>0.4008</td>   <td>3.9481</td>  <td>0.0001</td>  <td>0.7939</td>   <td>2.3710</td> \n",
       "</tr>\n",
       "<tr>\n",
       "  <th>X2 house age</th>                                                              <td>-2.5839</td>  <td>0.4078</td>   <td>-6.3357</td> <td>0.0000</td>  <td>-3.3863</td>  <td>-1.7816</td>\n",
       "</tr>\n",
       "<tr>\n",
       "  <th>X3 distance to the nearest MRT station</th>                                   <td>-13.9163</td>  <td>0.7203</td>  <td>-19.3212</td> <td>0.0000</td> <td>-15.3333</td> <td>-12.4994</td>\n",
       "</tr>\n",
       "<tr>\n",
       "  <th>X5 latitude</th>                                                               <td>3.3577</td>   <td>0.5596</td>   <td>6.0005</td>  <td>0.0000</td>  <td>2.2568</td>   <td>4.4586</td> \n",
       "</tr>\n",
       "<tr>\n",
       "  <th>X3 distance to the nearest MRT station_x_X4 number of convenience stores</th>  <td>-5.9884</td>  <td>0.6717</td>   <td>-8.9159</td> <td>0.0000</td>  <td>-7.3098</td>  <td>-4.6670</td>\n",
       "</tr>\n",
       "<tr>\n",
       "  <th>X3 distance to the nearest MRT station_x_X5 latitude</th>                      <td>-3.5264</td>  <td>0.5501</td>   <td>-6.4105</td> <td>0.0000</td>  <td>-4.6086</td>  <td>-2.4442</td>\n",
       "</tr>\n",
       "<tr>\n",
       "  <th>X4 number of convenience stores_x_X5 latitude</th>                             <td>-3.8163</td>  <td>0.6802</td>   <td>-5.6103</td> <td>0.0000</td>  <td>-5.1545</td>  <td>-2.4781</td>\n",
       "</tr>\n",
       "</table>\n",
       "<table class=\"simpletable\">\n",
       "<tr>\n",
       "     <td>Omnibus:</td>    <td>72.017</td>  <td>Durbin-Watson:</td>    <td>2.031</td> \n",
       "</tr>\n",
       "<tr>\n",
       "  <td>Prob(Omnibus):</td>  <td>0.000</td> <td>Jarque-Bera (JB):</td> <td>340.987</td>\n",
       "</tr>\n",
       "<tr>\n",
       "       <td>Skew:</td>      <td>0.812</td>     <td>Prob(JB):</td>      <td>0.000</td> \n",
       "</tr>\n",
       "<tr>\n",
       "     <td>Kurtosis:</td>    <td>7.700</td>  <td>Condition No.:</td>      <td>6</td>   \n",
       "</tr>\n",
       "</table>"
      ],
      "text/plain": [
       "<class 'statsmodels.iolib.summary2.Summary'>\n",
       "\"\"\"\n",
       "                                              Results: Ordinary least squares\n",
       "============================================================================================================================\n",
       "Model:                                  OLS                                 Adj. R-squared:                        0.704    \n",
       "Dependent Variable:                     y                                   AIC:                                   2258.7550\n",
       "Date:                                   2022-11-08 14:54                    BIC:                                   2289.1719\n",
       "No. Observations:                       331                                 Log-Likelihood:                        -1121.4  \n",
       "Df Model:                               7                                   F-statistic:                           113.2    \n",
       "Df Residuals:                           323                                 Prob (F-statistic):                    5.05e-83 \n",
       "R-squared:                              0.710                               Scale:                                 52.577   \n",
       "----------------------------------------------------------------------------------------------------------------------------\n",
       "                                                                          Coef.   Std.Err.    t     P>|t|   [0.025   0.975] \n",
       "----------------------------------------------------------------------------------------------------------------------------\n",
       "const                                                                     34.0550   0.5447  62.5261 0.0000  32.9835  35.1265\n",
       "X1 transaction date                                                        1.5825   0.4008   3.9481 0.0001   0.7939   2.3710\n",
       "X2 house age                                                              -2.5839   0.4078  -6.3357 0.0000  -3.3863  -1.7816\n",
       "X3 distance to the nearest MRT station                                   -13.9163   0.7203 -19.3212 0.0000 -15.3333 -12.4994\n",
       "X5 latitude                                                                3.3577   0.5596   6.0005 0.0000   2.2568   4.4586\n",
       "X3 distance to the nearest MRT station_x_X4 number of convenience stores  -5.9884   0.6717  -8.9159 0.0000  -7.3098  -4.6670\n",
       "X3 distance to the nearest MRT station_x_X5 latitude                      -3.5264   0.5501  -6.4105 0.0000  -4.6086  -2.4442\n",
       "X4 number of convenience stores_x_X5 latitude                             -3.8163   0.6802  -5.6103 0.0000  -5.1545  -2.4781\n",
       "----------------------------------------------------------------------------------------------------------------------------\n",
       "Omnibus:                                  72.017                          Durbin-Watson:                             2.031  \n",
       "Prob(Omnibus):                            0.000                           Jarque-Bera (JB):                          340.987\n",
       "Skew:                                     0.812                           Prob(JB):                                  0.000  \n",
       "Kurtosis:                                 7.700                           Condition No.:                             6      \n",
       "============================================================================================================================\n",
       "\n",
       "\"\"\""
      ]
     },
     "execution_count": 91,
     "metadata": {},
     "output_type": "execute_result"
    }
   ],
   "source": [
    "X_const = sm.add_constant(X_train)\n",
    "OLS_model = sm.OLS(y_train,X_const)\n",
    "lr_fit = OLS_model.fit()\n",
    "lr_fit.summary2()"
   ]
  },
  {
   "cell_type": "code",
   "execution_count": 99,
   "id": "443e4304",
   "metadata": {},
   "outputs": [
    {
     "data": {
      "text/plain": [
       "9.979075338155242"
      ]
     },
     "execution_count": 99,
     "metadata": {},
     "output_type": "execute_result"
    }
   ],
   "source": [
    "r_estate_predictions = lr_fit.predict(sm.add_constant(X_test))\n",
    "lrmse= mean_squared_error(y_test, r_estate_predictions)\n",
    "lr_rmse = np.sqrt(lrmse)\n",
    "lr_rmse"
   ]
  },
  {
   "cell_type": "code",
   "execution_count": 100,
   "id": "c423ce2a",
   "metadata": {},
   "outputs": [
    {
     "name": "stdout",
     "output_type": "stream",
     "text": [
      "Testing performance:\n",
      "R2: 0.54\n"
     ]
    }
   ],
   "source": [
    "lr_r2 = r2_score(y_test, lr_predictions)\n",
    "print('Testing performance:')\n",
    "print('R2: {:.2f}'.format(lr_r2))\n"
   ]
  },
  {
   "cell_type": "code",
   "execution_count": null,
   "id": "618d6118",
   "metadata": {},
   "outputs": [],
   "source": []
  }
 ],
 "metadata": {
  "kernelspec": {
   "display_name": "Python 3 (ipykernel)",
   "language": "python",
   "name": "python3"
  },
  "language_info": {
   "codemirror_mode": {
    "name": "ipython",
    "version": 3
   },
   "file_extension": ".py",
   "mimetype": "text/x-python",
   "name": "python",
   "nbconvert_exporter": "python",
   "pygments_lexer": "ipython3",
   "version": "3.9.12"
  }
 },
 "nbformat": 4,
 "nbformat_minor": 5
}
