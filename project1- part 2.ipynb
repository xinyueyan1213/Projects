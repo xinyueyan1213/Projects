{
 "cells": [
  {
   "cell_type": "markdown",
   "id": "2fca19ba",
   "metadata": {},
   "source": [
    "# This part is linear regression result and ML methods results by using orginal data set."
   ]
  },
  {
   "cell_type": "markdown",
   "id": "191b12a1",
   "metadata": {},
   "source": [
    "## you can just skip the following steps, see the results from the end to beginning."
   ]
  },
  {
   "cell_type": "code",
   "execution_count": 1,
   "id": "1e6ac158",
   "metadata": {},
   "outputs": [],
   "source": [
    "import numpy as np\n",
    "import pandas as pd\n",
    "import os\n",
    "%matplotlib inline\n",
    "import matplotlib as mpl\n",
    "import matplotlib.pyplot as plt\n",
    "mpl.rc('axes', labelsize=14)\n",
    "mpl.rc('xtick', labelsize=12)\n",
    "mpl.rc('ytick', labelsize=12)\n",
    "import warnings\n",
    "warnings.filterwarnings(action=\"ignore\")\n",
    "np.random.seed(42)\n",
    "from sklearn.metrics import mean_squared_error\n",
    "def mean_absolute_percentage_error(y_true, y_pred): \n",
    "    y_true, y_pred = np.array(y_true), np.array(y_pred)\n",
    "    return np.mean(np.abs((y_true - y_pred) / y_true)) * 100\n"
   ]
  },
  {
   "cell_type": "code",
   "execution_count": 2,
   "id": "77e835e3",
   "metadata": {},
   "outputs": [
    {
     "data": {
      "text/html": [
       "<div>\n",
       "<style scoped>\n",
       "    .dataframe tbody tr th:only-of-type {\n",
       "        vertical-align: middle;\n",
       "    }\n",
       "\n",
       "    .dataframe tbody tr th {\n",
       "        vertical-align: top;\n",
       "    }\n",
       "\n",
       "    .dataframe thead th {\n",
       "        text-align: right;\n",
       "    }\n",
       "</style>\n",
       "<table border=\"1\" class=\"dataframe\">\n",
       "  <thead>\n",
       "    <tr style=\"text-align: right;\">\n",
       "      <th></th>\n",
       "      <th>No</th>\n",
       "      <th>X1 transaction date</th>\n",
       "      <th>X2 house age</th>\n",
       "      <th>X3 distance to the nearest MRT station</th>\n",
       "      <th>X4 number of convenience stores</th>\n",
       "      <th>X5 latitude</th>\n",
       "      <th>X6 longitude</th>\n",
       "      <th>Y house price of unit area</th>\n",
       "    </tr>\n",
       "  </thead>\n",
       "  <tbody>\n",
       "    <tr>\n",
       "      <th>0</th>\n",
       "      <td>1</td>\n",
       "      <td>2012.917</td>\n",
       "      <td>32.0</td>\n",
       "      <td>84.87882</td>\n",
       "      <td>10</td>\n",
       "      <td>24.98298</td>\n",
       "      <td>121.54024</td>\n",
       "      <td>37.9</td>\n",
       "    </tr>\n",
       "    <tr>\n",
       "      <th>1</th>\n",
       "      <td>2</td>\n",
       "      <td>2012.917</td>\n",
       "      <td>19.5</td>\n",
       "      <td>306.59470</td>\n",
       "      <td>9</td>\n",
       "      <td>24.98034</td>\n",
       "      <td>121.53951</td>\n",
       "      <td>42.2</td>\n",
       "    </tr>\n",
       "    <tr>\n",
       "      <th>2</th>\n",
       "      <td>3</td>\n",
       "      <td>2013.583</td>\n",
       "      <td>13.3</td>\n",
       "      <td>561.98450</td>\n",
       "      <td>5</td>\n",
       "      <td>24.98746</td>\n",
       "      <td>121.54391</td>\n",
       "      <td>47.3</td>\n",
       "    </tr>\n",
       "    <tr>\n",
       "      <th>3</th>\n",
       "      <td>4</td>\n",
       "      <td>2013.500</td>\n",
       "      <td>13.3</td>\n",
       "      <td>561.98450</td>\n",
       "      <td>5</td>\n",
       "      <td>24.98746</td>\n",
       "      <td>121.54391</td>\n",
       "      <td>54.8</td>\n",
       "    </tr>\n",
       "    <tr>\n",
       "      <th>4</th>\n",
       "      <td>5</td>\n",
       "      <td>2012.833</td>\n",
       "      <td>5.0</td>\n",
       "      <td>390.56840</td>\n",
       "      <td>5</td>\n",
       "      <td>24.97937</td>\n",
       "      <td>121.54245</td>\n",
       "      <td>43.1</td>\n",
       "    </tr>\n",
       "  </tbody>\n",
       "</table>\n",
       "</div>"
      ],
      "text/plain": [
       "   No  X1 transaction date  X2 house age  \\\n",
       "0   1             2012.917          32.0   \n",
       "1   2             2012.917          19.5   \n",
       "2   3             2013.583          13.3   \n",
       "3   4             2013.500          13.3   \n",
       "4   5             2012.833           5.0   \n",
       "\n",
       "   X3 distance to the nearest MRT station  X4 number of convenience stores  \\\n",
       "0                                84.87882                               10   \n",
       "1                               306.59470                                9   \n",
       "2                               561.98450                                5   \n",
       "3                               561.98450                                5   \n",
       "4                               390.56840                                5   \n",
       "\n",
       "   X5 latitude  X6 longitude  Y house price of unit area  \n",
       "0     24.98298     121.54024                        37.9  \n",
       "1     24.98034     121.53951                        42.2  \n",
       "2     24.98746     121.54391                        47.3  \n",
       "3     24.98746     121.54391                        54.8  \n",
       "4     24.97937     121.54245                        43.1  "
      ]
     },
     "execution_count": 2,
     "metadata": {},
     "output_type": "execute_result"
    }
   ],
   "source": [
    "r_estate= pd.read_csv(\"./Real estate.csv\")\n",
    "r_estate.head()"
   ]
  },
  {
   "cell_type": "code",
   "execution_count": 3,
   "id": "10d0d9da",
   "metadata": {},
   "outputs": [
    {
     "name": "stdout",
     "output_type": "stream",
     "text": [
      "<class 'pandas.core.frame.DataFrame'>\n",
      "RangeIndex: 414 entries, 0 to 413\n",
      "Data columns (total 8 columns):\n",
      " #   Column                                  Non-Null Count  Dtype  \n",
      "---  ------                                  --------------  -----  \n",
      " 0   No                                      414 non-null    int64  \n",
      " 1   X1 transaction date                     414 non-null    float64\n",
      " 2   X2 house age                            414 non-null    float64\n",
      " 3   X3 distance to the nearest MRT station  414 non-null    float64\n",
      " 4   X4 number of convenience stores         414 non-null    int64  \n",
      " 5   X5 latitude                             414 non-null    float64\n",
      " 6   X6 longitude                            414 non-null    float64\n",
      " 7   Y house price of unit area              414 non-null    float64\n",
      "dtypes: float64(6), int64(2)\n",
      "memory usage: 26.0 KB\n"
     ]
    }
   ],
   "source": [
    "r_estate.info()"
   ]
  },
  {
   "cell_type": "code",
   "execution_count": 4,
   "id": "0b11fab4",
   "metadata": {},
   "outputs": [],
   "source": [
    "r_estate.set_index('No',drop=True,inplace=True)"
   ]
  },
  {
   "cell_type": "code",
   "execution_count": 5,
   "id": "ab1b8525",
   "metadata": {
    "scrolled": true
   },
   "outputs": [
    {
     "data": {
      "text/html": [
       "<div>\n",
       "<style scoped>\n",
       "    .dataframe tbody tr th:only-of-type {\n",
       "        vertical-align: middle;\n",
       "    }\n",
       "\n",
       "    .dataframe tbody tr th {\n",
       "        vertical-align: top;\n",
       "    }\n",
       "\n",
       "    .dataframe thead th {\n",
       "        text-align: right;\n",
       "    }\n",
       "</style>\n",
       "<table border=\"1\" class=\"dataframe\">\n",
       "  <thead>\n",
       "    <tr style=\"text-align: right;\">\n",
       "      <th></th>\n",
       "      <th>X1 transaction date</th>\n",
       "      <th>X2 house age</th>\n",
       "      <th>X3 distance to the nearest MRT station</th>\n",
       "      <th>X4 number of convenience stores</th>\n",
       "      <th>X5 latitude</th>\n",
       "      <th>X6 longitude</th>\n",
       "      <th>Y house price of unit area</th>\n",
       "    </tr>\n",
       "    <tr>\n",
       "      <th>No</th>\n",
       "      <th></th>\n",
       "      <th></th>\n",
       "      <th></th>\n",
       "      <th></th>\n",
       "      <th></th>\n",
       "      <th></th>\n",
       "      <th></th>\n",
       "    </tr>\n",
       "  </thead>\n",
       "  <tbody>\n",
       "    <tr>\n",
       "      <th>1</th>\n",
       "      <td>2012.917</td>\n",
       "      <td>32.0</td>\n",
       "      <td>84.87882</td>\n",
       "      <td>10</td>\n",
       "      <td>24.98298</td>\n",
       "      <td>121.54024</td>\n",
       "      <td>37.9</td>\n",
       "    </tr>\n",
       "    <tr>\n",
       "      <th>2</th>\n",
       "      <td>2012.917</td>\n",
       "      <td>19.5</td>\n",
       "      <td>306.59470</td>\n",
       "      <td>9</td>\n",
       "      <td>24.98034</td>\n",
       "      <td>121.53951</td>\n",
       "      <td>42.2</td>\n",
       "    </tr>\n",
       "    <tr>\n",
       "      <th>3</th>\n",
       "      <td>2013.583</td>\n",
       "      <td>13.3</td>\n",
       "      <td>561.98450</td>\n",
       "      <td>5</td>\n",
       "      <td>24.98746</td>\n",
       "      <td>121.54391</td>\n",
       "      <td>47.3</td>\n",
       "    </tr>\n",
       "    <tr>\n",
       "      <th>4</th>\n",
       "      <td>2013.500</td>\n",
       "      <td>13.3</td>\n",
       "      <td>561.98450</td>\n",
       "      <td>5</td>\n",
       "      <td>24.98746</td>\n",
       "      <td>121.54391</td>\n",
       "      <td>54.8</td>\n",
       "    </tr>\n",
       "    <tr>\n",
       "      <th>5</th>\n",
       "      <td>2012.833</td>\n",
       "      <td>5.0</td>\n",
       "      <td>390.56840</td>\n",
       "      <td>5</td>\n",
       "      <td>24.97937</td>\n",
       "      <td>121.54245</td>\n",
       "      <td>43.1</td>\n",
       "    </tr>\n",
       "  </tbody>\n",
       "</table>\n",
       "</div>"
      ],
      "text/plain": [
       "    X1 transaction date  X2 house age  X3 distance to the nearest MRT station  \\\n",
       "No                                                                              \n",
       "1              2012.917          32.0                                84.87882   \n",
       "2              2012.917          19.5                               306.59470   \n",
       "3              2013.583          13.3                               561.98450   \n",
       "4              2013.500          13.3                               561.98450   \n",
       "5              2012.833           5.0                               390.56840   \n",
       "\n",
       "    X4 number of convenience stores  X5 latitude  X6 longitude  \\\n",
       "No                                                               \n",
       "1                                10     24.98298     121.54024   \n",
       "2                                 9     24.98034     121.53951   \n",
       "3                                 5     24.98746     121.54391   \n",
       "4                                 5     24.98746     121.54391   \n",
       "5                                 5     24.97937     121.54245   \n",
       "\n",
       "    Y house price of unit area  \n",
       "No                              \n",
       "1                         37.9  \n",
       "2                         42.2  \n",
       "3                         47.3  \n",
       "4                         54.8  \n",
       "5                         43.1  "
      ]
     },
     "execution_count": 5,
     "metadata": {},
     "output_type": "execute_result"
    }
   ],
   "source": [
    "r_estate.head() "
   ]
  },
  {
   "cell_type": "code",
   "execution_count": 6,
   "id": "eb19908e",
   "metadata": {},
   "outputs": [
    {
     "data": {
      "text/html": [
       "<div>\n",
       "<style scoped>\n",
       "    .dataframe tbody tr th:only-of-type {\n",
       "        vertical-align: middle;\n",
       "    }\n",
       "\n",
       "    .dataframe tbody tr th {\n",
       "        vertical-align: top;\n",
       "    }\n",
       "\n",
       "    .dataframe thead th {\n",
       "        text-align: right;\n",
       "    }\n",
       "</style>\n",
       "<table border=\"1\" class=\"dataframe\">\n",
       "  <thead>\n",
       "    <tr style=\"text-align: right;\">\n",
       "      <th></th>\n",
       "      <th>X1 transaction date</th>\n",
       "      <th>X2 house age</th>\n",
       "      <th>X3 distance to the nearest MRT station</th>\n",
       "      <th>X4 number of convenience stores</th>\n",
       "      <th>X5 latitude</th>\n",
       "      <th>X6 longitude</th>\n",
       "      <th>Y house price of unit area</th>\n",
       "    </tr>\n",
       "  </thead>\n",
       "  <tbody>\n",
       "    <tr>\n",
       "      <th>count</th>\n",
       "      <td>414.000000</td>\n",
       "      <td>414.000000</td>\n",
       "      <td>414.000000</td>\n",
       "      <td>414.000000</td>\n",
       "      <td>414.000000</td>\n",
       "      <td>414.000000</td>\n",
       "      <td>414.000000</td>\n",
       "    </tr>\n",
       "    <tr>\n",
       "      <th>mean</th>\n",
       "      <td>2013.148971</td>\n",
       "      <td>17.712560</td>\n",
       "      <td>1083.885689</td>\n",
       "      <td>4.094203</td>\n",
       "      <td>24.969030</td>\n",
       "      <td>121.533361</td>\n",
       "      <td>37.980193</td>\n",
       "    </tr>\n",
       "    <tr>\n",
       "      <th>std</th>\n",
       "      <td>0.281967</td>\n",
       "      <td>11.392485</td>\n",
       "      <td>1262.109595</td>\n",
       "      <td>2.945562</td>\n",
       "      <td>0.012410</td>\n",
       "      <td>0.015347</td>\n",
       "      <td>13.606488</td>\n",
       "    </tr>\n",
       "    <tr>\n",
       "      <th>min</th>\n",
       "      <td>2012.667000</td>\n",
       "      <td>0.000000</td>\n",
       "      <td>23.382840</td>\n",
       "      <td>0.000000</td>\n",
       "      <td>24.932070</td>\n",
       "      <td>121.473530</td>\n",
       "      <td>7.600000</td>\n",
       "    </tr>\n",
       "    <tr>\n",
       "      <th>25%</th>\n",
       "      <td>2012.917000</td>\n",
       "      <td>9.025000</td>\n",
       "      <td>289.324800</td>\n",
       "      <td>1.000000</td>\n",
       "      <td>24.963000</td>\n",
       "      <td>121.528085</td>\n",
       "      <td>27.700000</td>\n",
       "    </tr>\n",
       "    <tr>\n",
       "      <th>50%</th>\n",
       "      <td>2013.167000</td>\n",
       "      <td>16.100000</td>\n",
       "      <td>492.231300</td>\n",
       "      <td>4.000000</td>\n",
       "      <td>24.971100</td>\n",
       "      <td>121.538630</td>\n",
       "      <td>38.450000</td>\n",
       "    </tr>\n",
       "    <tr>\n",
       "      <th>75%</th>\n",
       "      <td>2013.417000</td>\n",
       "      <td>28.150000</td>\n",
       "      <td>1454.279000</td>\n",
       "      <td>6.000000</td>\n",
       "      <td>24.977455</td>\n",
       "      <td>121.543305</td>\n",
       "      <td>46.600000</td>\n",
       "    </tr>\n",
       "    <tr>\n",
       "      <th>max</th>\n",
       "      <td>2013.583000</td>\n",
       "      <td>43.800000</td>\n",
       "      <td>6488.021000</td>\n",
       "      <td>10.000000</td>\n",
       "      <td>25.014590</td>\n",
       "      <td>121.566270</td>\n",
       "      <td>117.500000</td>\n",
       "    </tr>\n",
       "  </tbody>\n",
       "</table>\n",
       "</div>"
      ],
      "text/plain": [
       "       X1 transaction date  X2 house age  \\\n",
       "count           414.000000    414.000000   \n",
       "mean           2013.148971     17.712560   \n",
       "std               0.281967     11.392485   \n",
       "min            2012.667000      0.000000   \n",
       "25%            2012.917000      9.025000   \n",
       "50%            2013.167000     16.100000   \n",
       "75%            2013.417000     28.150000   \n",
       "max            2013.583000     43.800000   \n",
       "\n",
       "       X3 distance to the nearest MRT station  \\\n",
       "count                              414.000000   \n",
       "mean                              1083.885689   \n",
       "std                               1262.109595   \n",
       "min                                 23.382840   \n",
       "25%                                289.324800   \n",
       "50%                                492.231300   \n",
       "75%                               1454.279000   \n",
       "max                               6488.021000   \n",
       "\n",
       "       X4 number of convenience stores  X5 latitude  X6 longitude  \\\n",
       "count                       414.000000   414.000000    414.000000   \n",
       "mean                          4.094203    24.969030    121.533361   \n",
       "std                           2.945562     0.012410      0.015347   \n",
       "min                           0.000000    24.932070    121.473530   \n",
       "25%                           1.000000    24.963000    121.528085   \n",
       "50%                           4.000000    24.971100    121.538630   \n",
       "75%                           6.000000    24.977455    121.543305   \n",
       "max                          10.000000    25.014590    121.566270   \n",
       "\n",
       "       Y house price of unit area  \n",
       "count                  414.000000  \n",
       "mean                    37.980193  \n",
       "std                     13.606488  \n",
       "min                      7.600000  \n",
       "25%                     27.700000  \n",
       "50%                     38.450000  \n",
       "75%                     46.600000  \n",
       "max                    117.500000  "
      ]
     },
     "execution_count": 6,
     "metadata": {},
     "output_type": "execute_result"
    }
   ],
   "source": [
    "r_estate.describe() "
   ]
  },
  {
   "cell_type": "code",
   "execution_count": 7,
   "id": "6c0280d8",
   "metadata": {},
   "outputs": [
    {
     "data": {
      "image/png": "[encoded data removed]",
      "text/plain": [
       "<Figure size 1440x1080 with 9 Axes>"
      ]
     },
     "metadata": {
      "needs_background": "light"
     },
     "output_type": "display_data"
    }
   ],
   "source": [
    "r_estate.hist(bins=50, figsize=(20,15))\n",
    "plt.show()"
   ]
  },
  {
   "cell_type": "code",
   "execution_count": 8,
   "id": "ddd9b796",
   "metadata": {},
   "outputs": [
    {
     "data": {
      "image/png": "[encoded data removed]",
      "text/plain": [
       "<Figure size 1080x1080 with 6 Axes>"
      ]
     },
     "metadata": {
      "needs_background": "light"
     },
     "output_type": "display_data"
    }
   ],
   "source": [
    "x1 = r_estate['X1 transaction date']\n",
    "x2 = r_estate['X2 house age']\n",
    "x3 = r_estate['X3 distance to the nearest MRT station']\n",
    "x4 = r_estate['X4 number of convenience stores']\n",
    "x5 = r_estate['X5 latitude']\n",
    "x6 = r_estate['X6 longitude']\n",
    "y1 = r_estate['Y house price of unit area']\n",
    "\n",
    "plt.figure(figsize = (15, 15))\n",
    "\n",
    "plt.subplot(2,3,1)\n",
    "plt.scatter(x1, y1)\n",
    "plt.xlabel('transaction date')\n",
    "plt.ylabel('house price of unit area')\n",
    "\n",
    "plt.subplot(2,3,2)\n",
    "plt.scatter(x2, y1)\n",
    "plt.xlabel('house age')\n",
    "plt.ylabel('house price of unit area')\n",
    "\n",
    "plt.subplot(2,3,3)\n",
    "plt.scatter(x3, y1)\n",
    "plt.xlabel('distance to the nearest MRT station')\n",
    "plt.ylabel('house price of unit area')\n",
    "\n",
    "plt.subplot(2,3,4)\n",
    "plt.scatter(x4, y1)\n",
    "plt.xlabel('# of convenience stores')\n",
    "plt.ylabel('house price of unit area')\n",
    "\n",
    "plt.subplot(2,3,5)\n",
    "plt.scatter(x5, y1)\n",
    "plt.xlabel('latitude')\n",
    "plt.ylabel('house price of unit area')\n",
    "\n",
    "plt.subplot(2,3,6)\n",
    "plt.scatter(x6, y1)\n",
    "plt.xlabel('longitude')\n",
    "plt.ylabel('house price of unit area')\n",
    "\n",
    "plt.show()"
   ]
  },
  {
   "cell_type": "code",
   "execution_count": 9,
   "id": "70a2dadc",
   "metadata": {
    "scrolled": true
   },
   "outputs": [
    {
     "data": {
      "image/png": "[encoded data removed]",
      "text/plain": [
       "<Figure size 576x720 with 1 Axes>"
      ]
     },
     "metadata": {
      "needs_background": "light"
     },
     "output_type": "display_data"
    }
   ],
   "source": [
    "r_estate.plot(kind=\"scatter\", y=\"X5 latitude\", x=\"X6 longitude\", alpha=0.4,figsize = (8,10))\n",
    "plt.show()"
   ]
  },
  {
   "cell_type": "code",
   "execution_count": 10,
   "id": "fc03464e",
   "metadata": {},
   "outputs": [
    {
     "data": {
      "image/png": "[encoded data removed]",
      "text/plain": [
       "<Figure size 720x720 with 2 Axes>"
      ]
     },
     "metadata": {
      "needs_background": "light"
     },
     "output_type": "display_data"
    }
   ],
   "source": [
    "r_estate.plot(kind=\"scatter\", x=\"X6 longitude\", y=\"X5 latitude\", alpha=0.8,\n",
    "    s=r_estate[\"X2 house age\"], label=\"house age\", figsize=(10,10),\n",
    "    c=\"Y house price of unit area\",cmap=plt.get_cmap(\"jet\"), colorbar=True)\n",
    "\n",
    "plt.legend()\n",
    "plt.show()"
   ]
  },
  {
   "cell_type": "code",
   "execution_count": 11,
   "id": "afc76cf7",
   "metadata": {},
   "outputs": [
    {
     "data": {
      "text/html": [
       "<div>\n",
       "<style scoped>\n",
       "    .dataframe tbody tr th:only-of-type {\n",
       "        vertical-align: middle;\n",
       "    }\n",
       "\n",
       "    .dataframe tbody tr th {\n",
       "        vertical-align: top;\n",
       "    }\n",
       "\n",
       "    .dataframe thead th {\n",
       "        text-align: right;\n",
       "    }\n",
       "</style>\n",
       "<table border=\"1\" class=\"dataframe\">\n",
       "  <thead>\n",
       "    <tr style=\"text-align: right;\">\n",
       "      <th></th>\n",
       "      <th>X1 transaction date</th>\n",
       "      <th>X2 house age</th>\n",
       "      <th>X3 distance to the nearest MRT station</th>\n",
       "      <th>X4 number of convenience stores</th>\n",
       "      <th>X5 latitude</th>\n",
       "      <th>X6 longitude</th>\n",
       "      <th>Y house price of unit area</th>\n",
       "    </tr>\n",
       "  </thead>\n",
       "  <tbody>\n",
       "    <tr>\n",
       "      <th>X1 transaction date</th>\n",
       "      <td>1.000000</td>\n",
       "      <td>0.017549</td>\n",
       "      <td>0.060880</td>\n",
       "      <td>0.009635</td>\n",
       "      <td>0.035058</td>\n",
       "      <td>-0.041082</td>\n",
       "      <td>0.087491</td>\n",
       "    </tr>\n",
       "    <tr>\n",
       "      <th>X2 house age</th>\n",
       "      <td>0.017549</td>\n",
       "      <td>1.000000</td>\n",
       "      <td>0.025622</td>\n",
       "      <td>0.049593</td>\n",
       "      <td>0.054420</td>\n",
       "      <td>-0.048520</td>\n",
       "      <td>-0.210567</td>\n",
       "    </tr>\n",
       "    <tr>\n",
       "      <th>X3 distance to the nearest MRT station</th>\n",
       "      <td>0.060880</td>\n",
       "      <td>0.025622</td>\n",
       "      <td>1.000000</td>\n",
       "      <td>-0.602519</td>\n",
       "      <td>-0.591067</td>\n",
       "      <td>-0.806317</td>\n",
       "      <td>-0.673613</td>\n",
       "    </tr>\n",
       "    <tr>\n",
       "      <th>X4 number of convenience stores</th>\n",
       "      <td>0.009635</td>\n",
       "      <td>0.049593</td>\n",
       "      <td>-0.602519</td>\n",
       "      <td>1.000000</td>\n",
       "      <td>0.444143</td>\n",
       "      <td>0.449099</td>\n",
       "      <td>0.571005</td>\n",
       "    </tr>\n",
       "    <tr>\n",
       "      <th>X5 latitude</th>\n",
       "      <td>0.035058</td>\n",
       "      <td>0.054420</td>\n",
       "      <td>-0.591067</td>\n",
       "      <td>0.444143</td>\n",
       "      <td>1.000000</td>\n",
       "      <td>0.412924</td>\n",
       "      <td>0.546307</td>\n",
       "    </tr>\n",
       "    <tr>\n",
       "      <th>X6 longitude</th>\n",
       "      <td>-0.041082</td>\n",
       "      <td>-0.048520</td>\n",
       "      <td>-0.806317</td>\n",
       "      <td>0.449099</td>\n",
       "      <td>0.412924</td>\n",
       "      <td>1.000000</td>\n",
       "      <td>0.523287</td>\n",
       "    </tr>\n",
       "    <tr>\n",
       "      <th>Y house price of unit area</th>\n",
       "      <td>0.087491</td>\n",
       "      <td>-0.210567</td>\n",
       "      <td>-0.673613</td>\n",
       "      <td>0.571005</td>\n",
       "      <td>0.546307</td>\n",
       "      <td>0.523287</td>\n",
       "      <td>1.000000</td>\n",
       "    </tr>\n",
       "  </tbody>\n",
       "</table>\n",
       "</div>"
      ],
      "text/plain": [
       "                                        X1 transaction date  X2 house age  \\\n",
       "X1 transaction date                                1.000000      0.017549   \n",
       "X2 house age                                       0.017549      1.000000   \n",
       "X3 distance to the nearest MRT station             0.060880      0.025622   \n",
       "X4 number of convenience stores                    0.009635      0.049593   \n",
       "X5 latitude                                        0.035058      0.054420   \n",
       "X6 longitude                                      -0.041082     -0.048520   \n",
       "Y house price of unit area                         0.087491     -0.210567   \n",
       "\n",
       "                                        X3 distance to the nearest MRT station  \\\n",
       "X1 transaction date                                                   0.060880   \n",
       "X2 house age                                                          0.025622   \n",
       "X3 distance to the nearest MRT station                                1.000000   \n",
       "X4 number of convenience stores                                      -0.602519   \n",
       "X5 latitude                                                          -0.591067   \n",
       "X6 longitude                                                         -0.806317   \n",
       "Y house price of unit area                                           -0.673613   \n",
       "\n",
       "                                        X4 number of convenience stores  \\\n",
       "X1 transaction date                                            0.009635   \n",
       "X2 house age                                                   0.049593   \n",
       "X3 distance to the nearest MRT station                        -0.602519   \n",
       "X4 number of convenience stores                                1.000000   \n",
       "X5 latitude                                                    0.444143   \n",
       "X6 longitude                                                   0.449099   \n",
       "Y house price of unit area                                     0.571005   \n",
       "\n",
       "                                        X5 latitude  X6 longitude  \\\n",
       "X1 transaction date                        0.035058     -0.041082   \n",
       "X2 house age                               0.054420     -0.048520   \n",
       "X3 distance to the nearest MRT station    -0.591067     -0.806317   \n",
       "X4 number of convenience stores            0.444143      0.449099   \n",
       "X5 latitude                                1.000000      0.412924   \n",
       "X6 longitude                               0.412924      1.000000   \n",
       "Y house price of unit area                 0.546307      0.523287   \n",
       "\n",
       "                                        Y house price of unit area  \n",
       "X1 transaction date                                       0.087491  \n",
       "X2 house age                                             -0.210567  \n",
       "X3 distance to the nearest MRT station                   -0.673613  \n",
       "X4 number of convenience stores                           0.571005  \n",
       "X5 latitude                                               0.546307  \n",
       "X6 longitude                                              0.523287  \n",
       "Y house price of unit area                                1.000000  "
      ]
     },
     "execution_count": 11,
     "metadata": {},
     "output_type": "execute_result"
    }
   ],
   "source": [
    "corr_matrix = r_estate.corr()\n",
    "corr_matrix"
   ]
  },
  {
   "cell_type": "code",
   "execution_count": 12,
   "id": "c9764d11",
   "metadata": {},
   "outputs": [
    {
     "data": {
      "text/plain": [
       "<AxesSubplot:>"
      ]
     },
     "execution_count": 12,
     "metadata": {},
     "output_type": "execute_result"
    },
    {
     "data": {
      "image/png": "[encoded data removed]",
      "text/plain": [
       "<Figure size 432x288 with 2 Axes>"
      ]
     },
     "metadata": {
      "needs_background": "light"
     },
     "output_type": "display_data"
    }
   ],
   "source": [
    "import seaborn as sns\n",
    "sns.heatmap(r_estate.corr(),annot=True)"
   ]
  },
  {
   "cell_type": "markdown",
   "id": "ca1fb255",
   "metadata": {},
   "source": [
    "# 2.prepare data for machine learning"
   ]
  },
  {
   "cell_type": "code",
   "execution_count": 13,
   "id": "e3528294",
   "metadata": {
    "scrolled": false
   },
   "outputs": [
    {
     "data": {
      "text/html": [
       "<div>\n",
       "<style scoped>\n",
       "    .dataframe tbody tr th:only-of-type {\n",
       "        vertical-align: middle;\n",
       "    }\n",
       "\n",
       "    .dataframe tbody tr th {\n",
       "        vertical-align: top;\n",
       "    }\n",
       "\n",
       "    .dataframe thead th {\n",
       "        text-align: right;\n",
       "    }\n",
       "</style>\n",
       "<table border=\"1\" class=\"dataframe\">\n",
       "  <thead>\n",
       "    <tr style=\"text-align: right;\">\n",
       "      <th></th>\n",
       "      <th>X1 transaction date</th>\n",
       "      <th>X2 house age</th>\n",
       "      <th>X3 distance to the nearest MRT station</th>\n",
       "      <th>X4 number of convenience stores</th>\n",
       "      <th>X5 latitude</th>\n",
       "      <th>X6 longitude</th>\n",
       "      <th>Y house price of unit area</th>\n",
       "    </tr>\n",
       "    <tr>\n",
       "      <th>No</th>\n",
       "      <th></th>\n",
       "      <th></th>\n",
       "      <th></th>\n",
       "      <th></th>\n",
       "      <th></th>\n",
       "      <th></th>\n",
       "      <th></th>\n",
       "    </tr>\n",
       "  </thead>\n",
       "  <tbody>\n",
       "    <tr>\n",
       "      <th>1</th>\n",
       "      <td>2012.917</td>\n",
       "      <td>32.0</td>\n",
       "      <td>84.87882</td>\n",
       "      <td>10</td>\n",
       "      <td>24.98298</td>\n",
       "      <td>121.54024</td>\n",
       "      <td>37.9</td>\n",
       "    </tr>\n",
       "    <tr>\n",
       "      <th>2</th>\n",
       "      <td>2012.917</td>\n",
       "      <td>19.5</td>\n",
       "      <td>306.59470</td>\n",
       "      <td>9</td>\n",
       "      <td>24.98034</td>\n",
       "      <td>121.53951</td>\n",
       "      <td>42.2</td>\n",
       "    </tr>\n",
       "    <tr>\n",
       "      <th>3</th>\n",
       "      <td>2013.583</td>\n",
       "      <td>13.3</td>\n",
       "      <td>561.98450</td>\n",
       "      <td>5</td>\n",
       "      <td>24.98746</td>\n",
       "      <td>121.54391</td>\n",
       "      <td>47.3</td>\n",
       "    </tr>\n",
       "    <tr>\n",
       "      <th>4</th>\n",
       "      <td>2013.500</td>\n",
       "      <td>13.3</td>\n",
       "      <td>561.98450</td>\n",
       "      <td>5</td>\n",
       "      <td>24.98746</td>\n",
       "      <td>121.54391</td>\n",
       "      <td>54.8</td>\n",
       "    </tr>\n",
       "    <tr>\n",
       "      <th>5</th>\n",
       "      <td>2012.833</td>\n",
       "      <td>5.0</td>\n",
       "      <td>390.56840</td>\n",
       "      <td>5</td>\n",
       "      <td>24.97937</td>\n",
       "      <td>121.54245</td>\n",
       "      <td>43.1</td>\n",
       "    </tr>\n",
       "    <tr>\n",
       "      <th>...</th>\n",
       "      <td>...</td>\n",
       "      <td>...</td>\n",
       "      <td>...</td>\n",
       "      <td>...</td>\n",
       "      <td>...</td>\n",
       "      <td>...</td>\n",
       "      <td>...</td>\n",
       "    </tr>\n",
       "    <tr>\n",
       "      <th>410</th>\n",
       "      <td>2013.000</td>\n",
       "      <td>13.7</td>\n",
       "      <td>4082.01500</td>\n",
       "      <td>0</td>\n",
       "      <td>24.94155</td>\n",
       "      <td>121.50381</td>\n",
       "      <td>15.4</td>\n",
       "    </tr>\n",
       "    <tr>\n",
       "      <th>411</th>\n",
       "      <td>2012.667</td>\n",
       "      <td>5.6</td>\n",
       "      <td>90.45606</td>\n",
       "      <td>9</td>\n",
       "      <td>24.97433</td>\n",
       "      <td>121.54310</td>\n",
       "      <td>50.0</td>\n",
       "    </tr>\n",
       "    <tr>\n",
       "      <th>412</th>\n",
       "      <td>2013.250</td>\n",
       "      <td>18.8</td>\n",
       "      <td>390.96960</td>\n",
       "      <td>7</td>\n",
       "      <td>24.97923</td>\n",
       "      <td>121.53986</td>\n",
       "      <td>40.6</td>\n",
       "    </tr>\n",
       "    <tr>\n",
       "      <th>413</th>\n",
       "      <td>2013.000</td>\n",
       "      <td>8.1</td>\n",
       "      <td>104.81010</td>\n",
       "      <td>5</td>\n",
       "      <td>24.96674</td>\n",
       "      <td>121.54067</td>\n",
       "      <td>52.5</td>\n",
       "    </tr>\n",
       "    <tr>\n",
       "      <th>414</th>\n",
       "      <td>2013.500</td>\n",
       "      <td>6.5</td>\n",
       "      <td>90.45606</td>\n",
       "      <td>9</td>\n",
       "      <td>24.97433</td>\n",
       "      <td>121.54310</td>\n",
       "      <td>63.9</td>\n",
       "    </tr>\n",
       "  </tbody>\n",
       "</table>\n",
       "<p>414 rows × 7 columns</p>\n",
       "</div>"
      ],
      "text/plain": [
       "     X1 transaction date  X2 house age  \\\n",
       "No                                       \n",
       "1               2012.917          32.0   \n",
       "2               2012.917          19.5   \n",
       "3               2013.583          13.3   \n",
       "4               2013.500          13.3   \n",
       "5               2012.833           5.0   \n",
       "..                   ...           ...   \n",
       "410             2013.000          13.7   \n",
       "411             2012.667           5.6   \n",
       "412             2013.250          18.8   \n",
       "413             2013.000           8.1   \n",
       "414             2013.500           6.5   \n",
       "\n",
       "     X3 distance to the nearest MRT station  X4 number of convenience stores  \\\n",
       "No                                                                             \n",
       "1                                  84.87882                               10   \n",
       "2                                 306.59470                                9   \n",
       "3                                 561.98450                                5   \n",
       "4                                 561.98450                                5   \n",
       "5                                 390.56840                                5   \n",
       "..                                      ...                              ...   \n",
       "410                              4082.01500                                0   \n",
       "411                                90.45606                                9   \n",
       "412                               390.96960                                7   \n",
       "413                               104.81010                                5   \n",
       "414                                90.45606                                9   \n",
       "\n",
       "     X5 latitude  X6 longitude  Y house price of unit area  \n",
       "No                                                          \n",
       "1       24.98298     121.54024                        37.9  \n",
       "2       24.98034     121.53951                        42.2  \n",
       "3       24.98746     121.54391                        47.3  \n",
       "4       24.98746     121.54391                        54.8  \n",
       "5       24.97937     121.54245                        43.1  \n",
       "..           ...           ...                         ...  \n",
       "410     24.94155     121.50381                        15.4  \n",
       "411     24.97433     121.54310                        50.0  \n",
       "412     24.97923     121.53986                        40.6  \n",
       "413     24.96674     121.54067                        52.5  \n",
       "414     24.97433     121.54310                        63.9  \n",
       "\n",
       "[414 rows x 7 columns]"
      ]
     },
     "execution_count": 13,
     "metadata": {},
     "output_type": "execute_result"
    }
   ],
   "source": [
    "r_estate"
   ]
  },
  {
   "cell_type": "code",
   "execution_count": 14,
   "id": "73c14602",
   "metadata": {},
   "outputs": [
    {
     "data": {
      "text/plain": [
       "X1 transaction date                       float64\n",
       "X2 house age                              float64\n",
       "X3 distance to the nearest MRT station    float64\n",
       "X4 number of convenience stores             int64\n",
       "X5 latitude                               float64\n",
       "X6 longitude                              float64\n",
       "Y house price of unit area                float64\n",
       "dtype: object"
      ]
     },
     "execution_count": 14,
     "metadata": {},
     "output_type": "execute_result"
    }
   ],
   "source": [
    "r_estate.dtypes\n"
   ]
  },
  {
   "cell_type": "code",
   "execution_count": 15,
   "id": "9552a030",
   "metadata": {},
   "outputs": [],
   "source": [
    "r_estate_labels=r_estate[\"Y house price of unit area\"].copy()\n",
    "r_estate = r_estate.drop(\"Y house price of unit area\", axis=1)\n"
   ]
  },
  {
   "cell_type": "code",
   "execution_count": 16,
   "id": "ec007907",
   "metadata": {},
   "outputs": [
    {
     "data": {
      "text/plain": [
       "X1 transaction date                       0\n",
       "X2 house age                              0\n",
       "X3 distance to the nearest MRT station    0\n",
       "X4 number of convenience stores           0\n",
       "X5 latitude                               0\n",
       "X6 longitude                              0\n",
       "dtype: int64"
      ]
     },
     "execution_count": 16,
     "metadata": {},
     "output_type": "execute_result"
    }
   ],
   "source": [
    "r_estate.isnull().sum()  #we don't have missing data ,that's great!\n"
   ]
  },
  {
   "cell_type": "code",
   "execution_count": 17,
   "id": "484ee2c3",
   "metadata": {},
   "outputs": [
    {
     "data": {
      "text/plain": [
       "(414, 6)"
      ]
     },
     "execution_count": 17,
     "metadata": {},
     "output_type": "execute_result"
    }
   ],
   "source": [
    "r_estate.shape\n"
   ]
  },
  {
   "cell_type": "markdown",
   "id": "080890fe",
   "metadata": {},
   "source": [
    "# 2.1Transformation Pipelines"
   ]
  },
  {
   "cell_type": "code",
   "execution_count": 18,
   "id": "7f488151",
   "metadata": {},
   "outputs": [],
   "source": [
    "from sklearn.pipeline import Pipeline\n",
    "from sklearn.impute import SimpleImputer\n",
    "from sklearn.preprocessing import FunctionTransformer\n",
    "from sklearn.preprocessing import StandardScaler\n"
   ]
  },
  {
   "cell_type": "code",
   "execution_count": 19,
   "id": "efc306d9",
   "metadata": {},
   "outputs": [],
   "source": [
    "num_pipeline = Pipeline([      \n",
    "        ('std_scaler', StandardScaler())\n",
    "        ])                                     #this step to make the data set as scaler"
   ]
  },
  {
   "cell_type": "code",
   "execution_count": 20,
   "id": "2e494939",
   "metadata": {},
   "outputs": [],
   "source": [
    "r_estate_prepared = num_pipeline.fit_transform(r_estate)\n"
   ]
  },
  {
   "cell_type": "code",
   "execution_count": 21,
   "id": "d3046488",
   "metadata": {},
   "outputs": [
    {
     "data": {
      "text/plain": [
       "(414, 6)"
      ]
     },
     "execution_count": 21,
     "metadata": {},
     "output_type": "execute_result"
    }
   ],
   "source": [
    "r_estate_prepared.shape\n"
   ]
  },
  {
   "cell_type": "code",
   "execution_count": 22,
   "id": "811c11b7",
   "metadata": {},
   "outputs": [
    {
     "data": {
      "text/plain": [
       "numpy.ndarray"
      ]
     },
     "execution_count": 22,
     "metadata": {},
     "output_type": "execute_result"
    }
   ],
   "source": [
    "type(r_estate_prepared)\n"
   ]
  },
  {
   "cell_type": "code",
   "execution_count": 23,
   "id": "d8082284",
   "metadata": {},
   "outputs": [],
   "source": [
    "r_estate_prepared = pd.DataFrame(r_estate_prepared, columns = r_estate.columns)\n"
   ]
  },
  {
   "cell_type": "code",
   "execution_count": 24,
   "id": "15111694",
   "metadata": {},
   "outputs": [
    {
     "data": {
      "text/plain": [
       "X1 transaction date                       0\n",
       "X2 house age                              0\n",
       "X3 distance to the nearest MRT station    0\n",
       "X4 number of convenience stores           0\n",
       "X5 latitude                               0\n",
       "X6 longitude                              0\n",
       "dtype: int64"
      ]
     },
     "execution_count": 24,
     "metadata": {},
     "output_type": "execute_result"
    }
   ],
   "source": [
    "r_estate_prepared.isnull().sum()   #this step to check prepared data has no missing value.\n"
   ]
  },
  {
   "cell_type": "code",
   "execution_count": 25,
   "id": "69bea110",
   "metadata": {},
   "outputs": [
    {
     "data": {
      "text/html": [
       "<div>\n",
       "<style scoped>\n",
       "    .dataframe tbody tr th:only-of-type {\n",
       "        vertical-align: middle;\n",
       "    }\n",
       "\n",
       "    .dataframe tbody tr th {\n",
       "        vertical-align: top;\n",
       "    }\n",
       "\n",
       "    .dataframe thead th {\n",
       "        text-align: right;\n",
       "    }\n",
       "</style>\n",
       "<table border=\"1\" class=\"dataframe\">\n",
       "  <thead>\n",
       "    <tr style=\"text-align: right;\">\n",
       "      <th></th>\n",
       "      <th>X1 transaction date</th>\n",
       "      <th>X2 house age</th>\n",
       "      <th>X3 distance to the nearest MRT station</th>\n",
       "      <th>X4 number of convenience stores</th>\n",
       "      <th>X5 latitude</th>\n",
       "      <th>X6 longitude</th>\n",
       "    </tr>\n",
       "  </thead>\n",
       "  <tbody>\n",
       "    <tr>\n",
       "      <th>count</th>\n",
       "      <td>4.140000e+02</td>\n",
       "      <td>4.140000e+02</td>\n",
       "      <td>4.140000e+02</td>\n",
       "      <td>4.140000e+02</td>\n",
       "      <td>4.140000e+02</td>\n",
       "      <td>4.140000e+02</td>\n",
       "    </tr>\n",
       "    <tr>\n",
       "      <th>mean</th>\n",
       "      <td>3.705656e-13</td>\n",
       "      <td>-6.704245e-17</td>\n",
       "      <td>-1.161175e-16</td>\n",
       "      <td>-1.072679e-18</td>\n",
       "      <td>1.343228e-13</td>\n",
       "      <td>-1.614546e-12</td>\n",
       "    </tr>\n",
       "    <tr>\n",
       "      <th>std</th>\n",
       "      <td>1.001210e+00</td>\n",
       "      <td>1.001210e+00</td>\n",
       "      <td>1.001210e+00</td>\n",
       "      <td>1.001210e+00</td>\n",
       "      <td>1.001210e+00</td>\n",
       "      <td>1.001210e+00</td>\n",
       "    </tr>\n",
       "    <tr>\n",
       "      <th>min</th>\n",
       "      <td>-1.711384e+00</td>\n",
       "      <td>-1.556639e+00</td>\n",
       "      <td>-8.412787e-01</td>\n",
       "      <td>-1.391638e+00</td>\n",
       "      <td>-2.981805e+00</td>\n",
       "      <td>-3.903223e+00</td>\n",
       "    </tr>\n",
       "    <tr>\n",
       "      <th>25%</th>\n",
       "      <td>-8.236832e-01</td>\n",
       "      <td>-7.634921e-01</td>\n",
       "      <td>-6.303115e-01</td>\n",
       "      <td>-1.051734e+00</td>\n",
       "      <td>-4.864845e-01</td>\n",
       "      <td>-3.441981e-01</td>\n",
       "    </tr>\n",
       "    <tr>\n",
       "      <th>50%</th>\n",
       "      <td>6.401736e-02</td>\n",
       "      <td>-1.417172e-01</td>\n",
       "      <td>-4.693493e-01</td>\n",
       "      <td>-3.202000e-02</td>\n",
       "      <td>1.669943e-01</td>\n",
       "      <td>3.437301e-01</td>\n",
       "    </tr>\n",
       "    <tr>\n",
       "      <th>75%</th>\n",
       "      <td>9.517179e-01</td>\n",
       "      <td>9.172774e-01</td>\n",
       "      <td>2.938267e-01</td>\n",
       "      <td>6.477891e-01</td>\n",
       "      <td>6.796928e-01</td>\n",
       "      <td>6.487148e-01</td>\n",
       "    </tr>\n",
       "    <tr>\n",
       "      <th>max</th>\n",
       "      <td>1.541151e+00</td>\n",
       "      <td>2.292652e+00</td>\n",
       "      <td>4.287008e+00</td>\n",
       "      <td>2.007407e+00</td>\n",
       "      <td>3.675611e+00</td>\n",
       "      <td>2.146891e+00</td>\n",
       "    </tr>\n",
       "  </tbody>\n",
       "</table>\n",
       "</div>"
      ],
      "text/plain": [
       "       X1 transaction date  X2 house age  \\\n",
       "count         4.140000e+02  4.140000e+02   \n",
       "mean          3.705656e-13 -6.704245e-17   \n",
       "std           1.001210e+00  1.001210e+00   \n",
       "min          -1.711384e+00 -1.556639e+00   \n",
       "25%          -8.236832e-01 -7.634921e-01   \n",
       "50%           6.401736e-02 -1.417172e-01   \n",
       "75%           9.517179e-01  9.172774e-01   \n",
       "max           1.541151e+00  2.292652e+00   \n",
       "\n",
       "       X3 distance to the nearest MRT station  \\\n",
       "count                            4.140000e+02   \n",
       "mean                            -1.161175e-16   \n",
       "std                              1.001210e+00   \n",
       "min                             -8.412787e-01   \n",
       "25%                             -6.303115e-01   \n",
       "50%                             -4.693493e-01   \n",
       "75%                              2.938267e-01   \n",
       "max                              4.287008e+00   \n",
       "\n",
       "       X4 number of convenience stores   X5 latitude  X6 longitude  \n",
       "count                     4.140000e+02  4.140000e+02  4.140000e+02  \n",
       "mean                     -1.072679e-18  1.343228e-13 -1.614546e-12  \n",
       "std                       1.001210e+00  1.001210e+00  1.001210e+00  \n",
       "min                      -1.391638e+00 -2.981805e+00 -3.903223e+00  \n",
       "25%                      -1.051734e+00 -4.864845e-01 -3.441981e-01  \n",
       "50%                      -3.202000e-02  1.669943e-01  3.437301e-01  \n",
       "75%                       6.477891e-01  6.796928e-01  6.487148e-01  \n",
       "max                       2.007407e+00  3.675611e+00  2.146891e+00  "
      ]
     },
     "execution_count": 25,
     "metadata": {},
     "output_type": "execute_result"
    }
   ],
   "source": [
    "r_estate_prepared.describe()   #this table shows the std value is almost 1, the min value is near 0.\n"
   ]
  },
  {
   "cell_type": "code",
   "execution_count": 26,
   "id": "c0398111",
   "metadata": {},
   "outputs": [
    {
     "data": {
      "text/plain": [
       "pandas.core.series.Series"
      ]
     },
     "execution_count": 26,
     "metadata": {},
     "output_type": "execute_result"
    }
   ],
   "source": [
    "type(r_estate_labels)"
   ]
  },
  {
   "cell_type": "code",
   "execution_count": 27,
   "id": "0012ceeb",
   "metadata": {},
   "outputs": [
    {
     "data": {
      "text/plain": [
       "pandas.core.frame.DataFrame"
      ]
     },
     "execution_count": 27,
     "metadata": {},
     "output_type": "execute_result"
    }
   ],
   "source": [
    "type(r_estate_prepared)"
   ]
  },
  {
   "cell_type": "code",
   "execution_count": 28,
   "id": "0cb83dd2",
   "metadata": {},
   "outputs": [],
   "source": [
    "r_estate_labels=r_estate_labels.to_numpy()"
   ]
  },
  {
   "cell_type": "markdown",
   "id": "ccde961d",
   "metadata": {},
   "source": [
    " # 2.1.1linear regression (just use the orginal data set)"
   ]
  },
  {
   "cell_type": "markdown",
   "id": "691c5b6c",
   "metadata": {},
   "source": [
    "## we can see the tables below:\n",
    " ### the R-suqared value is 0.582 and the p value which >0.05 is only the x6 column, the results is not bad!\n",
    " ### but this result is not the real one,because we use orginal data set. this is not the final results.\n",
    " ### let's do something that shows the real results."
   ]
  },
  {
   "cell_type": "code",
   "execution_count": 29,
   "id": "efe648cb",
   "metadata": {},
   "outputs": [
    {
     "data": {
      "text/html": [
       "<table class=\"simpletable\">\n",
       "<tr>\n",
       "        <td>Model:</td>               <td>OLS</td>         <td>Adj. R-squared:</td>     <td>0.576</td>  \n",
       "</tr>\n",
       "<tr>\n",
       "  <td>Dependent Variable:</td>         <td>y</td>               <td>AIC:</td>         <td>2987.9241</td>\n",
       "</tr>\n",
       "<tr>\n",
       "         <td>Date:</td>        <td>2022-11-08 11:52</td>        <td>BIC:</td>         <td>3016.1052</td>\n",
       "</tr>\n",
       "<tr>\n",
       "   <td>No. Observations:</td>         <td>414</td>         <td>Log-Likelihood:</td>    <td>-1487.0</td> \n",
       "</tr>\n",
       "<tr>\n",
       "       <td>Df Model:</td>              <td>6</td>           <td>F-statistic:</td>       <td>94.59</td>  \n",
       "</tr>\n",
       "<tr>\n",
       "     <td>Df Residuals:</td>           <td>407</td>       <td>Prob (F-statistic):</td> <td>4.86e-74</td> \n",
       "</tr>\n",
       "<tr>\n",
       "      <td>R-squared:</td>            <td>0.582</td>            <td>Scale:</td>         <td>78.458</td>  \n",
       "</tr>\n",
       "</table>\n",
       "<table class=\"simpletable\">\n",
       "<tr>\n",
       "                     <td></td>                     <th>Coef.</th>  <th>Std.Err.</th>    <th>t</th>     <th>P>|t|</th> <th>[0.025</th>  <th>0.975]</th> \n",
       "</tr>\n",
       "<tr>\n",
       "  <th>const</th>                                  <td>37.9802</td>  <td>0.4353</td>  <td>87.2445</td> <td>0.0000</td> <td>37.1244</td> <td>38.8360</td>\n",
       "</tr>\n",
       "<tr>\n",
       "  <th>X1 transaction date</th>                    <td>1.4493</td>   <td>0.4385</td>  <td>3.3051</td>  <td>0.0010</td> <td>0.5873</td>  <td>2.3113</td> \n",
       "</tr>\n",
       "<tr>\n",
       "  <th>X2 house age</th>                           <td>-3.0688</td>  <td>0.4384</td>  <td>-6.9995</td> <td>0.0000</td> <td>-3.9307</td> <td>-2.2069</td>\n",
       "</tr>\n",
       "<tr>\n",
       "  <th>X3 distance to the nearest MRT station</th> <td>-5.6568</td>  <td>0.9051</td>  <td>-6.2497</td> <td>0.0000</td> <td>-7.4361</td> <td>-3.8775</td>\n",
       "</tr>\n",
       "<tr>\n",
       "  <th>X4 number of convenience stores</th>        <td>3.3341</td>   <td>0.5536</td>  <td>6.0228</td>  <td>0.0000</td> <td>2.2459</td>  <td>4.4223</td> \n",
       "</tr>\n",
       "<tr>\n",
       "  <th>X5 latitude</th>                            <td>2.7948</td>   <td>0.5524</td>  <td>5.0592</td>  <td>0.0000</td> <td>1.7088</td>  <td>3.8807</td> \n",
       "</tr>\n",
       "<tr>\n",
       "  <th>X6 longitude</th>                           <td>-0.1904</td>  <td>0.7447</td>  <td>-0.2557</td> <td>0.7983</td> <td>-1.6544</td> <td>1.2735</td> \n",
       "</tr>\n",
       "</table>\n",
       "<table class=\"simpletable\">\n",
       "<tr>\n",
       "     <td>Omnibus:</td>    <td>231.634</td>  <td>Durbin-Watson:</td>     <td>2.153</td> \n",
       "</tr>\n",
       "<tr>\n",
       "  <td>Prob(Omnibus):</td>  <td>0.000</td>  <td>Jarque-Bera (JB):</td> <td>3599.138</td>\n",
       "</tr>\n",
       "<tr>\n",
       "       <td>Skew:</td>      <td>2.026</td>      <td>Prob(JB):</td>       <td>0.000</td> \n",
       "</tr>\n",
       "<tr>\n",
       "     <td>Kurtosis:</td>   <td>16.865</td>   <td>Condition No.:</td>       <td>4</td>   \n",
       "</tr>\n",
       "</table>"
      ],
      "text/plain": [
       "<class 'statsmodels.iolib.summary2.Summary'>\n",
       "\"\"\"\n",
       "                           Results: Ordinary least squares\n",
       "======================================================================================\n",
       "Model:                      OLS                    Adj. R-squared:           0.576    \n",
       "Dependent Variable:         y                      AIC:                      2987.9241\n",
       "Date:                       2022-11-08 11:52       BIC:                      3016.1052\n",
       "No. Observations:           414                    Log-Likelihood:           -1487.0  \n",
       "Df Model:                   6                      F-statistic:              94.59    \n",
       "Df Residuals:               407                    Prob (F-statistic):       4.86e-74 \n",
       "R-squared:                  0.582                  Scale:                    78.458   \n",
       "--------------------------------------------------------------------------------------\n",
       "                                        Coef.  Std.Err.    t    P>|t|   [0.025  0.975]\n",
       "--------------------------------------------------------------------------------------\n",
       "const                                  37.9802   0.4353 87.2445 0.0000 37.1244 38.8360\n",
       "X1 transaction date                     1.4493   0.4385  3.3051 0.0010  0.5873  2.3113\n",
       "X2 house age                           -3.0688   0.4384 -6.9995 0.0000 -3.9307 -2.2069\n",
       "X3 distance to the nearest MRT station -5.6568   0.9051 -6.2497 0.0000 -7.4361 -3.8775\n",
       "X4 number of convenience stores         3.3341   0.5536  6.0228 0.0000  2.2459  4.4223\n",
       "X5 latitude                             2.7948   0.5524  5.0592 0.0000  1.7088  3.8807\n",
       "X6 longitude                           -0.1904   0.7447 -0.2557 0.7983 -1.6544  1.2735\n",
       "--------------------------------------------------------------------------------------\n",
       "Omnibus:                    231.634             Durbin-Watson:                2.153   \n",
       "Prob(Omnibus):              0.000               Jarque-Bera (JB):             3599.138\n",
       "Skew:                       2.026               Prob(JB):                     0.000   \n",
       "Kurtosis:                   16.865              Condition No.:                4       \n",
       "======================================================================================\n",
       "\n",
       "\"\"\""
      ]
     },
     "execution_count": 29,
     "metadata": {},
     "output_type": "execute_result"
    }
   ],
   "source": [
    "import statsmodels.api as sm\n",
    "X_const = sm.add_constant(r_estate_prepared)\n",
    "OLS_model = sm.OLS(r_estate_labels,X_const)\n",
    "lr_fit = OLS_model.fit()\n",
    "lr_fit.summary2()\n",
    "\n"
   ]
  },
  {
   "cell_type": "code",
   "execution_count": 30,
   "id": "6a4ef3e1",
   "metadata": {},
   "outputs": [
    {
     "data": {
      "text/html": [
       "<div>\n",
       "<style scoped>\n",
       "    .dataframe tbody tr th:only-of-type {\n",
       "        vertical-align: middle;\n",
       "    }\n",
       "\n",
       "    .dataframe tbody tr th {\n",
       "        vertical-align: top;\n",
       "    }\n",
       "\n",
       "    .dataframe thead th {\n",
       "        text-align: right;\n",
       "    }\n",
       "</style>\n",
       "<table border=\"1\" class=\"dataframe\">\n",
       "  <thead>\n",
       "    <tr style=\"text-align: right;\">\n",
       "      <th></th>\n",
       "      <th>X1 transaction date</th>\n",
       "      <th>X2 house age</th>\n",
       "      <th>X3 distance to the nearest MRT station</th>\n",
       "      <th>X4 number of convenience stores</th>\n",
       "      <th>X5 latitude</th>\n",
       "      <th>X6 longitude</th>\n",
       "    </tr>\n",
       "  </thead>\n",
       "  <tbody>\n",
       "    <tr>\n",
       "      <th>0</th>\n",
       "      <td>-0.823683</td>\n",
       "      <td>1.255628</td>\n",
       "      <td>-0.792495</td>\n",
       "      <td>2.007407</td>\n",
       "      <td>1.125430</td>\n",
       "      <td>0.448762</td>\n",
       "    </tr>\n",
       "    <tr>\n",
       "      <th>1</th>\n",
       "      <td>-0.823683</td>\n",
       "      <td>0.157086</td>\n",
       "      <td>-0.616612</td>\n",
       "      <td>1.667503</td>\n",
       "      <td>0.912444</td>\n",
       "      <td>0.401139</td>\n",
       "    </tr>\n",
       "    <tr>\n",
       "      <th>2</th>\n",
       "      <td>1.541151</td>\n",
       "      <td>-0.387791</td>\n",
       "      <td>-0.414015</td>\n",
       "      <td>0.307885</td>\n",
       "      <td>1.486860</td>\n",
       "      <td>0.688183</td>\n",
       "    </tr>\n",
       "    <tr>\n",
       "      <th>3</th>\n",
       "      <td>1.246435</td>\n",
       "      <td>-0.387791</td>\n",
       "      <td>-0.414015</td>\n",
       "      <td>0.307885</td>\n",
       "      <td>1.486860</td>\n",
       "      <td>0.688183</td>\n",
       "    </tr>\n",
       "    <tr>\n",
       "      <th>4</th>\n",
       "      <td>-1.121951</td>\n",
       "      <td>-1.117223</td>\n",
       "      <td>-0.549997</td>\n",
       "      <td>0.307885</td>\n",
       "      <td>0.834188</td>\n",
       "      <td>0.592937</td>\n",
       "    </tr>\n",
       "  </tbody>\n",
       "</table>\n",
       "</div>"
      ],
      "text/plain": [
       "   X1 transaction date  X2 house age  X3 distance to the nearest MRT station  \\\n",
       "0            -0.823683      1.255628                               -0.792495   \n",
       "1            -0.823683      0.157086                               -0.616612   \n",
       "2             1.541151     -0.387791                               -0.414015   \n",
       "3             1.246435     -0.387791                               -0.414015   \n",
       "4            -1.121951     -1.117223                               -0.549997   \n",
       "\n",
       "   X4 number of convenience stores  X5 latitude  X6 longitude  \n",
       "0                         2.007407     1.125430      0.448762  \n",
       "1                         1.667503     0.912444      0.401139  \n",
       "2                         0.307885     1.486860      0.688183  \n",
       "3                         0.307885     1.486860      0.688183  \n",
       "4                         0.307885     0.834188      0.592937  "
      ]
     },
     "execution_count": 30,
     "metadata": {},
     "output_type": "execute_result"
    }
   ],
   "source": [
    "r_estate_prepared.head()"
   ]
  },
  {
   "cell_type": "markdown",
   "id": "e015ca31",
   "metadata": {},
   "source": [
    "# use PCA to reduce dimension, extract info and, solve multicollinearity"
   ]
  },
  {
   "cell_type": "code",
   "execution_count": 31,
   "id": "3209af2d",
   "metadata": {},
   "outputs": [],
   "source": [
    "from statsmodels.stats.outliers_influence import variance_inflation_factor\n",
    "\n",
    "r_estate_prepared_VIF = {}\n",
    "\n",
    "for i in range(r_estate_prepared.shape[1]):\n",
    "    r_estate_prepared_VIF[r_estate_prepared.columns[i]] = variance_inflation_factor(r_estate_prepared.values, i)"
   ]
  },
  {
   "cell_type": "code",
   "execution_count": 32,
   "id": "a0549c8a",
   "metadata": {},
   "outputs": [
    {
     "data": {
      "text/plain": [
       "{'X1 transaction date': 1.0146736235676819,\n",
       " 'X2 house age': 1.0142867648104992,\n",
       " 'X3 distance to the nearest MRT station': 4.323019469033114,\n",
       " 'X4 number of convenience stores': 1.617037748505585,\n",
       " 'X5 latitude': 1.6102343933412469,\n",
       " 'X6 longitude': 2.926302102890358}"
      ]
     },
     "execution_count": 32,
     "metadata": {},
     "output_type": "execute_result"
    }
   ],
   "source": [
    "r_estate_prepared_VIF"
   ]
  },
  {
   "cell_type": "code",
   "execution_count": 33,
   "id": "f66707ac",
   "metadata": {},
   "outputs": [
    {
     "data": {
      "text/plain": [
       "PCA()"
      ]
     },
     "execution_count": 33,
     "metadata": {},
     "output_type": "execute_result"
    }
   ],
   "source": [
    "from sklearn.decomposition import PCA, KernelPCA\n",
    "pca = PCA(n_components = None) \n",
    "pca.fit(r_estate_prepared)"
   ]
  },
  {
   "cell_type": "code",
   "execution_count": 34,
   "id": "4c4fd075",
   "metadata": {},
   "outputs": [
    {
     "name": "stdout",
     "output_type": "stream",
     "text": [
      "Variances (Percentage):\n",
      "[44.57320963 17.4571358  16.38282284  9.92428447  9.1603346   2.50221266]\n",
      "\n"
     ]
    }
   ],
   "source": [
    "print(\"Variances (Percentage):\")\n",
    "print(pca.explained_variance_ratio_ * 100)\n",
    "print()"
   ]
  },
  {
   "cell_type": "code",
   "execution_count": 35,
   "id": "516e095e",
   "metadata": {},
   "outputs": [
    {
     "name": "stdout",
     "output_type": "stream",
     "text": [
      "Cumulative Variances (Percentage):\n",
      "[ 44.57320963  62.03034543  78.41316827  88.33745275  97.49778734\n",
      " 100.        ]\n",
      "\n"
     ]
    }
   ],
   "source": [
    "print(\"Cumulative Variances (Percentage):\")\n",
    "print(pca.explained_variance_ratio_.cumsum() * 100)\n",
    "print()"
   ]
  },
  {
   "cell_type": "code",
   "execution_count": 36,
   "id": "d8737905",
   "metadata": {},
   "outputs": [
    {
     "data": {
      "text/plain": [
       "<matplotlib.collections.LineCollection at 0x14150de50>"
      ]
     },
     "execution_count": 36,
     "metadata": {},
     "output_type": "execute_result"
    },
    {
     "data": {
      "image/png": "[encoded data removed]",
      "text/plain": [
       "<Figure size 432x288 with 1 Axes>"
      ]
     },
     "metadata": {
      "needs_background": "light"
     },
     "output_type": "display_data"
    }
   ],
   "source": [
    "components =  None\n",
    "components = len(pca.explained_variance_ratio_) if components is None else components\n",
    "plt.plot(range(1,components+1), np.cumsum(pca.explained_variance_ratio_ * 100))\n",
    "plt.xlabel(\"Number of components\")\n",
    "plt.ylabel(\"Explained variance (%)\")\n",
    "plt.vlines(x = 5, ymin = 20, ymax = 100, color = \"red\")"
   ]
  },
  {
   "cell_type": "markdown",
   "id": "7d3ce250",
   "metadata": {},
   "source": [
    "### we use pca to transform r_estate_prepared as r_estate_in data set."
   ]
  },
  {
   "cell_type": "code",
   "execution_count": 37,
   "id": "092c282c",
   "metadata": {},
   "outputs": [
    {
     "name": "stdout",
     "output_type": "stream",
     "text": [
      "(414, 6)\n"
     ]
    },
    {
     "data": {
      "text/html": [
       "<div>\n",
       "<style scoped>\n",
       "    .dataframe tbody tr th:only-of-type {\n",
       "        vertical-align: middle;\n",
       "    }\n",
       "\n",
       "    .dataframe tbody tr th {\n",
       "        vertical-align: top;\n",
       "    }\n",
       "\n",
       "    .dataframe thead th {\n",
       "        text-align: right;\n",
       "    }\n",
       "</style>\n",
       "<table border=\"1\" class=\"dataframe\">\n",
       "  <thead>\n",
       "    <tr style=\"text-align: right;\">\n",
       "      <th></th>\n",
       "      <th>X1 transaction date</th>\n",
       "      <th>X2 house age</th>\n",
       "      <th>X3 distance to the nearest MRT station</th>\n",
       "      <th>X4 number of convenience stores</th>\n",
       "      <th>X5 latitude</th>\n",
       "      <th>X6 longitude</th>\n",
       "    </tr>\n",
       "    <tr>\n",
       "      <th>No</th>\n",
       "      <th></th>\n",
       "      <th></th>\n",
       "      <th></th>\n",
       "      <th></th>\n",
       "      <th></th>\n",
       "      <th></th>\n",
       "    </tr>\n",
       "  </thead>\n",
       "  <tbody>\n",
       "    <tr>\n",
       "      <th>1</th>\n",
       "      <td>2012.917</td>\n",
       "      <td>32.0</td>\n",
       "      <td>84.87882</td>\n",
       "      <td>10</td>\n",
       "      <td>24.98298</td>\n",
       "      <td>121.54024</td>\n",
       "    </tr>\n",
       "    <tr>\n",
       "      <th>2</th>\n",
       "      <td>2012.917</td>\n",
       "      <td>19.5</td>\n",
       "      <td>306.59470</td>\n",
       "      <td>9</td>\n",
       "      <td>24.98034</td>\n",
       "      <td>121.53951</td>\n",
       "    </tr>\n",
       "    <tr>\n",
       "      <th>3</th>\n",
       "      <td>2013.583</td>\n",
       "      <td>13.3</td>\n",
       "      <td>561.98450</td>\n",
       "      <td>5</td>\n",
       "      <td>24.98746</td>\n",
       "      <td>121.54391</td>\n",
       "    </tr>\n",
       "    <tr>\n",
       "      <th>4</th>\n",
       "      <td>2013.500</td>\n",
       "      <td>13.3</td>\n",
       "      <td>561.98450</td>\n",
       "      <td>5</td>\n",
       "      <td>24.98746</td>\n",
       "      <td>121.54391</td>\n",
       "    </tr>\n",
       "    <tr>\n",
       "      <th>5</th>\n",
       "      <td>2012.833</td>\n",
       "      <td>5.0</td>\n",
       "      <td>390.56840</td>\n",
       "      <td>5</td>\n",
       "      <td>24.97937</td>\n",
       "      <td>121.54245</td>\n",
       "    </tr>\n",
       "  </tbody>\n",
       "</table>\n",
       "</div>"
      ],
      "text/plain": [
       "    X1 transaction date  X2 house age  X3 distance to the nearest MRT station  \\\n",
       "No                                                                              \n",
       "1              2012.917          32.0                                84.87882   \n",
       "2              2012.917          19.5                               306.59470   \n",
       "3              2013.583          13.3                               561.98450   \n",
       "4              2013.500          13.3                               561.98450   \n",
       "5              2012.833           5.0                               390.56840   \n",
       "\n",
       "    X4 number of convenience stores  X5 latitude  X6 longitude  \n",
       "No                                                              \n",
       "1                                10     24.98298     121.54024  \n",
       "2                                 9     24.98034     121.53951  \n",
       "3                                 5     24.98746     121.54391  \n",
       "4                                 5     24.98746     121.54391  \n",
       "5                                 5     24.97937     121.54245  "
      ]
     },
     "execution_count": 37,
     "metadata": {},
     "output_type": "execute_result"
    }
   ],
   "source": [
    "r_estate_in = pd.DataFrame(pca.transform(r_estate_prepared), columns = [\"comp_\" + str(i) for i in range(len(r_estate_prepared.columns))]).iloc[:, :6]\n",
    "print(r_estate_in.shape)\n",
    "r_estate.head()"
   ]
  },
  {
   "cell_type": "code",
   "execution_count": 38,
   "id": "a115ec90",
   "metadata": {},
   "outputs": [],
   "source": [
    "r_estate_prepared_VIF = {}\n",
    "\n",
    "for i in range(r_estate_in.shape[1]):\n",
    "    r_estate_prepared_VIF[r_estate_in.columns[i]] = variance_inflation_factor(r_estate_in.values, i)"
   ]
  },
  {
   "cell_type": "code",
   "execution_count": 39,
   "id": "7ad47d6f",
   "metadata": {},
   "outputs": [
    {
     "data": {
      "text/plain": [
       "{'comp_0': 1.0000000000000004,\n",
       " 'comp_1': 1.0000000000000002,\n",
       " 'comp_2': 0.9999999999999998,\n",
       " 'comp_3': 0.9999999999999996,\n",
       " 'comp_4': 1.0000000000000004,\n",
       " 'comp_5': 0.9999999999999991}"
      ]
     },
     "execution_count": 39,
     "metadata": {},
     "output_type": "execute_result"
    }
   ],
   "source": [
    "r_estate_prepared_VIF"
   ]
  },
  {
   "cell_type": "markdown",
   "id": "0c612651",
   "metadata": {},
   "source": [
    "### the results show no difference between the orginal one."
   ]
  },
  {
   "cell_type": "code",
   "execution_count": 40,
   "id": "bd22e3fc",
   "metadata": {},
   "outputs": [
    {
     "data": {
      "text/html": [
       "<table class=\"simpletable\">\n",
       "<tr>\n",
       "        <td>Model:</td>               <td>OLS</td>         <td>Adj. R-squared:</td>     <td>0.576</td>  \n",
       "</tr>\n",
       "<tr>\n",
       "  <td>Dependent Variable:</td>         <td>y</td>               <td>AIC:</td>         <td>2987.9241</td>\n",
       "</tr>\n",
       "<tr>\n",
       "         <td>Date:</td>        <td>2022-11-08 11:52</td>        <td>BIC:</td>         <td>3016.1052</td>\n",
       "</tr>\n",
       "<tr>\n",
       "   <td>No. Observations:</td>         <td>414</td>         <td>Log-Likelihood:</td>    <td>-1487.0</td> \n",
       "</tr>\n",
       "<tr>\n",
       "       <td>Df Model:</td>              <td>6</td>           <td>F-statistic:</td>       <td>94.59</td>  \n",
       "</tr>\n",
       "<tr>\n",
       "     <td>Df Residuals:</td>           <td>407</td>       <td>Prob (F-statistic):</td> <td>4.86e-74</td> \n",
       "</tr>\n",
       "<tr>\n",
       "      <td>R-squared:</td>            <td>0.582</td>            <td>Scale:</td>         <td>78.458</td>  \n",
       "</tr>\n",
       "</table>\n",
       "<table class=\"simpletable\">\n",
       "<tr>\n",
       "     <td></td>     <th>Coef.</th>  <th>Std.Err.</th>     <th>t</th>     <th>P>|t|</th> <th>[0.025</th>  <th>0.975]</th> \n",
       "</tr>\n",
       "<tr>\n",
       "  <th>const</th>  <td>37.9802</td>  <td>0.4353</td>   <td>87.2445</td> <td>0.0000</td> <td>37.1244</td> <td>38.8360</td>\n",
       "</tr>\n",
       "<tr>\n",
       "  <th>comp_0</th> <td>-5.8785</td>  <td>0.2662</td>  <td>-22.0831</td> <td>0.0000</td> <td>-6.4018</td> <td>-5.3552</td>\n",
       "</tr>\n",
       "<tr>\n",
       "  <th>comp_1</th> <td>0.8959</td>   <td>0.4254</td>   <td>2.1061</td>  <td>0.0358</td> <td>0.0597</td>  <td>1.7320</td> \n",
       "</tr>\n",
       "<tr>\n",
       "  <th>comp_2</th> <td>-3.0780</td>  <td>0.4391</td>   <td>-7.0099</td> <td>0.0000</td> <td>-3.9411</td> <td>-2.2148</td>\n",
       "</tr>\n",
       "<tr>\n",
       "  <th>comp_3</th> <td>2.0569</td>   <td>0.5641</td>   <td>3.6460</td>  <td>0.0003</td> <td>0.9479</td>  <td>3.1659</td> \n",
       "</tr>\n",
       "<tr>\n",
       "  <th>comp_4</th> <td>-1.0639</td>  <td>0.5872</td>   <td>-1.8119</td> <td>0.0707</td> <td>-2.2183</td> <td>0.0904</td> \n",
       "</tr>\n",
       "<tr>\n",
       "  <th>comp_5</th> <td>-3.5050</td>  <td>1.1235</td>   <td>-3.1196</td> <td>0.0019</td> <td>-5.7136</td> <td>-1.2964</td>\n",
       "</tr>\n",
       "</table>\n",
       "<table class=\"simpletable\">\n",
       "<tr>\n",
       "     <td>Omnibus:</td>    <td>231.634</td>  <td>Durbin-Watson:</td>     <td>2.153</td> \n",
       "</tr>\n",
       "<tr>\n",
       "  <td>Prob(Omnibus):</td>  <td>0.000</td>  <td>Jarque-Bera (JB):</td> <td>3599.138</td>\n",
       "</tr>\n",
       "<tr>\n",
       "       <td>Skew:</td>      <td>2.026</td>      <td>Prob(JB):</td>       <td>0.000</td> \n",
       "</tr>\n",
       "<tr>\n",
       "     <td>Kurtosis:</td>   <td>16.865</td>   <td>Condition No.:</td>       <td>4</td>   \n",
       "</tr>\n",
       "</table>"
      ],
      "text/plain": [
       "<class 'statsmodels.iolib.summary2.Summary'>\n",
       "\"\"\"\n",
       "                 Results: Ordinary least squares\n",
       "==================================================================\n",
       "Model:              OLS              Adj. R-squared:     0.576    \n",
       "Dependent Variable: y                AIC:                2987.9241\n",
       "Date:               2022-11-08 11:52 BIC:                3016.1052\n",
       "No. Observations:   414              Log-Likelihood:     -1487.0  \n",
       "Df Model:           6                F-statistic:        94.59    \n",
       "Df Residuals:       407              Prob (F-statistic): 4.86e-74 \n",
       "R-squared:          0.582            Scale:              78.458   \n",
       "--------------------------------------------------------------------\n",
       "           Coef.    Std.Err.      t       P>|t|     [0.025    0.975]\n",
       "--------------------------------------------------------------------\n",
       "const     37.9802     0.4353    87.2445   0.0000   37.1244   38.8360\n",
       "comp_0    -5.8785     0.2662   -22.0831   0.0000   -6.4018   -5.3552\n",
       "comp_1     0.8959     0.4254     2.1061   0.0358    0.0597    1.7320\n",
       "comp_2    -3.0780     0.4391    -7.0099   0.0000   -3.9411   -2.2148\n",
       "comp_3     2.0569     0.5641     3.6460   0.0003    0.9479    3.1659\n",
       "comp_4    -1.0639     0.5872    -1.8119   0.0707   -2.2183    0.0904\n",
       "comp_5    -3.5050     1.1235    -3.1196   0.0019   -5.7136   -1.2964\n",
       "------------------------------------------------------------------\n",
       "Omnibus:              231.634      Durbin-Watson:         2.153   \n",
       "Prob(Omnibus):        0.000        Jarque-Bera (JB):      3599.138\n",
       "Skew:                 2.026        Prob(JB):              0.000   \n",
       "Kurtosis:             16.865       Condition No.:         4       \n",
       "==================================================================\n",
       "\n",
       "\"\"\""
      ]
     },
     "execution_count": 40,
     "metadata": {},
     "output_type": "execute_result"
    }
   ],
   "source": [
    "import statsmodels.api as sm\n",
    "X_const = sm.add_constant(r_estate_in)\n",
    "OLS_model = sm.OLS(r_estate_labels, X_const)\n",
    "lr_fit = OLS_model.fit()\n",
    "lr_fit.summary2()"
   ]
  },
  {
   "cell_type": "markdown",
   "id": "9f4c15e4",
   "metadata": {},
   "source": [
    "# let split data as training sets and test sets to see the final results(standard linear regression)"
   ]
  },
  {
   "cell_type": "code",
   "execution_count": 41,
   "id": "3fb98382",
   "metadata": {},
   "outputs": [],
   "source": [
    "from sklearn.model_selection import train_test_split\n",
    "X_train, X_test, y_train, y_test = train_test_split(r_estate_in, r_estate_labels, test_size=0.2, random_state=1234) "
   ]
  },
  {
   "cell_type": "code",
   "execution_count": 42,
   "id": "56e613ad",
   "metadata": {},
   "outputs": [
    {
     "data": {
      "text/plain": [
       "(331, 6)"
      ]
     },
     "execution_count": 42,
     "metadata": {},
     "output_type": "execute_result"
    }
   ],
   "source": [
    "X_train.shape"
   ]
  },
  {
   "cell_type": "code",
   "execution_count": null,
   "id": "cab76fc6",
   "metadata": {},
   "outputs": [],
   "source": []
  },
  {
   "cell_type": "code",
   "execution_count": null,
   "id": "169139be",
   "metadata": {},
   "outputs": [],
   "source": []
  },
  {
   "cell_type": "markdown",
   "id": "13fef3de",
   "metadata": {},
   "source": [
    "# Machine learning \n",
    " ## tree base regression"
   ]
  },
  {
   "cell_type": "code",
   "execution_count": 44,
   "id": "04006ddb",
   "metadata": {},
   "outputs": [
    {
     "data": {
      "text/plain": [
       "(414,)"
      ]
     },
     "execution_count": 44,
     "metadata": {},
     "output_type": "execute_result"
    }
   ],
   "source": [
    "r_estate_labels.shape"
   ]
  },
  {
   "cell_type": "code",
   "execution_count": 45,
   "id": "35dbd7fb",
   "metadata": {},
   "outputs": [
    {
     "data": {
      "text/plain": [
       "DecisionTreeRegressor(random_state=42)"
      ]
     },
     "execution_count": 45,
     "metadata": {},
     "output_type": "execute_result"
    }
   ],
   "source": [
    "from sklearn.tree import DecisionTreeRegressor\n",
    "\n",
    "tree_reg = DecisionTreeRegressor(random_state=42)\n",
    "tree_reg.fit(r_estate_in, r_estate_labels)"
   ]
  },
  {
   "cell_type": "code",
   "execution_count": 46,
   "id": "ba56d44e",
   "metadata": {},
   "outputs": [
    {
     "data": {
      "text/plain": [
       "0.7815659988945395"
      ]
     },
     "execution_count": 46,
     "metadata": {},
     "output_type": "execute_result"
    }
   ],
   "source": [
    "r_estate_predictions = tree_reg.predict(r_estate_in)\n",
    "tree_mse = mean_squared_error(r_estate_labels, r_estate_predictions)\n",
    "tree_rmse = np.sqrt(tree_mse)\n",
    "tree_rmse"
   ]
  },
  {
   "cell_type": "code",
   "execution_count": 47,
   "id": "941523ad",
   "metadata": {},
   "outputs": [
    {
     "data": {
      "text/plain": [
       "array([37.9, 42.2, 47.3, 54.8, 43.1, 32.1, 40.3, 46.7, 18.8, 22.1])"
      ]
     },
     "execution_count": 47,
     "metadata": {},
     "output_type": "execute_result"
    }
   ],
   "source": [
    "r_estate_predictions[:10]"
   ]
  },
  {
   "cell_type": "code",
   "execution_count": 48,
   "id": "77d7ffa4",
   "metadata": {},
   "outputs": [
    {
     "data": {
      "text/plain": [
       "0.5183839559915354"
      ]
     },
     "execution_count": 48,
     "metadata": {},
     "output_type": "execute_result"
    }
   ],
   "source": [
    "mean_absolute_percentage_error(r_estate_labels, r_estate_predictions)"
   ]
  },
  {
   "cell_type": "code",
   "execution_count": 49,
   "id": "d034a2e9",
   "metadata": {},
   "outputs": [
    {
     "data": {
      "text/plain": [
       "10.77521056995751"
      ]
     },
     "execution_count": 49,
     "metadata": {},
     "output_type": "execute_result"
    }
   ],
   "source": [
    "lr_predictions = lr_fit.predict(sm.add_constant(X_test))\n",
    "lr_mse = mean_squared_error(y_test, lr_predictions)\n",
    "lr_rmse = np.sqrt(lr_mse)\n",
    "lr_rmse"
   ]
  },
  {
   "cell_type": "markdown",
   "id": "1bf961d7",
   "metadata": {},
   "source": [
    "# Attention ,this is the real predictions results!!!!"
   ]
  },
  {
   "cell_type": "markdown",
   "id": "655be033",
   "metadata": {},
   "source": [
    "## we can see the results is 0.46 by using standard linear regression!"
   ]
  },
  {
   "cell_type": "code",
   "execution_count": 53,
   "id": "29a952ae",
   "metadata": {},
   "outputs": [],
   "source": [
    "from sklearn.metrics import r2_score"
   ]
  },
  {
   "cell_type": "code",
   "execution_count": 54,
   "id": "8d8c9ebd",
   "metadata": {},
   "outputs": [
    {
     "name": "stdout",
     "output_type": "stream",
     "text": [
      "Testing performance:\n",
      "R2: 0.46\n"
     ]
    }
   ],
   "source": [
    "lr_r2 = r2_score(y_test, lr_predictions)\n",
    "print('Testing performance:')\n",
    "print('R2: {:.2f}'.format(lr_r2))"
   ]
  },
  {
   "cell_type": "markdown",
   "id": "aa4e6cc0",
   "metadata": {},
   "source": [
    "# Random Forest Regresson"
   ]
  },
  {
   "cell_type": "code",
   "execution_count": 55,
   "id": "964e8ce7",
   "metadata": {},
   "outputs": [
    {
     "data": {
      "text/plain": [
       "RandomForestRegressor(n_estimators=50, random_state=42)"
      ]
     },
     "execution_count": 55,
     "metadata": {},
     "output_type": "execute_result"
    }
   ],
   "source": [
    "from sklearn.ensemble import RandomForestRegressor\n",
    "\n",
    "forest_reg = RandomForestRegressor(n_estimators=50, random_state=42)\n",
    "forest_reg.fit(X_train, y_train)"
   ]
  },
  {
   "cell_type": "markdown",
   "id": "be3660af",
   "metadata": {},
   "source": [
    "# the r2_score by using training set is 0.95,means it has over fitting problem."
   ]
  },
  {
   "cell_type": "code",
   "execution_count": 69,
   "id": "fecabdba",
   "metadata": {},
   "outputs": [
    {
     "data": {
      "text/plain": [
       "2.8771100389920115"
      ]
     },
     "execution_count": 69,
     "metadata": {},
     "output_type": "execute_result"
    }
   ],
   "source": [
    "r_estate_predictions1 = forest_reg.predict(X_train)\n",
    "forest_mse = mean_squared_error(y_train, r_estate_predictions1)\n",
    "forest_rmse = np.sqrt(forest_mse)\n",
    "forest_rmse"
   ]
  },
  {
   "cell_type": "code",
   "execution_count": 59,
   "id": "45450270",
   "metadata": {},
   "outputs": [
    {
     "name": "stdout",
     "output_type": "stream",
     "text": [
      "Testing performance:\n",
      "R2: 0.95\n"
     ]
    }
   ],
   "source": [
    "rf_r2_1 = r2_score(y_train, r_estate_predictions1)\n",
    "print('Testing performance:')\n",
    "print('R2: {:.2f}'.format(rf_r2_1))"
   ]
  },
  {
   "cell_type": "markdown",
   "id": "ed97b149",
   "metadata": {},
   "source": [
    "# The random forest regression values below:"
   ]
  },
  {
   "cell_type": "code",
   "execution_count": 70,
   "id": "f7cb7fed",
   "metadata": {},
   "outputs": [
    {
     "data": {
      "text/plain": [
       "9.815679378202134"
      ]
     },
     "execution_count": 70,
     "metadata": {},
     "output_type": "execute_result"
    }
   ],
   "source": [
    "r_estate_predictions = forest_reg.predict(X_test)\n",
    "forest_mse = mean_squared_error(y_test, r_estate_predictions)\n",
    "forest_rmse = np.sqrt(forest_mse)\n",
    "forest_rmse"
   ]
  },
  {
   "cell_type": "code",
   "execution_count": 71,
   "id": "63044690",
   "metadata": {},
   "outputs": [
    {
     "name": "stdout",
     "output_type": "stream",
     "text": [
      "Testing performance:\n",
      "R2: 0.55\n"
     ]
    }
   ],
   "source": [
    "rf_r2 = r2_score(y_test, r_estate_predictions)\n",
    "print('Testing performance:')\n",
    "print('R2: {:.2f}'.format(rf_r2))"
   ]
  },
  {
   "cell_type": "markdown",
   "id": "8af5f466",
   "metadata": {},
   "source": [
    "# CatBoost Regressor\n",
    "### let's try catboost to see the results"
   ]
  },
  {
   "cell_type": "code",
   "execution_count": 72,
   "id": "95d1b67e",
   "metadata": {},
   "outputs": [
    {
     "name": "stdout",
     "output_type": "stream",
     "text": [
      "Requirement already satisfied: catboost in /Applications/Anaconda/anaconda3/lib/python3.9/site-packages (1.1.1)\n",
      "Requirement already satisfied: graphviz in /Applications/Anaconda/anaconda3/lib/python3.9/site-packages (from catboost) (0.20.1)\n",
      "Requirement already satisfied: pandas>=0.24.0 in /Applications/Anaconda/anaconda3/lib/python3.9/site-packages (from catboost) (1.4.2)\n",
      "Requirement already satisfied: six in /Applications/Anaconda/anaconda3/lib/python3.9/site-packages (from catboost) (1.16.0)\n",
      "Requirement already satisfied: numpy>=1.16.0 in /Applications/Anaconda/anaconda3/lib/python3.9/site-packages (from catboost) (1.21.5)\n",
      "Requirement already satisfied: matplotlib in /Applications/Anaconda/anaconda3/lib/python3.9/site-packages (from catboost) (3.5.1)\n",
      "Requirement already satisfied: scipy in /Applications/Anaconda/anaconda3/lib/python3.9/site-packages (from catboost) (1.7.3)\n",
      "Requirement already satisfied: plotly in /Applications/Anaconda/anaconda3/lib/python3.9/site-packages (from catboost) (5.6.0)\n",
      "Requirement already satisfied: python-dateutil>=2.8.1 in /Applications/Anaconda/anaconda3/lib/python3.9/site-packages (from pandas>=0.24.0->catboost) (2.8.2)\n",
      "Requirement already satisfied: pytz>=2020.1 in /Applications/Anaconda/anaconda3/lib/python3.9/site-packages (from pandas>=0.24.0->catboost) (2021.3)\n",
      "Requirement already satisfied: pillow>=6.2.0 in /Applications/Anaconda/anaconda3/lib/python3.9/site-packages (from matplotlib->catboost) (9.0.1)\n",
      "Requirement already satisfied: pyparsing>=2.2.1 in /Applications/Anaconda/anaconda3/lib/python3.9/site-packages (from matplotlib->catboost) (3.0.4)\n",
      "Requirement already satisfied: cycler>=0.10 in /Applications/Anaconda/anaconda3/lib/python3.9/site-packages (from matplotlib->catboost) (0.11.0)\n",
      "Requirement already satisfied: packaging>=20.0 in /Applications/Anaconda/anaconda3/lib/python3.9/site-packages (from matplotlib->catboost) (21.3)\n",
      "Requirement already satisfied: kiwisolver>=1.0.1 in /Applications/Anaconda/anaconda3/lib/python3.9/site-packages (from matplotlib->catboost) (1.4.2)\n",
      "Requirement already satisfied: fonttools>=4.22.0 in /Applications/Anaconda/anaconda3/lib/python3.9/site-packages (from matplotlib->catboost) (4.25.0)\n",
      "Requirement already satisfied: tenacity>=6.2.0 in /Applications/Anaconda/anaconda3/lib/python3.9/site-packages (from plotly->catboost) (8.0.1)\n"
     ]
    }
   ],
   "source": [
    "!pip install catboost"
   ]
  },
  {
   "cell_type": "code",
   "execution_count": 73,
   "id": "5b8ff2ba",
   "metadata": {},
   "outputs": [],
   "source": [
    "import catboost as cb"
   ]
  },
  {
   "cell_type": "code",
   "execution_count": 74,
   "id": "6a31443c",
   "metadata": {},
   "outputs": [],
   "source": [
    "train_dataset = cb.Pool(X_train, y_train) \n",
    "test_dataset = cb.Pool(X_test, y_test)"
   ]
  },
  {
   "cell_type": "code",
   "execution_count": 75,
   "id": "9e6f2d51",
   "metadata": {},
   "outputs": [],
   "source": [
    "cb_reg = cb.CatBoostRegressor(loss_function='RMSE', silent=True)"
   ]
  },
  {
   "cell_type": "code",
   "execution_count": 76,
   "id": "dcbefabb",
   "metadata": {},
   "outputs": [
    {
     "name": "stdout",
     "output_type": "stream",
     "text": [
      "\n",
      "bestTest = 28.34593089\n",
      "bestIteration = 49\n",
      "\n",
      "\n",
      "bestTest = 11.21917485\n",
      "bestIteration = 49\n",
      "\n",
      "\n",
      "bestTest = 9.213680511\n",
      "bestIteration = 49\n",
      "\n",
      "\n",
      "bestTest = 28.89728265\n",
      "bestIteration = 49\n",
      "\n",
      "\n",
      "bestTest = 11.4917398\n",
      "bestIteration = 49\n",
      "\n",
      "\n",
      "bestTest = 9.383516784\n",
      "bestIteration = 49\n",
      "\n",
      "\n",
      "bestTest = 32.24233245\n",
      "bestIteration = 49\n",
      "\n",
      "\n",
      "bestTest = 14.182986\n",
      "bestIteration = 49\n",
      "\n",
      "\n",
      "bestTest = 10.22793217\n",
      "bestIteration = 49\n",
      "\n",
      "\n",
      "bestTest = 20.16697906\n",
      "bestIteration = 99\n",
      "\n",
      "\n",
      "bestTest = 9.24202287\n",
      "bestIteration = 99\n",
      "\n",
      "\n",
      "bestTest = 8.488324374\n",
      "bestIteration = 99\n",
      "\n",
      "\n",
      "bestTest = 20.8008536\n",
      "bestIteration = 99\n",
      "\n",
      "\n",
      "bestTest = 9.451842995\n",
      "bestIteration = 98\n",
      "\n",
      "\n",
      "bestTest = 8.722224227\n",
      "bestIteration = 96\n",
      "\n",
      "\n",
      "bestTest = 25.26197523\n",
      "bestIteration = 99\n",
      "\n",
      "\n",
      "bestTest = 10.23624014\n",
      "bestIteration = 99\n",
      "\n",
      "\n",
      "bestTest = 9.376120142\n",
      "bestIteration = 99\n",
      "\n",
      "\n",
      "bestTest = 28.0158532\n",
      "bestIteration = 49\n",
      "\n",
      "\n",
      "bestTest = 10.85131587\n",
      "bestIteration = 49\n",
      "\n",
      "\n",
      "bestTest = 9.026099267\n",
      "bestIteration = 49\n",
      "\n",
      "\n",
      "bestTest = 29.37184426\n",
      "bestIteration = 49\n",
      "\n",
      "\n",
      "bestTest = 11.64157536\n",
      "bestIteration = 49\n",
      "\n",
      "\n",
      "bestTest = 9.495038357\n",
      "bestIteration = 49\n",
      "\n",
      "\n",
      "bestTest = 34.69761837\n",
      "bestIteration = 49\n",
      "\n",
      "\n",
      "bestTest = 18.08184601\n",
      "bestIteration = 49\n",
      "\n",
      "\n",
      "bestTest = 11.8017806\n",
      "bestIteration = 49\n",
      "\n",
      "\n",
      "bestTest = 19.78850191\n",
      "bestIteration = 99\n",
      "\n",
      "\n",
      "bestTest = 8.871293958\n",
      "bestIteration = 99\n",
      "\n",
      "\n",
      "bestTest = 8.332024815\n",
      "bestIteration = 94\n",
      "\n",
      "\n",
      "bestTest = 21.36286974\n",
      "bestIteration = 99\n",
      "\n",
      "\n",
      "bestTest = 9.274921676\n",
      "bestIteration = 99\n",
      "\n",
      "\n",
      "bestTest = 8.812832259\n",
      "bestIteration = 99\n",
      "\n",
      "\n",
      "bestTest = 28.738006\n",
      "bestIteration = 99\n",
      "\n",
      "\n",
      "bestTest = 11.6878411\n",
      "bestIteration = 99\n",
      "\n",
      "\n",
      "bestTest = 9.575052573\n",
      "bestIteration = 99\n",
      "\n",
      "\n",
      "bestTest = 28.82642313\n",
      "bestIteration = 49\n",
      "\n",
      "\n",
      "bestTest = 11.52554158\n",
      "bestIteration = 49\n",
      "\n",
      "\n",
      "bestTest = 9.488796106\n",
      "bestIteration = 49\n",
      "\n",
      "\n",
      "bestTest = 31.89201085\n",
      "bestIteration = 49\n",
      "\n",
      "\n",
      "bestTest = 14.16967415\n",
      "bestIteration = 49\n",
      "\n",
      "\n",
      "bestTest = 10.4377012\n",
      "bestIteration = 49\n",
      "\n",
      "\n",
      "bestTest = 37.99847491\n",
      "bestIteration = 49\n",
      "\n",
      "\n",
      "bestTest = 26.04930016\n",
      "bestIteration = 49\n",
      "\n",
      "\n",
      "bestTest = 18.52966152\n",
      "bestIteration = 49\n",
      "\n",
      "\n",
      "bestTest = 20.64721486\n",
      "bestIteration = 99\n",
      "\n",
      "\n",
      "bestTest = 9.462389158\n",
      "bestIteration = 99\n",
      "\n",
      "\n",
      "bestTest = 9.341019256\n",
      "bestIteration = 86\n",
      "\n",
      "\n",
      "bestTest = 24.57457479\n",
      "bestIteration = 99\n",
      "\n",
      "\n",
      "bestTest = 10.18851303\n",
      "bestIteration = 99\n",
      "\n",
      "\n",
      "bestTest = 9.520938019\n",
      "bestIteration = 99\n",
      "\n",
      "\n",
      "bestTest = 34.16136771\n",
      "bestIteration = 99\n",
      "\n",
      "\n",
      "bestTest = 17.35572935\n",
      "bestIteration = 99\n",
      "\n",
      "\n",
      "bestTest = 12.28291637\n",
      "bestIteration = 99\n",
      "\n",
      "Training on fold [0/3]\n",
      "\n",
      "bestTest = 6.300553096\n",
      "bestIteration = 48\n",
      "\n",
      "Training on fold [1/3]\n",
      "\n",
      "bestTest = 7.087194163\n",
      "bestIteration = 91\n",
      "\n",
      "Training on fold [2/3]\n",
      "\n",
      "bestTest = 7.770062365\n",
      "bestIteration = 76\n",
      "\n"
     ]
    },
    {
     "data": {
      "text/plain": [
       "{'params': {'depth': 4,\n",
       "  'iterations': 100,\n",
       "  'learning_rate': 0.1,\n",
       "  'l2_leaf_reg': 0.5},\n",
       " 'cv_results': defaultdict(list,\n",
       "             {'iterations': [0,\n",
       "               1,\n",
       "               2,\n",
       "               3,\n",
       "               4,\n",
       "               5,\n",
       "               6,\n",
       "               7,\n",
       "               8,\n",
       "               9,\n",
       "               10,\n",
       "               11,\n",
       "               12,\n",
       "               13,\n",
       "               14,\n",
       "               15,\n",
       "               16,\n",
       "               17,\n",
       "               18,\n",
       "               19,\n",
       "               20,\n",
       "               21,\n",
       "               22,\n",
       "               23,\n",
       "               24,\n",
       "               25,\n",
       "               26,\n",
       "               27,\n",
       "               28,\n",
       "               29,\n",
       "               30,\n",
       "               31,\n",
       "               32,\n",
       "               33,\n",
       "               34,\n",
       "               35,\n",
       "               36,\n",
       "               37,\n",
       "               38,\n",
       "               39,\n",
       "               40,\n",
       "               41,\n",
       "               42,\n",
       "               43,\n",
       "               44,\n",
       "               45,\n",
       "               46,\n",
       "               47,\n",
       "               48,\n",
       "               49,\n",
       "               50,\n",
       "               51,\n",
       "               52,\n",
       "               53,\n",
       "               54,\n",
       "               55,\n",
       "               56,\n",
       "               57,\n",
       "               58,\n",
       "               59,\n",
       "               60,\n",
       "               61,\n",
       "               62,\n",
       "               63,\n",
       "               64,\n",
       "               65,\n",
       "               66,\n",
       "               67,\n",
       "               68,\n",
       "               69,\n",
       "               70,\n",
       "               71,\n",
       "               72,\n",
       "               73,\n",
       "               74,\n",
       "               75,\n",
       "               76,\n",
       "               77,\n",
       "               78,\n",
       "               79,\n",
       "               80,\n",
       "               81,\n",
       "               82,\n",
       "               83,\n",
       "               84,\n",
       "               85,\n",
       "               86,\n",
       "               87,\n",
       "               88,\n",
       "               89,\n",
       "               90,\n",
       "               91,\n",
       "               92,\n",
       "               93,\n",
       "               94,\n",
       "               95,\n",
       "               96,\n",
       "               97,\n",
       "               98,\n",
       "               99],\n",
       "              'test-RMSE-mean': [36.400445582297785,\n",
       "               33.19381487400321,\n",
       "               30.246104813579695,\n",
       "               27.512231693140993,\n",
       "               25.107607495201872,\n",
       "               23.077718468690964,\n",
       "               21.12247586418738,\n",
       "               19.404538535113485,\n",
       "               18.001190239569524,\n",
       "               16.774707326125995,\n",
       "               15.528425950837269,\n",
       "               14.455859878861729,\n",
       "               13.567807574145613,\n",
       "               12.777800141236426,\n",
       "               12.057921389022079,\n",
       "               11.436597902106564,\n",
       "               10.897068062810982,\n",
       "               10.491736630221556,\n",
       "               10.11028062928385,\n",
       "               9.830400694631614,\n",
       "               9.518428985594731,\n",
       "               9.207952371344776,\n",
       "               8.97176464083858,\n",
       "               8.759550277785662,\n",
       "               8.593885697457248,\n",
       "               8.425521768145254,\n",
       "               8.32607333643948,\n",
       "               8.240513949928777,\n",
       "               8.135215668765948,\n",
       "               8.097891092660339,\n",
       "               8.037948362951909,\n",
       "               7.960141125301509,\n",
       "               7.886443198290092,\n",
       "               7.834915721242207,\n",
       "               7.769408045940494,\n",
       "               7.723815364875235,\n",
       "               7.6599423047737725,\n",
       "               7.621489721545295,\n",
       "               7.591411413527872,\n",
       "               7.567719050585853,\n",
       "               7.534964991735978,\n",
       "               7.510327887084061,\n",
       "               7.486039136784274,\n",
       "               7.46148607592735,\n",
       "               7.447979701871879,\n",
       "               7.4374037679088465,\n",
       "               7.424132120594973,\n",
       "               7.405841810275284,\n",
       "               7.356945078394214,\n",
       "               7.352079117025606,\n",
       "               7.340139656382199,\n",
       "               7.340284790354507,\n",
       "               7.3402179040509,\n",
       "               7.332388223817861,\n",
       "               7.301475141510376,\n",
       "               7.291559753826131,\n",
       "               7.28896443296798,\n",
       "               7.257307143069497,\n",
       "               7.2520512908329815,\n",
       "               7.236300211451858,\n",
       "               7.222734634244176,\n",
       "               7.203772512922136,\n",
       "               7.197331033845617,\n",
       "               7.188021220033384,\n",
       "               7.187537446884284,\n",
       "               7.186397742904216,\n",
       "               7.185869650903989,\n",
       "               7.1912371894494385,\n",
       "               7.172863627786934,\n",
       "               7.18482158706889,\n",
       "               7.176892337280472,\n",
       "               7.170092902526672,\n",
       "               7.173613984981796,\n",
       "               7.183103632173512,\n",
       "               7.180731030033296,\n",
       "               7.178491278143504,\n",
       "               7.170597508696633,\n",
       "               7.177401403523494,\n",
       "               7.177467259467996,\n",
       "               7.1790900332324865,\n",
       "               7.17940637909341,\n",
       "               7.177068863432814,\n",
       "               7.175677185464611,\n",
       "               7.17806746742851,\n",
       "               7.17892646074472,\n",
       "               7.172971396317628,\n",
       "               7.17610549664171,\n",
       "               7.164866836862326,\n",
       "               7.15519400697881,\n",
       "               7.1639288817676166,\n",
       "               7.161065665213218,\n",
       "               7.153213908347733,\n",
       "               7.15285643816047,\n",
       "               7.15301967395466,\n",
       "               7.1502238235450575,\n",
       "               7.156371390126876,\n",
       "               7.152305738676358,\n",
       "               7.151368839551324,\n",
       "               7.1448191203199665,\n",
       "               7.149124798584443],\n",
       "              'test-RMSE-std': [1.6663590274871558,\n",
       "               1.7002300355412028,\n",
       "               1.6791871822078803,\n",
       "               1.6497978636994146,\n",
       "               1.6881830472392834,\n",
       "               1.782524660620622,\n",
       "               1.7972571128201567,\n",
       "               1.8300210546946545,\n",
       "               1.847991070309687,\n",
       "               1.8953785736895417,\n",
       "               1.8823892839353913,\n",
       "               1.9082544961762231,\n",
       "               1.9484310969993783,\n",
       "               1.936319838667769,\n",
       "               1.9002119811333926,\n",
       "               1.8513979344246412,\n",
       "               1.8379447702749845,\n",
       "               1.832686888704477,\n",
       "               1.8403166083359368,\n",
       "               1.816300146677673,\n",
       "               1.8099174478378477,\n",
       "               1.8066684123505872,\n",
       "               1.7381196936376566,\n",
       "               1.6884612819561688,\n",
       "               1.6209089646090034,\n",
       "               1.5962106592508465,\n",
       "               1.5223460114636636,\n",
       "               1.531896301483526,\n",
       "               1.4849781045206587,\n",
       "               1.454844488388679,\n",
       "               1.4283689901358219,\n",
       "               1.4079477498764603,\n",
       "               1.3848975196973143,\n",
       "               1.3610866522197906,\n",
       "               1.3202656444873124,\n",
       "               1.2681837162669563,\n",
       "               1.2279161437682973,\n",
       "               1.1969872779909063,\n",
       "               1.1757540946622642,\n",
       "               1.1472501042714398,\n",
       "               1.134331973506688,\n",
       "               1.126780658320555,\n",
       "               1.1065915496857022,\n",
       "               1.0707756639501356,\n",
       "               1.0597323701202703,\n",
       "               1.0328488203053634,\n",
       "               1.0026400436394616,\n",
       "               0.9983536068806149,\n",
       "               0.9954141747923461,\n",
       "               0.9820932978962013,\n",
       "               0.9302293335689621,\n",
       "               0.929992552234096,\n",
       "               0.8966568445389036,\n",
       "               0.8924635174475061,\n",
       "               0.8569083146295113,\n",
       "               0.8561993080768957,\n",
       "               0.849356737508881,\n",
       "               0.8192363205967998,\n",
       "               0.8045005925566348,\n",
       "               0.8024122184004711,\n",
       "               0.7877190607143727,\n",
       "               0.7883800116437765,\n",
       "               0.7771942012579803,\n",
       "               0.7725323817753081,\n",
       "               0.7692437247878952,\n",
       "               0.7630977918525442,\n",
       "               0.7564575234176719,\n",
       "               0.7463551984626593,\n",
       "               0.7381282081469894,\n",
       "               0.719979322525559,\n",
       "               0.7069514536551725,\n",
       "               0.7013005967871756,\n",
       "               0.6968080598354286,\n",
       "               0.6736647713567842,\n",
       "               0.6716857373436275,\n",
       "               0.654643827669236,\n",
       "               0.6405791483343553,\n",
       "               0.6236935919022061,\n",
       "               0.6379285051812176,\n",
       "               0.6345348853520679,\n",
       "               0.627659775536497,\n",
       "               0.6227384361623343,\n",
       "               0.6302756836232397,\n",
       "               0.6342306974790719,\n",
       "               0.6352584945050572,\n",
       "               0.640436921921538,\n",
       "               0.6509967821212861,\n",
       "               0.6556570165851977,\n",
       "               0.6596067494709916,\n",
       "               0.6401227761402378,\n",
       "               0.6480079475435414,\n",
       "               0.6258981869070371,\n",
       "               0.6141890022419224,\n",
       "               0.6193968188189115,\n",
       "               0.6191069848648706,\n",
       "               0.6231948294696409,\n",
       "               0.6231023976365514,\n",
       "               0.6230191443324168,\n",
       "               0.6104529485899939,\n",
       "               0.6182098304543683],\n",
       "              'train-RMSE-mean': [36.41992690513416,\n",
       "               33.22185935112633,\n",
       "               30.269005641598834,\n",
       "               27.51886939533252,\n",
       "               25.09045277975568,\n",
       "               23.04162450500463,\n",
       "               21.080127070291535,\n",
       "               19.33401810446479,\n",
       "               17.901851967350492,\n",
       "               16.64479379859392,\n",
       "               15.383012778279712,\n",
       "               14.287408902324012,\n",
       "               13.359936203895414,\n",
       "               12.519401896312674,\n",
       "               11.782397620821024,\n",
       "               11.125286290505422,\n",
       "               10.527854060774493,\n",
       "               10.040128880896468,\n",
       "               9.613336344793861,\n",
       "               9.290995617367498,\n",
       "               8.932234543041844,\n",
       "               8.605126366637373,\n",
       "               8.341809664204781,\n",
       "               8.102845216474465,\n",
       "               7.9037034905198,\n",
       "               7.703762349651259,\n",
       "               7.526756305903885,\n",
       "               7.38624020023843,\n",
       "               7.235201235475787,\n",
       "               7.1364279218001885,\n",
       "               7.028379328011423,\n",
       "               6.903810417160408,\n",
       "               6.803079217387581,\n",
       "               6.709469525974016,\n",
       "               6.612438839688893,\n",
       "               6.493344395522366,\n",
       "               6.401561356559824,\n",
       "               6.3316656116011805,\n",
       "               6.25730759712696,\n",
       "               6.1923868714522605,\n",
       "               6.134455695030032,\n",
       "               6.076047734460591,\n",
       "               6.005532836377835,\n",
       "               5.951438878233816,\n",
       "               5.90901370886679,\n",
       "               5.846898177085927,\n",
       "               5.781917560911977,\n",
       "               5.733711599523605,\n",
       "               5.673043914194433,\n",
       "               5.624653558052977,\n",
       "               5.563062196961218,\n",
       "               5.519566269363888,\n",
       "               5.466819265083639,\n",
       "               5.4157895666763265,\n",
       "               5.368082938873713,\n",
       "               5.326584622519583,\n",
       "               5.288168617687494,\n",
       "               5.249285564592249,\n",
       "               5.194286309684219,\n",
       "               5.150928843611415,\n",
       "               5.105582737470063,\n",
       "               5.06175711681733,\n",
       "               5.0147760403314114,\n",
       "               4.980988906662774,\n",
       "               4.947025905760479,\n",
       "               4.903285029120965,\n",
       "               4.85398597251283,\n",
       "               4.80062929618523,\n",
       "               4.761139767337977,\n",
       "               4.726801601234852,\n",
       "               4.697762526933098,\n",
       "               4.677462189258963,\n",
       "               4.634253658707603,\n",
       "               4.602025511304846,\n",
       "               4.568873712103984,\n",
       "               4.527025279269569,\n",
       "               4.482784763109364,\n",
       "               4.444465857909964,\n",
       "               4.414906094778249,\n",
       "               4.376007116356937,\n",
       "               4.348942491174921,\n",
       "               4.311742435797005,\n",
       "               4.280323282752369,\n",
       "               4.2466522646495815,\n",
       "               4.217523353181622,\n",
       "               4.191547688142701,\n",
       "               4.1639475486374,\n",
       "               4.1352716202789725,\n",
       "               4.104968624250522,\n",
       "               4.076384241958908,\n",
       "               4.051141934902793,\n",
       "               4.021673854258602,\n",
       "               4.0016330374707625,\n",
       "               3.973315124588753,\n",
       "               3.936562145711878,\n",
       "               3.9108191551002363,\n",
       "               3.882795913816097,\n",
       "               3.85398955843923,\n",
       "               3.8271335870727134,\n",
       "               3.8019273107576725],\n",
       "              'train-RMSE-std': [0.7987074259989106,\n",
       "               0.7514208569411145,\n",
       "               0.732361356830205,\n",
       "               0.6699871139827498,\n",
       "               0.6187315833382918,\n",
       "               0.5949250532825414,\n",
       "               0.5518594998614383,\n",
       "               0.5138496458989498,\n",
       "               0.5085058899504019,\n",
       "               0.49961783256786035,\n",
       "               0.4813416389368374,\n",
       "               0.4541307139653407,\n",
       "               0.4161418733371544,\n",
       "               0.4100254345932473,\n",
       "               0.4090679831119289,\n",
       "               0.3992466135438487,\n",
       "               0.40633908570329563,\n",
       "               0.3982744226020289,\n",
       "               0.4019507953028773,\n",
       "               0.4085369360047474,\n",
       "               0.41849215183272814,\n",
       "               0.4171620497720923,\n",
       "               0.4300295603820895,\n",
       "               0.42760084686019545,\n",
       "               0.4467062046116265,\n",
       "               0.4474579966655043,\n",
       "               0.46697509413016075,\n",
       "               0.4331837849697241,\n",
       "               0.4433904299072209,\n",
       "               0.45180682959474705,\n",
       "               0.4519119722193819,\n",
       "               0.45868611133252424,\n",
       "               0.46367056226760606,\n",
       "               0.45934615019822167,\n",
       "               0.4598152025864851,\n",
       "               0.4530440716316424,\n",
       "               0.4643482629035825,\n",
       "               0.4541508037771967,\n",
       "               0.44299007618733743,\n",
       "               0.440994890660677,\n",
       "               0.42371132784827326,\n",
       "               0.434012800560894,\n",
       "               0.42882793049260426,\n",
       "               0.4220107342810083,\n",
       "               0.4095730445849372,\n",
       "               0.41162741316986545,\n",
       "               0.378994967803709,\n",
       "               0.3628834427195245,\n",
       "               0.3501226296223185,\n",
       "               0.3471440759523019,\n",
       "               0.33181160159575784,\n",
       "               0.33002540238044664,\n",
       "               0.3071077862560733,\n",
       "               0.3155398311568398,\n",
       "               0.30892635301362376,\n",
       "               0.30752547799515906,\n",
       "               0.312563320417494,\n",
       "               0.31794350579271596,\n",
       "               0.3116082408494948,\n",
       "               0.3008728908254158,\n",
       "               0.29513663528582224,\n",
       "               0.2947682470236275,\n",
       "               0.28645366791267285,\n",
       "               0.27432388865217855,\n",
       "               0.2681784364611385,\n",
       "               0.29303790037342287,\n",
       "               0.3203936940984008,\n",
       "               0.32020641551104223,\n",
       "               0.3149842233749837,\n",
       "               0.3174514305433502,\n",
       "               0.31431025830572107,\n",
       "               0.3174641074915463,\n",
       "               0.3181098043352493,\n",
       "               0.3162210179440606,\n",
       "               0.2997782685325375,\n",
       "               0.2965631140880827,\n",
       "               0.27997004185587493,\n",
       "               0.2904726276790614,\n",
       "               0.2924103709477403,\n",
       "               0.27540572461546536,\n",
       "               0.27308836697200406,\n",
       "               0.2758188410767001,\n",
       "               0.28468347759038076,\n",
       "               0.2930319637271363,\n",
       "               0.2836348924518708,\n",
       "               0.27533498956313257,\n",
       "               0.2820304229889434,\n",
       "               0.27664615802496295,\n",
       "               0.27592481329056867,\n",
       "               0.26151431832639294,\n",
       "               0.25486564432712555,\n",
       "               0.245553650527203,\n",
       "               0.2484625382960311,\n",
       "               0.24789435093813458,\n",
       "               0.2618246354492256,\n",
       "               0.26399796743986514,\n",
       "               0.25935407644580305,\n",
       "               0.26561349219274766,\n",
       "               0.27089524973067947,\n",
       "               0.27267102702917545]})}"
      ]
     },
     "execution_count": 76,
     "metadata": {},
     "output_type": "execute_result"
    }
   ],
   "source": [
    "grid = {'iterations': [50, 100],\n",
    "        'learning_rate': [0.01, 0.05, 0.1],\n",
    "        'depth': [2, 4, 8],\n",
    "        'l2_leaf_reg': [0.5, 5, 50]\n",
    "        }\n",
    "cb_reg.grid_search(grid, train_dataset, verbose = False)"
   ]
  },
  {
   "cell_type": "code",
   "execution_count": 77,
   "id": "b0353610",
   "metadata": {},
   "outputs": [],
   "source": [
    "from sklearn.model_selection import train_test_split\n",
    "from sklearn.metrics import mean_squared_error\n",
    "from sklearn.metrics import r2_score"
   ]
  },
  {
   "cell_type": "code",
   "execution_count": 78,
   "id": "8bb539b9",
   "metadata": {},
   "outputs": [
    {
     "name": "stdout",
     "output_type": "stream",
     "text": [
      "Testing performance:\n",
      "RMSE: 9.90\n",
      "R2: 0.54\n"
     ]
    }
   ],
   "source": [
    "pred = cb_reg.predict(X_test)\n",
    "rmse = (np.sqrt(mean_squared_error(y_test, pred)))\n",
    "r2 = r2_score(y_test, pred)\n",
    "print('Testing performance:')\n",
    "print('RMSE: {:.2f}'.format(rmse)) \n",
    "print('R2: {:.2f}'.format(r2))"
   ]
  },
  {
   "cell_type": "markdown",
   "id": "7aeeb611",
   "metadata": {},
   "source": [
    "## conclusion: the results show that there is no big difference between the catboost and random forest regression in this case 0.55/0.54"
   ]
  },
  {
   "cell_type": "code",
   "execution_count": null,
   "id": "229db6e2",
   "metadata": {},
   "outputs": [],
   "source": []
  },
  {
   "cell_type": "code",
   "execution_count": null,
   "id": "db604285",
   "metadata": {},
   "outputs": [],
   "source": []
  },
  {
   "cell_type": "code",
   "execution_count": null,
   "id": "b0adf05b",
   "metadata": {},
   "outputs": [],
   "source": []
  },
  {
   "cell_type": "code",
   "execution_count": null,
   "id": "4f52cd4a",
   "metadata": {},
   "outputs": [],
   "source": []
  }
 ],
 "metadata": {
  "kernelspec": {
   "display_name": "Python 3 (ipykernel)",
   "language": "python",
   "name": "python3"
  },
  "language_info": {
   "codemirror_mode": {
    "name": "ipython",
    "version": 3
   },
   "file_extension": ".py",
   "mimetype": "text/x-python",
   "name": "python",
   "nbconvert_exporter": "python",
   "pygments_lexer": "ipython3",
   "version": "3.9.12"
  }
 },
 "nbformat": 4,
 "nbformat_minor": 5
}
