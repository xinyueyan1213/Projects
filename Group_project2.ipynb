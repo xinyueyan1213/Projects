{
 "cells": [
  {
   "cell_type": "markdown",
   "id": "6a40b693",
   "metadata": {},
   "source": [
    "# Group member:  Xinyue Yan, Ross Carter\n",
    "\n",
    "## Topic: Pumpkin_seeds"
   ]
  },
  {
   "cell_type": "code",
   "execution_count": 1,
   "id": "bc30fe55",
   "metadata": {},
   "outputs": [],
   "source": [
    "# importing the required libraries\n",
    "import pandas as pd\n",
    "import numpy as np\n",
    "# Visualisation libraries\n",
    "import matplotlib.pyplot as plt\n",
    "%matplotlib inline\n",
    "import seaborn as sns\n",
    "import plotly.graph_objects as go\n",
    "import missingno as ms\n",
    "# Manipulating the default plot size\n",
    "plt.rcParams['figure.figsize'] = 10, 12\n",
    "# Disable warnings \n",
    "import warnings\n",
    "warnings.filterwarnings('ignore')\n",
    "\n",
    "import sklearn"
   ]
  },
  {
   "cell_type": "code",
   "execution_count": 2,
   "id": "02f5c6fe",
   "metadata": {},
   "outputs": [],
   "source": [
    "df = pd.read_excel('Pumpkin_Seeds_Dataset.xlsx')"
   ]
  },
  {
   "cell_type": "code",
   "execution_count": 3,
   "id": "d66d87ee",
   "metadata": {
    "scrolled": true
   },
   "outputs": [
    {
     "name": "stdout",
     "output_type": "stream",
     "text": [
      "(2500, 13)\n"
     ]
    },
    {
     "data": {
      "text/html": [
       "<div>\n",
       "<style scoped>\n",
       "    .dataframe tbody tr th:only-of-type {\n",
       "        vertical-align: middle;\n",
       "    }\n",
       "\n",
       "    .dataframe tbody tr th {\n",
       "        vertical-align: top;\n",
       "    }\n",
       "\n",
       "    .dataframe thead th {\n",
       "        text-align: right;\n",
       "    }\n",
       "</style>\n",
       "<table border=\"1\" class=\"dataframe\">\n",
       "  <thead>\n",
       "    <tr style=\"text-align: right;\">\n",
       "      <th></th>\n",
       "      <th>Area</th>\n",
       "      <th>Perimeter</th>\n",
       "      <th>Major_Axis_Length</th>\n",
       "      <th>Minor_Axis_Length</th>\n",
       "      <th>Convex_Area</th>\n",
       "      <th>Equiv_Diameter</th>\n",
       "      <th>Eccentricity</th>\n",
       "      <th>Solidity</th>\n",
       "      <th>Extent</th>\n",
       "      <th>Roundness</th>\n",
       "      <th>Aspect_Ration</th>\n",
       "      <th>Compactness</th>\n",
       "      <th>Class</th>\n",
       "    </tr>\n",
       "  </thead>\n",
       "  <tbody>\n",
       "    <tr>\n",
       "      <th>0</th>\n",
       "      <td>56276</td>\n",
       "      <td>888.242</td>\n",
       "      <td>326.1485</td>\n",
       "      <td>220.2388</td>\n",
       "      <td>56831</td>\n",
       "      <td>267.6805</td>\n",
       "      <td>0.7376</td>\n",
       "      <td>0.9902</td>\n",
       "      <td>0.7453</td>\n",
       "      <td>0.8963</td>\n",
       "      <td>1.4809</td>\n",
       "      <td>0.8207</td>\n",
       "      <td>Çerçevelik</td>\n",
       "    </tr>\n",
       "    <tr>\n",
       "      <th>1</th>\n",
       "      <td>76631</td>\n",
       "      <td>1068.146</td>\n",
       "      <td>417.1932</td>\n",
       "      <td>234.2289</td>\n",
       "      <td>77280</td>\n",
       "      <td>312.3614</td>\n",
       "      <td>0.8275</td>\n",
       "      <td>0.9916</td>\n",
       "      <td>0.7151</td>\n",
       "      <td>0.8440</td>\n",
       "      <td>1.7811</td>\n",
       "      <td>0.7487</td>\n",
       "      <td>Çerçevelik</td>\n",
       "    </tr>\n",
       "    <tr>\n",
       "      <th>2</th>\n",
       "      <td>71623</td>\n",
       "      <td>1082.987</td>\n",
       "      <td>435.8328</td>\n",
       "      <td>211.0457</td>\n",
       "      <td>72663</td>\n",
       "      <td>301.9822</td>\n",
       "      <td>0.8749</td>\n",
       "      <td>0.9857</td>\n",
       "      <td>0.7400</td>\n",
       "      <td>0.7674</td>\n",
       "      <td>2.0651</td>\n",
       "      <td>0.6929</td>\n",
       "      <td>Çerçevelik</td>\n",
       "    </tr>\n",
       "    <tr>\n",
       "      <th>3</th>\n",
       "      <td>66458</td>\n",
       "      <td>992.051</td>\n",
       "      <td>381.5638</td>\n",
       "      <td>222.5322</td>\n",
       "      <td>67118</td>\n",
       "      <td>290.8899</td>\n",
       "      <td>0.8123</td>\n",
       "      <td>0.9902</td>\n",
       "      <td>0.7396</td>\n",
       "      <td>0.8486</td>\n",
       "      <td>1.7146</td>\n",
       "      <td>0.7624</td>\n",
       "      <td>Çerçevelik</td>\n",
       "    </tr>\n",
       "    <tr>\n",
       "      <th>4</th>\n",
       "      <td>66107</td>\n",
       "      <td>998.146</td>\n",
       "      <td>383.8883</td>\n",
       "      <td>220.4545</td>\n",
       "      <td>67117</td>\n",
       "      <td>290.1207</td>\n",
       "      <td>0.8187</td>\n",
       "      <td>0.9850</td>\n",
       "      <td>0.6752</td>\n",
       "      <td>0.8338</td>\n",
       "      <td>1.7413</td>\n",
       "      <td>0.7557</td>\n",
       "      <td>Çerçevelik</td>\n",
       "    </tr>\n",
       "  </tbody>\n",
       "</table>\n",
       "</div>"
      ],
      "text/plain": [
       "    Area  Perimeter  Major_Axis_Length  Minor_Axis_Length  Convex_Area  \\\n",
       "0  56276    888.242           326.1485           220.2388        56831   \n",
       "1  76631   1068.146           417.1932           234.2289        77280   \n",
       "2  71623   1082.987           435.8328           211.0457        72663   \n",
       "3  66458    992.051           381.5638           222.5322        67118   \n",
       "4  66107    998.146           383.8883           220.4545        67117   \n",
       "\n",
       "   Equiv_Diameter  Eccentricity  Solidity  Extent  Roundness  Aspect_Ration  \\\n",
       "0        267.6805        0.7376    0.9902  0.7453     0.8963         1.4809   \n",
       "1        312.3614        0.8275    0.9916  0.7151     0.8440         1.7811   \n",
       "2        301.9822        0.8749    0.9857  0.7400     0.7674         2.0651   \n",
       "3        290.8899        0.8123    0.9902  0.7396     0.8486         1.7146   \n",
       "4        290.1207        0.8187    0.9850  0.6752     0.8338         1.7413   \n",
       "\n",
       "   Compactness       Class  \n",
       "0       0.8207  Çerçevelik  \n",
       "1       0.7487  Çerçevelik  \n",
       "2       0.6929  Çerçevelik  \n",
       "3       0.7624  Çerçevelik  \n",
       "4       0.7557  Çerçevelik  "
      ]
     },
     "execution_count": 3,
     "metadata": {},
     "output_type": "execute_result"
    }
   ],
   "source": [
    "print(df.shape)\n",
    "df.head()"
   ]
  },
  {
   "cell_type": "code",
   "execution_count": 4,
   "id": "0a3f2ba3",
   "metadata": {},
   "outputs": [
    {
     "data": {
      "text/plain": [
       "<AxesSubplot:>"
      ]
     },
     "execution_count": 4,
     "metadata": {},
     "output_type": "execute_result"
    },
    {
     "data": {
      "image/png": "[encoded data removed]",
      "text/plain": [
       "<Figure size 720x864 with 2 Axes>"
      ]
     },
     "metadata": {
      "needs_background": "light"
     },
     "output_type": "display_data"
    }
   ],
   "source": [
    "sns.heatmap(df.corr(),annot=True)"
   ]
  },
  {
   "cell_type": "code",
   "execution_count": 5,
   "id": "ccf3c40c",
   "metadata": {
    "scrolled": true
   },
   "outputs": [
    {
     "data": {
      "image/png": "[encoded data removed]",
      "text/plain": [
       "<Figure size 819.625x360 with 1 Axes>"
      ]
     },
     "metadata": {
      "needs_background": "light"
     },
     "output_type": "display_data"
    }
   ],
   "source": [
    "sns.displot(x = df['Perimeter'], hue = df['Class'], kde = True, data = df, \n",
    "            multiple = 'stack', alpha = 0.8, palette = \"bright\", height=5, aspect=2)\n",
    "plt.title(' Distribution Based on Class')\n",
    "plt.xlabel(\"Perimeter\")\n",
    "plt.ylabel(\"Quantities\");"
   ]
  },
  {
   "cell_type": "markdown",
   "id": "36e5e53f",
   "metadata": {},
   "source": [
    "# Data Preprocessing & EDA"
   ]
  },
  {
   "cell_type": "code",
   "execution_count": 6,
   "id": "f1c44a80",
   "metadata": {},
   "outputs": [
    {
     "data": {
      "text/plain": [
       "Area                 0\n",
       "Perimeter            0\n",
       "Major_Axis_Length    0\n",
       "Minor_Axis_Length    0\n",
       "Convex_Area          0\n",
       "Equiv_Diameter       0\n",
       "Eccentricity         0\n",
       "Solidity             0\n",
       "Extent               0\n",
       "Roundness            0\n",
       "Aspect_Ration        0\n",
       "Compactness          0\n",
       "Class                0\n",
       "dtype: int64"
      ]
     },
     "execution_count": 6,
     "metadata": {},
     "output_type": "execute_result"
    }
   ],
   "source": [
    "df.isnull().sum()"
   ]
  },
  {
   "cell_type": "code",
   "execution_count": 7,
   "id": "cb543bf4",
   "metadata": {},
   "outputs": [
    {
     "data": {
      "text/plain": [
       "0"
      ]
     },
     "execution_count": 7,
     "metadata": {},
     "output_type": "execute_result"
    }
   ],
   "source": [
    "df.duplicated().sum()"
   ]
  },
  {
   "cell_type": "code",
   "execution_count": 8,
   "id": "8a86086c",
   "metadata": {
    "scrolled": true
   },
   "outputs": [],
   "source": [
    "df_c=df['Class']"
   ]
  },
  {
   "cell_type": "code",
   "execution_count": 9,
   "id": "027e432e",
   "metadata": {},
   "outputs": [
    {
     "data": {
      "text/plain": [
       "Çerçevelik       1300\n",
       "Ürgüp Sivrisi    1200\n",
       "Name: Class, dtype: int64"
      ]
     },
     "execution_count": 9,
     "metadata": {},
     "output_type": "execute_result"
    }
   ],
   "source": [
    "df_c.value_counts()"
   ]
  },
  {
   "cell_type": "code",
   "execution_count": 10,
   "id": "c375d558",
   "metadata": {},
   "outputs": [],
   "source": [
    "df['Class']=df['Class'].map({'Çerçevelik':1,'Ürgüp Sivrisi':0})"
   ]
  },
  {
   "cell_type": "code",
   "execution_count": 11,
   "id": "d13e6583",
   "metadata": {},
   "outputs": [
    {
     "data": {
      "text/plain": [
       "1    1300\n",
       "0    1200\n",
       "Name: Class, dtype: int64"
      ]
     },
     "execution_count": 11,
     "metadata": {},
     "output_type": "execute_result"
    }
   ],
   "source": [
    "df['Class'].value_counts()"
   ]
  },
  {
   "cell_type": "code",
   "execution_count": 12,
   "id": "771c2880",
   "metadata": {},
   "outputs": [
    {
     "data": {
      "text/html": [
       "<div>\n",
       "<style scoped>\n",
       "    .dataframe tbody tr th:only-of-type {\n",
       "        vertical-align: middle;\n",
       "    }\n",
       "\n",
       "    .dataframe tbody tr th {\n",
       "        vertical-align: top;\n",
       "    }\n",
       "\n",
       "    .dataframe thead th {\n",
       "        text-align: right;\n",
       "    }\n",
       "</style>\n",
       "<table border=\"1\" class=\"dataframe\">\n",
       "  <thead>\n",
       "    <tr style=\"text-align: right;\">\n",
       "      <th></th>\n",
       "      <th>Area</th>\n",
       "      <th>Perimeter</th>\n",
       "      <th>Major_Axis_Length</th>\n",
       "      <th>Minor_Axis_Length</th>\n",
       "      <th>Convex_Area</th>\n",
       "      <th>Equiv_Diameter</th>\n",
       "      <th>Eccentricity</th>\n",
       "      <th>Solidity</th>\n",
       "      <th>Extent</th>\n",
       "      <th>Roundness</th>\n",
       "      <th>Aspect_Ration</th>\n",
       "      <th>Compactness</th>\n",
       "      <th>Class</th>\n",
       "    </tr>\n",
       "  </thead>\n",
       "  <tbody>\n",
       "    <tr>\n",
       "      <th>0</th>\n",
       "      <td>56276</td>\n",
       "      <td>888.242</td>\n",
       "      <td>326.1485</td>\n",
       "      <td>220.2388</td>\n",
       "      <td>56831</td>\n",
       "      <td>267.6805</td>\n",
       "      <td>0.7376</td>\n",
       "      <td>0.9902</td>\n",
       "      <td>0.7453</td>\n",
       "      <td>0.8963</td>\n",
       "      <td>1.4809</td>\n",
       "      <td>0.8207</td>\n",
       "      <td>1</td>\n",
       "    </tr>\n",
       "    <tr>\n",
       "      <th>1</th>\n",
       "      <td>76631</td>\n",
       "      <td>1068.146</td>\n",
       "      <td>417.1932</td>\n",
       "      <td>234.2289</td>\n",
       "      <td>77280</td>\n",
       "      <td>312.3614</td>\n",
       "      <td>0.8275</td>\n",
       "      <td>0.9916</td>\n",
       "      <td>0.7151</td>\n",
       "      <td>0.8440</td>\n",
       "      <td>1.7811</td>\n",
       "      <td>0.7487</td>\n",
       "      <td>1</td>\n",
       "    </tr>\n",
       "    <tr>\n",
       "      <th>2</th>\n",
       "      <td>71623</td>\n",
       "      <td>1082.987</td>\n",
       "      <td>435.8328</td>\n",
       "      <td>211.0457</td>\n",
       "      <td>72663</td>\n",
       "      <td>301.9822</td>\n",
       "      <td>0.8749</td>\n",
       "      <td>0.9857</td>\n",
       "      <td>0.7400</td>\n",
       "      <td>0.7674</td>\n",
       "      <td>2.0651</td>\n",
       "      <td>0.6929</td>\n",
       "      <td>1</td>\n",
       "    </tr>\n",
       "    <tr>\n",
       "      <th>3</th>\n",
       "      <td>66458</td>\n",
       "      <td>992.051</td>\n",
       "      <td>381.5638</td>\n",
       "      <td>222.5322</td>\n",
       "      <td>67118</td>\n",
       "      <td>290.8899</td>\n",
       "      <td>0.8123</td>\n",
       "      <td>0.9902</td>\n",
       "      <td>0.7396</td>\n",
       "      <td>0.8486</td>\n",
       "      <td>1.7146</td>\n",
       "      <td>0.7624</td>\n",
       "      <td>1</td>\n",
       "    </tr>\n",
       "    <tr>\n",
       "      <th>4</th>\n",
       "      <td>66107</td>\n",
       "      <td>998.146</td>\n",
       "      <td>383.8883</td>\n",
       "      <td>220.4545</td>\n",
       "      <td>67117</td>\n",
       "      <td>290.1207</td>\n",
       "      <td>0.8187</td>\n",
       "      <td>0.9850</td>\n",
       "      <td>0.6752</td>\n",
       "      <td>0.8338</td>\n",
       "      <td>1.7413</td>\n",
       "      <td>0.7557</td>\n",
       "      <td>1</td>\n",
       "    </tr>\n",
       "  </tbody>\n",
       "</table>\n",
       "</div>"
      ],
      "text/plain": [
       "    Area  Perimeter  Major_Axis_Length  Minor_Axis_Length  Convex_Area  \\\n",
       "0  56276    888.242           326.1485           220.2388        56831   \n",
       "1  76631   1068.146           417.1932           234.2289        77280   \n",
       "2  71623   1082.987           435.8328           211.0457        72663   \n",
       "3  66458    992.051           381.5638           222.5322        67118   \n",
       "4  66107    998.146           383.8883           220.4545        67117   \n",
       "\n",
       "   Equiv_Diameter  Eccentricity  Solidity  Extent  Roundness  Aspect_Ration  \\\n",
       "0        267.6805        0.7376    0.9902  0.7453     0.8963         1.4809   \n",
       "1        312.3614        0.8275    0.9916  0.7151     0.8440         1.7811   \n",
       "2        301.9822        0.8749    0.9857  0.7400     0.7674         2.0651   \n",
       "3        290.8899        0.8123    0.9902  0.7396     0.8486         1.7146   \n",
       "4        290.1207        0.8187    0.9850  0.6752     0.8338         1.7413   \n",
       "\n",
       "   Compactness  Class  \n",
       "0       0.8207      1  \n",
       "1       0.7487      1  \n",
       "2       0.6929      1  \n",
       "3       0.7624      1  \n",
       "4       0.7557      1  "
      ]
     },
     "execution_count": 12,
     "metadata": {},
     "output_type": "execute_result"
    }
   ],
   "source": [
    "df.head()"
   ]
  },
  {
   "cell_type": "code",
   "execution_count": 13,
   "id": "f6da155b",
   "metadata": {},
   "outputs": [],
   "source": [
    "X = df.drop('Class', axis = 1)\n",
    "y = np.where(df.Class, 1, 0)"
   ]
  },
  {
   "cell_type": "markdown",
   "id": "ca1c3517",
   "metadata": {},
   "source": [
    "# Scaled data is necessary for ML model"
   ]
  },
  {
   "cell_type": "code",
   "execution_count": 14,
   "id": "4743491b",
   "metadata": {},
   "outputs": [],
   "source": [
    "from sklearn.pipeline import Pipeline\n",
    "from sklearn.impute import SimpleImputer\n",
    "from sklearn.preprocessing import FunctionTransformer\n",
    "from sklearn.preprocessing import StandardScaler"
   ]
  },
  {
   "cell_type": "code",
   "execution_count": 15,
   "id": "b1d4dd91",
   "metadata": {},
   "outputs": [],
   "source": [
    "num_pipeline = Pipeline([\n",
    "        #('imputer', SimpleImputer(strategy=\"median\")),       \n",
    "        ('std_scaler', StandardScaler())\n",
    "        ])"
   ]
  },
  {
   "cell_type": "code",
   "execution_count": 16,
   "id": "27343287",
   "metadata": {},
   "outputs": [],
   "source": [
    "X_col = X.columns\n",
    "X = pd.DataFrame(num_pipeline.fit_transform(X))"
   ]
  },
  {
   "cell_type": "code",
   "execution_count": 17,
   "id": "70790628",
   "metadata": {},
   "outputs": [],
   "source": [
    "X.columns = X_col"
   ]
  },
  {
   "cell_type": "code",
   "execution_count": 18,
   "id": "b95a9890",
   "metadata": {
    "scrolled": true
   },
   "outputs": [
    {
     "data": {
      "text/html": [
       "<div>\n",
       "<style scoped>\n",
       "    .dataframe tbody tr th:only-of-type {\n",
       "        vertical-align: middle;\n",
       "    }\n",
       "\n",
       "    .dataframe tbody tr th {\n",
       "        vertical-align: top;\n",
       "    }\n",
       "\n",
       "    .dataframe thead th {\n",
       "        text-align: right;\n",
       "    }\n",
       "</style>\n",
       "<table border=\"1\" class=\"dataframe\">\n",
       "  <thead>\n",
       "    <tr style=\"text-align: right;\">\n",
       "      <th></th>\n",
       "      <th>Area</th>\n",
       "      <th>Perimeter</th>\n",
       "      <th>Major_Axis_Length</th>\n",
       "      <th>Minor_Axis_Length</th>\n",
       "      <th>Convex_Area</th>\n",
       "      <th>Equiv_Diameter</th>\n",
       "      <th>Eccentricity</th>\n",
       "      <th>Solidity</th>\n",
       "      <th>Extent</th>\n",
       "      <th>Roundness</th>\n",
       "      <th>Aspect_Ration</th>\n",
       "      <th>Compactness</th>\n",
       "    </tr>\n",
       "  </thead>\n",
       "  <tbody>\n",
       "    <tr>\n",
       "      <th>0</th>\n",
       "      <td>-1.784703</td>\n",
       "      <td>-2.215755</td>\n",
       "      <td>-2.320224</td>\n",
       "      <td>-0.238536</td>\n",
       "      <td>-1.793218</td>\n",
       "      <td>-1.921174</td>\n",
       "      <td>-2.729935</td>\n",
       "      <td>0.202812</td>\n",
       "      <td>0.855406</td>\n",
       "      <td>1.873763</td>\n",
       "      <td>-1.775063</td>\n",
       "      <td>2.197280</td>\n",
       "    </tr>\n",
       "    <tr>\n",
       "      <th>1</th>\n",
       "      <td>-0.294780</td>\n",
       "      <td>-0.568804</td>\n",
       "      <td>-0.700916</td>\n",
       "      <td>0.362089</td>\n",
       "      <td>-0.307244</td>\n",
       "      <td>-0.259343</td>\n",
       "      <td>-0.739163</td>\n",
       "      <td>0.603626</td>\n",
       "      <td>0.359523</td>\n",
       "      <td>0.938377</td>\n",
       "      <td>-0.824864</td>\n",
       "      <td>0.840230</td>\n",
       "    </tr>\n",
       "    <tr>\n",
       "      <th>2</th>\n",
       "      <td>-0.661350</td>\n",
       "      <td>-0.432940</td>\n",
       "      <td>-0.369395</td>\n",
       "      <td>-0.633215</td>\n",
       "      <td>-0.642749</td>\n",
       "      <td>-0.645380</td>\n",
       "      <td>0.310476</td>\n",
       "      <td>-1.085518</td>\n",
       "      <td>0.768380</td>\n",
       "      <td>-0.431615</td>\n",
       "      <td>0.074059</td>\n",
       "      <td>-0.211483</td>\n",
       "    </tr>\n",
       "    <tr>\n",
       "      <th>3</th>\n",
       "      <td>-1.039412</td>\n",
       "      <td>-1.265424</td>\n",
       "      <td>-1.334616</td>\n",
       "      <td>-0.140076</td>\n",
       "      <td>-1.045689</td>\n",
       "      <td>-1.057939</td>\n",
       "      <td>-1.075756</td>\n",
       "      <td>0.202812</td>\n",
       "      <td>0.761812</td>\n",
       "      <td>1.020648</td>\n",
       "      <td>-1.035351</td>\n",
       "      <td>1.098447</td>\n",
       "    </tr>\n",
       "    <tr>\n",
       "      <th>4</th>\n",
       "      <td>-1.065105</td>\n",
       "      <td>-1.209626</td>\n",
       "      <td>-1.293272</td>\n",
       "      <td>-0.229276</td>\n",
       "      <td>-1.045762</td>\n",
       "      <td>-1.086548</td>\n",
       "      <td>-0.934033</td>\n",
       "      <td>-1.285925</td>\n",
       "      <td>-0.295634</td>\n",
       "      <td>0.755950</td>\n",
       "      <td>-0.950840</td>\n",
       "      <td>0.972166</td>\n",
       "    </tr>\n",
       "  </tbody>\n",
       "</table>\n",
       "</div>"
      ],
      "text/plain": [
       "       Area  Perimeter  Major_Axis_Length  Minor_Axis_Length  Convex_Area  \\\n",
       "0 -1.784703  -2.215755          -2.320224          -0.238536    -1.793218   \n",
       "1 -0.294780  -0.568804          -0.700916           0.362089    -0.307244   \n",
       "2 -0.661350  -0.432940          -0.369395          -0.633215    -0.642749   \n",
       "3 -1.039412  -1.265424          -1.334616          -0.140076    -1.045689   \n",
       "4 -1.065105  -1.209626          -1.293272          -0.229276    -1.045762   \n",
       "\n",
       "   Equiv_Diameter  Eccentricity  Solidity    Extent  Roundness  Aspect_Ration  \\\n",
       "0       -1.921174     -2.729935  0.202812  0.855406   1.873763      -1.775063   \n",
       "1       -0.259343     -0.739163  0.603626  0.359523   0.938377      -0.824864   \n",
       "2       -0.645380      0.310476 -1.085518  0.768380  -0.431615       0.074059   \n",
       "3       -1.057939     -1.075756  0.202812  0.761812   1.020648      -1.035351   \n",
       "4       -1.086548     -0.934033 -1.285925 -0.295634   0.755950      -0.950840   \n",
       "\n",
       "   Compactness  \n",
       "0     2.197280  \n",
       "1     0.840230  \n",
       "2    -0.211483  \n",
       "3     1.098447  \n",
       "4     0.972166  "
      ]
     },
     "execution_count": 18,
     "metadata": {},
     "output_type": "execute_result"
    }
   ],
   "source": [
    "X.head()"
   ]
  },
  {
   "cell_type": "markdown",
   "id": "0d8e25d1",
   "metadata": {},
   "source": [
    "# Splite data for training and testing"
   ]
  },
  {
   "cell_type": "code",
   "execution_count": 19,
   "id": "79ef9fea",
   "metadata": {},
   "outputs": [],
   "source": [
    "from sklearn import preprocessing\n",
    "import matplotlib.pyplot as plt \n",
    "plt.rc(\"font\", size=14)\n",
    "from sklearn.linear_model import LogisticRegression\n",
    "from sklearn.model_selection import train_test_split"
   ]
  },
  {
   "cell_type": "code",
   "execution_count": 20,
   "id": "f007b853",
   "metadata": {},
   "outputs": [
    {
     "data": {
      "text/plain": [
       "LogisticRegression()"
      ]
     },
     "execution_count": 20,
     "metadata": {},
     "output_type": "execute_result"
    }
   ],
   "source": [
    "X_train, X_test, y_train, y_test = train_test_split(X, y, test_size=0.2, random_state=0)\n",
    "logreg = LogisticRegression()\n",
    "logreg.fit(X_train, y_train)"
   ]
  },
  {
   "cell_type": "code",
   "execution_count": 21,
   "id": "7487c7b7",
   "metadata": {},
   "outputs": [],
   "source": [
    "lr_pred = logreg.predict(X_test)"
   ]
  },
  {
   "cell_type": "code",
   "execution_count": 22,
   "id": "be8cfe8f",
   "metadata": {},
   "outputs": [],
   "source": [
    "from sklearn import metrics"
   ]
  },
  {
   "cell_type": "code",
   "execution_count": 23,
   "id": "7ecd8a74",
   "metadata": {},
   "outputs": [
    {
     "data": {
      "text/plain": [
       "array([[202,  42],\n",
       "       [ 27, 229]])"
      ]
     },
     "execution_count": 23,
     "metadata": {},
     "output_type": "execute_result"
    }
   ],
   "source": [
    "lr_cm = metrics.confusion_matrix(y_test, lr_pred)\n",
    "lr_cm"
   ]
  },
  {
   "cell_type": "code",
   "execution_count": 24,
   "id": "2216c824",
   "metadata": {},
   "outputs": [
    {
     "data": {
      "text/plain": [
       "1    256\n",
       "0    244\n",
       "dtype: int64"
      ]
     },
     "execution_count": 24,
     "metadata": {},
     "output_type": "execute_result"
    }
   ],
   "source": [
    "pd.Series(y_test).value_counts()"
   ]
  },
  {
   "cell_type": "code",
   "execution_count": 25,
   "id": "5d9538aa",
   "metadata": {},
   "outputs": [
    {
     "data": {
      "text/plain": [
       "<AxesSubplot:>"
      ]
     },
     "execution_count": 25,
     "metadata": {},
     "output_type": "execute_result"
    },
    {
     "data": {
      "image/png": "[encoded data removed]",
      "text/plain": [
       "<Figure size 360x360 with 2 Axes>"
      ]
     },
     "metadata": {
      "needs_background": "light"
     },
     "output_type": "display_data"
    }
   ],
   "source": [
    "fig, ax = plt.subplots(figsize=(5,5))  \n",
    "sns.heatmap(lr_cm/np.sum(lr_cm), annot=True, fmt='.2%', cmap='Blues')"
   ]
  },
  {
   "cell_type": "code",
   "execution_count": 26,
   "id": "858eba7c",
   "metadata": {},
   "outputs": [],
   "source": [
    "from sklearn.metrics import f1_score, precision_score, recall_score, accuracy_score\n",
    "from sklearn.metrics import precision_recall_curve"
   ]
  },
  {
   "cell_type": "code",
   "execution_count": 27,
   "id": "3d3bf626",
   "metadata": {},
   "outputs": [],
   "source": [
    "def perfMatrix(obs, pred):\n",
    "    print('Precision: %.3f' % precision_score(obs, pred))\n",
    "    print('Recall: %.3f' % recall_score(obs, pred))    \n",
    "    print('F1_score: %.3f' % f1_score(obs, pred))\n",
    "    print('accuracy_score:%.3f'% accuracy_score(obs, pred))"
   ]
  },
  {
   "cell_type": "code",
   "execution_count": 28,
   "id": "85ccffdf",
   "metadata": {
    "scrolled": true
   },
   "outputs": [
    {
     "name": "stdout",
     "output_type": "stream",
     "text": [
      "Precision: 0.845\n",
      "Recall: 0.895\n",
      "F1_score: 0.869\n",
      "accuracy_score:0.862\n"
     ]
    }
   ],
   "source": [
    "perfMatrix(y_test, lr_pred)"
   ]
  },
  {
   "cell_type": "code",
   "execution_count": 29,
   "id": "a9013e69",
   "metadata": {},
   "outputs": [
    {
     "data": {
      "image/png": "[encoded data removed]",
      "text/plain": [
       "<Figure size 720x864 with 1 Axes>"
      ]
     },
     "metadata": {
      "needs_background": "light"
     },
     "output_type": "display_data"
    }
   ],
   "source": [
    "lr_pred_proba = logreg.predict_proba(X_test)[::,1]\n",
    "fpr, tpr, _ = metrics.roc_curve(y_test,  lr_pred_proba)\n",
    "auc = metrics.roc_auc_score(y_test, lr_pred_proba)\n",
    "plt.plot(fpr,tpr,label=\"data 1, auc=\"+str(auc))\n",
    "plt.legend(loc=2)\n",
    "plt.show()"
   ]
  },
  {
   "cell_type": "markdown",
   "id": "11db635b",
   "metadata": {},
   "source": [
    "# Random Forest"
   ]
  },
  {
   "cell_type": "code",
   "execution_count": 30,
   "id": "0fc7ecb3",
   "metadata": {},
   "outputs": [],
   "source": [
    "from sklearn.ensemble import RandomForestClassifier\n",
    "from sklearn.datasets import make_classification"
   ]
  },
  {
   "cell_type": "code",
   "execution_count": 31,
   "id": "f6dd59fa",
   "metadata": {},
   "outputs": [],
   "source": [
    "pos_wt =sum(y_train == 0) /sum(y_train == 1)"
   ]
  },
  {
   "cell_type": "code",
   "execution_count": 32,
   "id": "02242557",
   "metadata": {},
   "outputs": [],
   "source": [
    "class_weight={0: 1, 1: pos_wt}"
   ]
  },
  {
   "cell_type": "code",
   "execution_count": 33,
   "id": "83249781",
   "metadata": {},
   "outputs": [
    {
     "name": "stdout",
     "output_type": "stream",
     "text": [
      "CPU times: user 2.03 s, sys: 21.2 ms, total: 2.05 s\n",
      "Wall time: 1.72 s\n"
     ]
    },
    {
     "data": {
      "text/plain": [
       "RandomForestClassifier(class_weight={0: 1, 1: 0.9157088122605364}, max_depth=6,\n",
       "                       n_estimators=1000, random_state=0)"
      ]
     },
     "execution_count": 33,
     "metadata": {},
     "output_type": "execute_result"
    }
   ],
   "source": [
    "%%time\n",
    "rf_clf = RandomForestClassifier(max_depth=6, random_state=0, class_weight = class_weight, n_estimators=1000)\n",
    "\n",
    "rf_clf.fit(X_train, y_train)"
   ]
  },
  {
   "cell_type": "code",
   "execution_count": 34,
   "id": "136d15e6",
   "metadata": {},
   "outputs": [],
   "source": [
    "rf_pred = rf_clf.predict(X_test)"
   ]
  },
  {
   "cell_type": "code",
   "execution_count": 35,
   "id": "3195252d",
   "metadata": {},
   "outputs": [
    {
     "data": {
      "text/plain": [
       "array([[204,  40],\n",
       "       [ 26, 230]])"
      ]
     },
     "execution_count": 35,
     "metadata": {},
     "output_type": "execute_result"
    }
   ],
   "source": [
    "rf_cm = metrics.confusion_matrix(y_test, rf_pred)\n",
    "rf_cm"
   ]
  },
  {
   "cell_type": "code",
   "execution_count": 36,
   "id": "321837cc",
   "metadata": {},
   "outputs": [
    {
     "data": {
      "text/plain": [
       "<AxesSubplot:>"
      ]
     },
     "execution_count": 36,
     "metadata": {},
     "output_type": "execute_result"
    },
    {
     "data": {
      "image/png": "[encoded data removed]",
      "text/plain": [
       "<Figure size 360x360 with 2 Axes>"
      ]
     },
     "metadata": {
      "needs_background": "light"
     },
     "output_type": "display_data"
    }
   ],
   "source": [
    "fig, ax = plt.subplots(figsize=(5,5))  \n",
    "sns.heatmap(rf_cm/np.sum(rf_cm), annot=True, fmt='.2%', cmap='Blues')"
   ]
  },
  {
   "cell_type": "code",
   "execution_count": 37,
   "id": "7ecd4d39",
   "metadata": {},
   "outputs": [
    {
     "name": "stdout",
     "output_type": "stream",
     "text": [
      "Precision: 0.852\n",
      "Recall: 0.898\n",
      "F1_score: 0.875\n",
      "accuracy_score:0.868\n"
     ]
    }
   ],
   "source": [
    "perfMatrix(y_test, rf_pred)"
   ]
  },
  {
   "cell_type": "markdown",
   "id": "70dc3e1a",
   "metadata": {},
   "source": [
    "# CatBoost"
   ]
  },
  {
   "cell_type": "code",
   "execution_count": 38,
   "id": "261ff9ec",
   "metadata": {},
   "outputs": [],
   "source": [
    "import catboost as cb\n",
    "from catboost import CatBoostClassifier\n",
    "from sklearn.utils.class_weight import compute_class_weight"
   ]
  },
  {
   "cell_type": "code",
   "execution_count": 39,
   "id": "a7b751b7",
   "metadata": {},
   "outputs": [],
   "source": [
    "classes = np.unique(y_train)\n",
    "weights = compute_class_weight(class_weight='balanced', classes=classes, y=y_train)\n",
    "cb_class_weights = dict(zip(classes, weights))"
   ]
  },
  {
   "cell_type": "code",
   "execution_count": 40,
   "id": "9d82a2b5",
   "metadata": {},
   "outputs": [
    {
     "data": {
      "text/plain": [
       "{0: 1.0460251046025104, 1: 0.9578544061302682}"
      ]
     },
     "execution_count": 40,
     "metadata": {},
     "output_type": "execute_result"
    }
   ],
   "source": [
    "cb_class_weights"
   ]
  },
  {
   "cell_type": "code",
   "execution_count": 41,
   "id": "0ee72b3b",
   "metadata": {},
   "outputs": [
    {
     "data": {
      "text/plain": [
       "<catboost.core.CatBoostClassifier at 0x14c5d7d00>"
      ]
     },
     "execution_count": 41,
     "metadata": {},
     "output_type": "execute_result"
    }
   ],
   "source": [
    "cb_clf = CatBoostClassifier(loss_function= \"Logloss\", class_weights=cb_class_weights, silent = True)\n",
    "cb_clf.fit(X_train, y_train)"
   ]
  },
  {
   "cell_type": "code",
   "execution_count": 42,
   "id": "ebd9f86c",
   "metadata": {},
   "outputs": [],
   "source": [
    "cb_pred = cb_clf.predict(X_test)"
   ]
  },
  {
   "cell_type": "code",
   "execution_count": 43,
   "id": "3e7ebeed",
   "metadata": {},
   "outputs": [
    {
     "data": {
      "text/plain": [
       "array([[205,  39],\n",
       "       [ 29, 227]])"
      ]
     },
     "execution_count": 43,
     "metadata": {},
     "output_type": "execute_result"
    }
   ],
   "source": [
    "cb_cm = metrics.confusion_matrix(y_test, cb_pred)\n",
    "cb_cm"
   ]
  },
  {
   "cell_type": "code",
   "execution_count": 44,
   "id": "13965a40",
   "metadata": {},
   "outputs": [
    {
     "data": {
      "text/plain": [
       "<AxesSubplot:>"
      ]
     },
     "execution_count": 44,
     "metadata": {},
     "output_type": "execute_result"
    },
    {
     "data": {
      "image/png": "[encoded data removed]",
      "text/plain": [
       "<Figure size 360x360 with 2 Axes>"
      ]
     },
     "metadata": {
      "needs_background": "light"
     },
     "output_type": "display_data"
    }
   ],
   "source": [
    "fig, ax = plt.subplots(figsize=(5,5)) \n",
    "sns.heatmap(cb_cm/np.sum(cb_cm), annot=True, fmt='.2%', cmap='Blues')"
   ]
  },
  {
   "cell_type": "code",
   "execution_count": 45,
   "id": "0c952fa2",
   "metadata": {},
   "outputs": [
    {
     "name": "stdout",
     "output_type": "stream",
     "text": [
      "Precision: 0.853\n",
      "Recall: 0.887\n",
      "F1_score: 0.870\n",
      "accuracy_score:0.864\n"
     ]
    }
   ],
   "source": [
    "perfMatrix(y_test, cb_pred)"
   ]
  },
  {
   "cell_type": "code",
   "execution_count": null,
   "id": "a4f11174",
   "metadata": {},
   "outputs": [],
   "source": []
  },
  {
   "cell_type": "code",
   "execution_count": 46,
   "id": "4fd0e0a1",
   "metadata": {},
   "outputs": [
    {
     "name": "stdout",
     "output_type": "stream",
     "text": [
      "Requirement already satisfied: optuna in /Applications/Anaconda/anaconda3/lib/python3.9/site-packages (3.0.3)\n",
      "Requirement already satisfied: PyYAML in /Applications/Anaconda/anaconda3/lib/python3.9/site-packages (from optuna) (6.0)\n",
      "Requirement already satisfied: cmaes>=0.8.2 in /Applications/Anaconda/anaconda3/lib/python3.9/site-packages (from optuna) (0.9.0)\n",
      "Requirement already satisfied: scipy<1.9.0,>=1.7.0 in /Applications/Anaconda/anaconda3/lib/python3.9/site-packages (from optuna) (1.7.3)\n",
      "Requirement already satisfied: sqlalchemy>=1.3.0 in /Applications/Anaconda/anaconda3/lib/python3.9/site-packages (from optuna) (1.4.32)\n",
      "Requirement already satisfied: packaging>=20.0 in /Applications/Anaconda/anaconda3/lib/python3.9/site-packages (from optuna) (21.3)\n",
      "Requirement already satisfied: colorlog in /Applications/Anaconda/anaconda3/lib/python3.9/site-packages (from optuna) (6.7.0)\n",
      "Requirement already satisfied: numpy in /Applications/Anaconda/anaconda3/lib/python3.9/site-packages (from optuna) (1.21.5)\n",
      "Requirement already satisfied: tqdm in /Applications/Anaconda/anaconda3/lib/python3.9/site-packages (from optuna) (4.64.0)\n",
      "Requirement already satisfied: alembic>=1.5.0 in /Applications/Anaconda/anaconda3/lib/python3.9/site-packages (from optuna) (1.8.1)\n",
      "Requirement already satisfied: importlib-metadata<5.0.0 in /Applications/Anaconda/anaconda3/lib/python3.9/site-packages (from optuna) (4.11.3)\n",
      "Requirement already satisfied: cliff in /Applications/Anaconda/anaconda3/lib/python3.9/site-packages (from optuna) (4.1.0)\n",
      "Requirement already satisfied: Mako in /Applications/Anaconda/anaconda3/lib/python3.9/site-packages (from alembic>=1.5.0->optuna) (1.2.4)\n",
      "Requirement already satisfied: zipp>=0.5 in /Applications/Anaconda/anaconda3/lib/python3.9/site-packages (from importlib-metadata<5.0.0->optuna) (3.8.0)\n",
      "Requirement already satisfied: pyparsing!=3.0.5,>=2.0.2 in /Applications/Anaconda/anaconda3/lib/python3.9/site-packages (from packaging>=20.0->optuna) (3.0.4)\n",
      "Requirement already satisfied: PrettyTable>=0.7.2 in /Applications/Anaconda/anaconda3/lib/python3.9/site-packages (from cliff->optuna) (3.5.0)\n",
      "Requirement already satisfied: stevedore>=2.0.1 in /Applications/Anaconda/anaconda3/lib/python3.9/site-packages (from cliff->optuna) (4.1.1)\n",
      "Requirement already satisfied: autopage>=0.4.0 in /Applications/Anaconda/anaconda3/lib/python3.9/site-packages (from cliff->optuna) (0.5.1)\n",
      "Requirement already satisfied: cmd2>=1.0.0 in /Applications/Anaconda/anaconda3/lib/python3.9/site-packages (from cliff->optuna) (2.4.2)\n",
      "Requirement already satisfied: wcwidth>=0.1.7 in /Applications/Anaconda/anaconda3/lib/python3.9/site-packages (from cmd2>=1.0.0->cliff->optuna) (0.2.5)\n",
      "Requirement already satisfied: pyperclip>=1.6 in /Applications/Anaconda/anaconda3/lib/python3.9/site-packages (from cmd2>=1.0.0->cliff->optuna) (1.8.2)\n",
      "Requirement already satisfied: attrs>=16.3.0 in /Applications/Anaconda/anaconda3/lib/python3.9/site-packages (from cmd2>=1.0.0->cliff->optuna) (21.4.0)\n",
      "Requirement already satisfied: pbr!=2.1.0,>=2.0.0 in /Applications/Anaconda/anaconda3/lib/python3.9/site-packages (from stevedore>=2.0.1->cliff->optuna) (5.11.0)\n",
      "Requirement already satisfied: MarkupSafe>=0.9.2 in /Applications/Anaconda/anaconda3/lib/python3.9/site-packages (from Mako->alembic>=1.5.0->optuna) (2.0.1)\n"
     ]
    }
   ],
   "source": [
    "!pip install optuna"
   ]
  },
  {
   "cell_type": "code",
   "execution_count": 47,
   "id": "fe8b01f7",
   "metadata": {},
   "outputs": [],
   "source": [
    "import optuna\n",
    "from optuna.integration import CatBoostPruningCallback\n",
    "from sklearn.metrics import accuracy_score\n",
    "from sklearn.model_selection import train_test_split"
   ]
  },
  {
   "cell_type": "code",
   "execution_count": 48,
   "id": "57214831",
   "metadata": {},
   "outputs": [
    {
     "data": {
      "text/plain": [
       "{0: 1.0460251046025104, 1: 0.9578544061302682}"
      ]
     },
     "execution_count": 48,
     "metadata": {},
     "output_type": "execute_result"
    }
   ],
   "source": [
    "cb_class_weights"
   ]
  },
  {
   "cell_type": "code",
   "execution_count": 49,
   "id": "e895fb59",
   "metadata": {},
   "outputs": [],
   "source": [
    "def objective(trial: optuna.Trial) -> float:\n",
    "    \n",
    "    global cb_class_weights\n",
    "    \n",
    "    train_x, valid_x, train_y, valid_y = train_test_split(X_train, y_train, test_size=0.2)\n",
    "    \n",
    "    param = {        \n",
    "        \"depth\": trial.suggest_int(\"depth\", 4, 12),\n",
    "        \"learning_rate\": trial.suggest_float(\"learning_rate\", 0.001, 0.1),\n",
    "        'l2_leaf_reg':trial.suggest_int('l2_leaf_reg', 10, 100),\n",
    "        \"boosting_type\": trial.suggest_categorical(\"boosting_type\", [\"Ordered\", \"Plain\"]),\n",
    "        \"bootstrap_type\": trial.suggest_categorical(\"bootstrap_type\", [\"Bayesian\", \"Bernoulli\", \"MVS\"]),        \n",
    "        \"eval_metric\": \"Accuracy\",\n",
    "        \"objective\": \"Logloss\",\n",
    "        \"class_weights\":cb_class_weights,\n",
    "        }\n",
    "\n",
    "    if param[\"bootstrap_type\"] == \"Bayesian\":\n",
    "        param[\"bagging_temperature\"] = trial.suggest_float(\"bagging_temperature\", 0, 10)\n",
    "    elif param[\"bootstrap_type\"] == \"Bernoulli\":\n",
    "        param[\"subsample\"] = trial.suggest_float(\"subsample\", 0.1, 1, log=True)\n",
    "\n",
    "    cbm = cb.CatBoostClassifier(**param)\n",
    "\n",
    "    pruning_callback = CatBoostPruningCallback(trial, \"Accuracy\")\n",
    "    cbm.fit(\n",
    "        train_x,\n",
    "        train_y,\n",
    "        eval_set=[(valid_x, valid_y)],\n",
    "        verbose=0,\n",
    "        early_stopping_rounds=100,\n",
    "        callbacks=[pruning_callback],        \n",
    "    )\n",
    "\n",
    "    # evoke pruning manually.\n",
    "    pruning_callback.check_pruned()\n",
    "\n",
    "    preds = cbm.predict(valid_x)\n",
    "    pred_labels = np.rint(preds)\n",
    "    accuracy = f1_score(valid_y, pred_labels)\n",
    "\n",
    "    return accuracy"
   ]
  },
  {
   "cell_type": "code",
   "execution_count": 50,
   "id": "1afc1d2e",
   "metadata": {},
   "outputs": [
    {
     "name": "stderr",
     "output_type": "stream",
     "text": [
      "\u001b[32m[I 2022-12-01 14:45:39,548]\u001b[0m A new study created in memory with name: no-name-21c7677d-9a7f-4747-8fad-6d439ca23917\u001b[0m\n",
      "\u001b[32m[I 2022-12-01 14:45:39,734]\u001b[0m Trial 0 finished with value: 0.8939051918735892 and parameters: {'depth': 4, 'learning_rate': 0.02216719635437328, 'l2_leaf_reg': 28, 'boosting_type': 'Plain', 'bootstrap_type': 'MVS'}. Best is trial 0 with value: 0.8939051918735892.\u001b[0m\n",
      "\u001b[32m[I 2022-12-01 14:45:39,856]\u001b[0m Trial 1 finished with value: 0.9017857142857143 and parameters: {'depth': 4, 'learning_rate': 0.04955374990248759, 'l2_leaf_reg': 17, 'boosting_type': 'Plain', 'bootstrap_type': 'MVS'}. Best is trial 1 with value: 0.9017857142857143.\u001b[0m\n",
      "\u001b[32m[I 2022-12-01 14:45:40,014]\u001b[0m Trial 2 finished with value: 0.9217002237136465 and parameters: {'depth': 5, 'learning_rate': 0.09214989707598681, 'l2_leaf_reg': 84, 'boosting_type': 'Plain', 'bootstrap_type': 'Bayesian', 'bagging_temperature': 4.151057341021107}. Best is trial 2 with value: 0.9217002237136465.\u001b[0m\n",
      "\u001b[32m[I 2022-12-01 14:45:41,805]\u001b[0m Trial 3 finished with value: 0.9037037037037038 and parameters: {'depth': 7, 'learning_rate': 0.06436388975677064, 'l2_leaf_reg': 86, 'boosting_type': 'Ordered', 'bootstrap_type': 'MVS'}. Best is trial 2 with value: 0.9217002237136465.\u001b[0m\n",
      "\u001b[32m[I 2022-12-01 14:45:44,147]\u001b[0m Trial 4 finished with value: 0.89086859688196 and parameters: {'depth': 12, 'learning_rate': 0.0045680454033218045, 'l2_leaf_reg': 89, 'boosting_type': 'Plain', 'bootstrap_type': 'Bernoulli', 'subsample': 0.2563919650779232}. Best is trial 2 with value: 0.9217002237136465.\u001b[0m\n",
      "\u001b[32m[I 2022-12-01 14:45:44,336]\u001b[0m Trial 5 pruned. Trial was pruned at iteration 5.\u001b[0m\n",
      "\u001b[32m[I 2022-12-01 14:46:02,003]\u001b[0m Trial 6 finished with value: 0.8992974238875877 and parameters: {'depth': 12, 'learning_rate': 0.03667045855662013, 'l2_leaf_reg': 34, 'boosting_type': 'Ordered', 'bootstrap_type': 'Bayesian', 'bagging_temperature': 3.9547167901675873}. Best is trial 2 with value: 0.9217002237136465.\u001b[0m\n",
      "\u001b[32m[I 2022-12-01 14:46:02,036]\u001b[0m Trial 7 pruned. Trial was pruned at iteration 5.\u001b[0m\n",
      "\u001b[32m[I 2022-12-01 14:46:02,072]\u001b[0m Trial 8 pruned. Trial was pruned at iteration 6.\u001b[0m\n",
      "\u001b[32m[I 2022-12-01 14:46:02,300]\u001b[0m Trial 9 pruned. Trial was pruned at iteration 6.\u001b[0m\n",
      "\u001b[32m[I 2022-12-01 14:46:02,920]\u001b[0m Trial 10 finished with value: 0.9086651053864169 and parameters: {'depth': 9, 'learning_rate': 0.09382240071617537, 'l2_leaf_reg': 63, 'boosting_type': 'Plain', 'bootstrap_type': 'Bayesian', 'bagging_temperature': 0.5175234872015704}. Best is trial 2 with value: 0.9217002237136465.\u001b[0m\n",
      "\u001b[32m[I 2022-12-01 14:46:02,960]\u001b[0m Trial 11 pruned. Trial was pruned at iteration 6.\u001b[0m\n",
      "\u001b[32m[I 2022-12-01 14:46:03,040]\u001b[0m Trial 12 pruned. Trial was pruned at iteration 26.\u001b[0m\n",
      "\u001b[32m[I 2022-12-01 14:46:03,058]\u001b[0m Trial 13 pruned. Trial was pruned at iteration 5.\u001b[0m\n",
      "\u001b[32m[I 2022-12-01 14:46:03,082]\u001b[0m Trial 14 pruned. Trial was pruned at iteration 5.\u001b[0m\n",
      "\u001b[32m[I 2022-12-01 14:46:03,131]\u001b[0m Trial 15 pruned. Trial was pruned at iteration 5.\u001b[0m\n",
      "\u001b[32m[I 2022-12-01 14:46:03,170]\u001b[0m Trial 16 pruned. Trial was pruned at iteration 26.\u001b[0m\n",
      "\u001b[32m[I 2022-12-01 14:46:03,210]\u001b[0m Trial 17 pruned. Trial was pruned at iteration 6.\u001b[0m\n",
      "\u001b[32m[I 2022-12-01 14:46:03,228]\u001b[0m Trial 18 pruned. Trial was pruned at iteration 5.\u001b[0m\n",
      "\u001b[32m[I 2022-12-01 14:46:03,322]\u001b[0m Trial 19 pruned. Trial was pruned at iteration 6.\u001b[0m\n",
      "\u001b[32m[I 2022-12-01 14:46:03,339]\u001b[0m Trial 20 pruned. Trial was pruned at iteration 6.\u001b[0m\n",
      "\u001b[32m[I 2022-12-01 14:46:03,382]\u001b[0m Trial 21 pruned. Trial was pruned at iteration 5.\u001b[0m\n",
      "\u001b[32m[I 2022-12-01 14:46:03,432]\u001b[0m Trial 22 pruned. Trial was pruned at iteration 6.\u001b[0m\n",
      "\u001b[32m[I 2022-12-01 14:46:03,571]\u001b[0m Trial 23 pruned. Trial was pruned at iteration 6.\u001b[0m\n",
      "\u001b[32m[I 2022-12-01 14:46:03,597]\u001b[0m Trial 24 pruned. Trial was pruned at iteration 5.\u001b[0m\n",
      "\u001b[32m[I 2022-12-01 14:46:03,658]\u001b[0m Trial 25 pruned. Trial was pruned at iteration 18.\u001b[0m\n",
      "\u001b[32m[I 2022-12-01 14:46:03,702]\u001b[0m Trial 26 pruned. Trial was pruned at iteration 5.\u001b[0m\n",
      "\u001b[32m[I 2022-12-01 14:46:03,748]\u001b[0m Trial 27 pruned. Trial was pruned at iteration 26.\u001b[0m\n",
      "\u001b[32m[I 2022-12-01 14:46:05,178]\u001b[0m Trial 28 finished with value: 0.9095238095238096 and parameters: {'depth': 8, 'learning_rate': 0.05573009622706439, 'l2_leaf_reg': 73, 'boosting_type': 'Ordered', 'bootstrap_type': 'MVS'}. Best is trial 2 with value: 0.9217002237136465.\u001b[0m\n",
      "\u001b[32m[I 2022-12-01 14:46:06,840]\u001b[0m Trial 29 finished with value: 0.9164677804295944 and parameters: {'depth': 11, 'learning_rate': 0.018372714756003793, 'l2_leaf_reg': 73, 'boosting_type': 'Plain', 'bootstrap_type': 'Bayesian', 'bagging_temperature': 5.606945432184891}. Best is trial 2 with value: 0.9217002237136465.\u001b[0m\n",
      "\u001b[32m[I 2022-12-01 14:46:06,921]\u001b[0m Trial 30 pruned. Trial was pruned at iteration 5.\u001b[0m\n",
      "\u001b[32m[I 2022-12-01 14:46:07,004]\u001b[0m Trial 31 pruned. Trial was pruned at iteration 5.\u001b[0m\n",
      "\u001b[32m[I 2022-12-01 14:46:07,017]\u001b[0m Trial 32 pruned. Trial was pruned at iteration 5.\u001b[0m\n",
      "\u001b[32m[I 2022-12-01 14:46:07,517]\u001b[0m Trial 33 finished with value: 0.9061032863849765 and parameters: {'depth': 9, 'learning_rate': 0.020564678355917805, 'l2_leaf_reg': 65, 'boosting_type': 'Plain', 'bootstrap_type': 'Bayesian', 'bagging_temperature': 5.367445553186336}. Best is trial 2 with value: 0.9217002237136465.\u001b[0m\n",
      "\u001b[32m[I 2022-12-01 14:46:07,703]\u001b[0m Trial 34 pruned. Trial was pruned at iteration 6.\u001b[0m\n",
      "\u001b[32m[I 2022-12-01 14:46:08,638]\u001b[0m Trial 35 finished with value: 0.9069212410501194 and parameters: {'depth': 10, 'learning_rate': 0.04340697568939919, 'l2_leaf_reg': 83, 'boosting_type': 'Plain', 'bootstrap_type': 'MVS'}. Best is trial 2 with value: 0.9217002237136465.\u001b[0m\n",
      "\u001b[32m[I 2022-12-01 14:46:08,653]\u001b[0m Trial 36 pruned. Trial was pruned at iteration 5.\u001b[0m\n",
      "\u001b[32m[I 2022-12-01 14:46:09,059]\u001b[0m Trial 37 pruned. Trial was pruned at iteration 5.\u001b[0m\n",
      "\u001b[32m[I 2022-12-01 14:46:09,124]\u001b[0m Trial 38 pruned. Trial was pruned at iteration 5.\u001b[0m\n",
      "\u001b[32m[I 2022-12-01 14:46:09,274]\u001b[0m Trial 39 pruned. Trial was pruned at iteration 5.\u001b[0m\n"
     ]
    },
    {
     "name": "stdout",
     "output_type": "stream",
     "text": [
      "Number of finished trials: 40\n",
      "Best trial:\n",
      "  Value: 0.9217002237136465\n",
      "  Params: \n",
      "    depth: 5\n",
      "    learning_rate: 0.09214989707598681\n",
      "    l2_leaf_reg: 84\n",
      "    boosting_type: Plain\n",
      "    bootstrap_type: Bayesian\n",
      "    bagging_temperature: 4.151057341021107\n"
     ]
    }
   ],
   "source": [
    "study = optuna.create_study(pruner=optuna.pruners.MedianPruner(n_warmup_steps=5), direction=\"maximize\")\n",
    "study.optimize(objective, n_trials=40, timeout=600)\n",
    "\n",
    "print(\"Number of finished trials: {}\".format(len(study.trials)))\n",
    "\n",
    "print(\"Best trial:\")\n",
    "trial = study.best_trial\n",
    "\n",
    "print(\"  Value: {}\".format(trial.value))\n",
    "print(\"  Params: \")\n",
    "for key, value in trial.params.items():\n",
    "    print(\"    {}: {}\".format(key, value))"
   ]
  },
  {
   "cell_type": "code",
   "execution_count": 51,
   "id": "3425a2d3",
   "metadata": {},
   "outputs": [
    {
     "name": "stdout",
     "output_type": "stream",
     "text": [
      "best_value: 0.9217002237136465\n"
     ]
    }
   ],
   "source": [
    "print('best_value:', study.best_value)"
   ]
  },
  {
   "cell_type": "code",
   "execution_count": 52,
   "id": "345add44",
   "metadata": {},
   "outputs": [
    {
     "name": "stdout",
     "output_type": "stream",
     "text": [
      "CPU times: user 2.04 s, sys: 1.15 s, total: 3.19 s\n",
      "Wall time: 1.12 s\n"
     ]
    },
    {
     "data": {
      "text/plain": [
       "<catboost.core.CatBoostClassifier at 0x14f795b20>"
      ]
     },
     "execution_count": 52,
     "metadata": {},
     "output_type": "execute_result"
    }
   ],
   "source": [
    "%%time \n",
    "\n",
    "cb_optuna = cb.CatBoostClassifier(**study.best_params, silent = True)\n",
    "cb_optuna.fit(X_train, y_train)"
   ]
  },
  {
   "cell_type": "code",
   "execution_count": 53,
   "id": "f4088cb9",
   "metadata": {},
   "outputs": [],
   "source": [
    "cb_optuna_pred = cb_optuna.predict(X_test)"
   ]
  },
  {
   "cell_type": "code",
   "execution_count": 54,
   "id": "a0fe49e6",
   "metadata": {},
   "outputs": [
    {
     "name": "stdout",
     "output_type": "stream",
     "text": [
      "Precision: 0.858\n",
      "Recall: 0.898\n",
      "F1_score: 0.878\n",
      "accuracy_score:0.872\n"
     ]
    }
   ],
   "source": [
    "perfMatrix(y_test, cb_optuna_pred)"
   ]
  },
  {
   "cell_type": "code",
   "execution_count": 55,
   "id": "dd415a63",
   "metadata": {},
   "outputs": [
    {
     "data": {
      "text/plain": [
       "array([[206,  38],\n",
       "       [ 26, 230]])"
      ]
     },
     "execution_count": 55,
     "metadata": {},
     "output_type": "execute_result"
    }
   ],
   "source": [
    "cb_cm_ = metrics.confusion_matrix(y_test, cb_optuna_pred)\n",
    "cb_cm_"
   ]
  },
  {
   "cell_type": "code",
   "execution_count": 56,
   "id": "e9d695b9",
   "metadata": {},
   "outputs": [
    {
     "data": {
      "text/plain": [
       "<AxesSubplot:>"
      ]
     },
     "execution_count": 56,
     "metadata": {},
     "output_type": "execute_result"
    },
    {
     "data": {
      "image/png": "[encoded data removed]",
      "text/plain": [
       "<Figure size 360x360 with 2 Axes>"
      ]
     },
     "metadata": {
      "needs_background": "light"
     },
     "output_type": "display_data"
    }
   ],
   "source": [
    "fig, ax = plt.subplots(figsize=(5,5))  \n",
    "sns.heatmap(cb_cm_/np.sum(cb_cm_), annot=True, fmt='.2%', cmap='Blues')"
   ]
  },
  {
   "cell_type": "markdown",
   "id": "4d74ec40",
   "metadata": {},
   "source": [
    "# MLP"
   ]
  },
  {
   "cell_type": "code",
   "execution_count": 57,
   "id": "6612925c",
   "metadata": {},
   "outputs": [],
   "source": [
    "from sklearn.neural_network import MLPClassifier\n",
    "\n",
    "mlp_clf = MLPClassifier(random_state=1, max_iter=1000).fit(X_train, y_train)"
   ]
  },
  {
   "cell_type": "code",
   "execution_count": 58,
   "id": "67ba28b1",
   "metadata": {},
   "outputs": [],
   "source": [
    "mlp_pred = mlp_clf.predict(X_test)"
   ]
  },
  {
   "cell_type": "code",
   "execution_count": 59,
   "id": "5ffeebc9",
   "metadata": {},
   "outputs": [
    {
     "name": "stdout",
     "output_type": "stream",
     "text": [
      "Precision: 0.848\n",
      "Recall: 0.914\n",
      "F1_score: 0.880\n",
      "accuracy_score:0.872\n"
     ]
    }
   ],
   "source": [
    "perfMatrix(y_test, mlp_pred)"
   ]
  },
  {
   "cell_type": "code",
   "execution_count": 60,
   "id": "5a649236",
   "metadata": {},
   "outputs": [
    {
     "data": {
      "text/plain": [
       "array([[202,  42],\n",
       "       [ 22, 234]])"
      ]
     },
     "execution_count": 60,
     "metadata": {},
     "output_type": "execute_result"
    }
   ],
   "source": [
    "mlp_cm = metrics.confusion_matrix(y_test, mlp_pred)\n",
    "mlp_cm"
   ]
  },
  {
   "cell_type": "markdown",
   "id": "c6e38cb7",
   "metadata": {},
   "source": [
    "# K-Fold Cross Validation.  (k=5)"
   ]
  },
  {
   "cell_type": "code",
   "execution_count": 61,
   "id": "853936bd",
   "metadata": {},
   "outputs": [],
   "source": [
    "from sklearn.model_selection import KFold, cross_val_score"
   ]
  },
  {
   "cell_type": "code",
   "execution_count": 62,
   "id": "3f6de079",
   "metadata": {},
   "outputs": [],
   "source": [
    "k_folds = KFold(n_splits = 5, random_state=1234, shuffle=True)"
   ]
  },
  {
   "cell_type": "code",
   "execution_count": 82,
   "id": "b344d5f8",
   "metadata": {},
   "outputs": [],
   "source": [
    "precison_5_fold = []\n",
    "recall_5_fold = []\n",
    "f1_5_fold = []\n",
    "accuracy_5_fold= []\n",
    "for trn_idx, tst_idx in k_folds.split(X):\n",
    "    mlp_clf = MLPClassifier(random_state=1, max_iter=1000).fit(X.loc[trn_idx], y[trn_idx])\n",
    "    mlp_pred = mlp_clf.predict(X.loc[tst_idx])\n",
    "    precison_5_fold.append(precision_score(y[tst_idx], mlp_pred))\n",
    "    recall_5_fold.append(recall_score(y[tst_idx], mlp_pred))\n",
    "    f1_5_fold.append(f1_score(y[tst_idx], mlp_pred)) \n",
    "    accuracy_5_fold.append(accuracy_score(y[tst_idx], mlp_pred))"
   ]
  },
  {
   "cell_type": "code",
   "execution_count": 64,
   "id": "e98f222e",
   "metadata": {},
   "outputs": [
    {
     "data": {
      "text/plain": [
       "[0.8692579505300353,\n",
       " 0.8773946360153256,\n",
       " 0.914396887159533,\n",
       " 0.8763636363636363,\n",
       " 0.8397212543554007]"
      ]
     },
     "execution_count": 64,
     "metadata": {},
     "output_type": "execute_result"
    }
   ],
   "source": [
    "precison_5_fold"
   ]
  },
  {
   "cell_type": "code",
   "execution_count": 66,
   "id": "055caab5",
   "metadata": {},
   "outputs": [
    {
     "data": {
      "text/plain": [
       "[0.9111111111111111,\n",
       " 0.9087301587301587,\n",
       " 0.914396887159533,\n",
       " 0.9233716475095786,\n",
       " 0.926923076923077]"
      ]
     },
     "execution_count": 66,
     "metadata": {},
     "output_type": "execute_result"
    }
   ],
   "source": [
    "recall_5_fold"
   ]
  },
  {
   "cell_type": "code",
   "execution_count": 68,
   "id": "7bbf1854",
   "metadata": {
    "scrolled": true
   },
   "outputs": [
    {
     "data": {
      "text/plain": [
       "[0.8896925858951175,\n",
       " 0.8927875243664717,\n",
       " 0.914396887159533,\n",
       " 0.8992537313432836,\n",
       " 0.8811700182815356]"
      ]
     },
     "execution_count": 68,
     "metadata": {},
     "output_type": "execute_result"
    }
   ],
   "source": [
    "f1_5_fold"
   ]
  },
  {
   "cell_type": "code",
   "execution_count": 83,
   "id": "3b05a114",
   "metadata": {},
   "outputs": [
    {
     "data": {
      "text/plain": [
       "[0.878, 0.89, 0.912, 0.892, 0.87]"
      ]
     },
     "execution_count": 83,
     "metadata": {},
     "output_type": "execute_result"
    }
   ],
   "source": [
    "accuracy_5_fold"
   ]
  },
  {
   "cell_type": "code",
   "execution_count": 84,
   "id": "444f0f37",
   "metadata": {},
   "outputs": [
    {
     "name": "stdout",
     "output_type": "stream",
     "text": [
      "precion_mean: 0.8754268728847862\n",
      "recall_mean: 0.9169065762866917\n",
      "f1_mean: 0.8954601494091883\n",
      "accuracy_mean: 0.8884\n"
     ]
    }
   ],
   "source": [
    "import statistics\n",
    "precion_mean= statistics.mean(precison_5_fold)\n",
    "recall_mean=statistics.mean(recall_5_fold)\n",
    "f1_mean=statistics.mean(f1_5_fold)\n",
    "accuracy_mean=statistics.mean(accuracy_5_fold)\n",
    "print('precion_mean:',precion_mean)\n",
    "print('recall_mean:',recall_mean)\n",
    "print('f1_mean:',f1_mean)\n",
    "print('accuracy_mean:',accuracy_mean)"
   ]
  },
  {
   "cell_type": "markdown",
   "id": "904da5f5",
   "metadata": {},
   "source": [
    "# get ensembled prediction"
   ]
  },
  {
   "cell_type": "code",
   "execution_count": 70,
   "id": "7c966d1c",
   "metadata": {},
   "outputs": [],
   "source": [
    "cb_prob = cb_optuna.predict_proba(X_test)[:,1]\n",
    "rf_prob = rf_clf.predict_proba(X_test)[:,1]\n",
    "mlp_prob = mlp_clf.predict_proba(X_test)[:,1]"
   ]
  },
  {
   "cell_type": "code",
   "execution_count": 71,
   "id": "a05e97af",
   "metadata": {},
   "outputs": [],
   "source": [
    "ensemble_prob = (cb_prob + rf_prob + mlp_prob)/3"
   ]
  },
  {
   "cell_type": "code",
   "execution_count": 72,
   "id": "d77d6f2c",
   "metadata": {},
   "outputs": [],
   "source": [
    "ensemble_pred = np.where(ensemble_prob > 0.5, 1, 0) "
   ]
  },
  {
   "cell_type": "code",
   "execution_count": 73,
   "id": "3db221af",
   "metadata": {},
   "outputs": [
    {
     "data": {
      "text/plain": [
       "array([[205,  39],\n",
       "       [ 22, 234]])"
      ]
     },
     "execution_count": 73,
     "metadata": {},
     "output_type": "execute_result"
    }
   ],
   "source": [
    "ensemble_cm = metrics.confusion_matrix(y_test, ensemble_pred)\n",
    "ensemble_cm"
   ]
  },
  {
   "cell_type": "code",
   "execution_count": 74,
   "id": "d847ba5f",
   "metadata": {},
   "outputs": [
    {
     "data": {
      "text/plain": [
       "<AxesSubplot:>"
      ]
     },
     "execution_count": 74,
     "metadata": {},
     "output_type": "execute_result"
    },
    {
     "data": {
      "image/png": "[encoded data removed]",
      "text/plain": [
       "<Figure size 360x360 with 2 Axes>"
      ]
     },
     "metadata": {
      "needs_background": "light"
     },
     "output_type": "display_data"
    }
   ],
   "source": [
    "fig, ax = plt.subplots(figsize=(5,5))  \n",
    "sns.heatmap(ensemble_cm/np.sum(ensemble_cm), annot=True, fmt='.2%', cmap='Blues')"
   ]
  },
  {
   "cell_type": "code",
   "execution_count": 75,
   "id": "bae3fa80",
   "metadata": {},
   "outputs": [
    {
     "name": "stdout",
     "output_type": "stream",
     "text": [
      "Precision: 0.857\n",
      "Recall: 0.914\n",
      "F1_score: 0.885\n",
      "accuracy_score:0.878\n"
     ]
    }
   ],
   "source": [
    "perfMatrix(y_test, ensemble_pred)"
   ]
  },
  {
   "cell_type": "code",
   "execution_count": null,
   "id": "03bfde14",
   "metadata": {},
   "outputs": [],
   "source": []
  }
 ],
 "metadata": {
  "kernelspec": {
   "display_name": "Python 3 (ipykernel)",
   "language": "python",
   "name": "python3"
  },
  "language_info": {
   "codemirror_mode": {
    "name": "ipython",
    "version": 3
   },
   "file_extension": ".py",
   "mimetype": "text/x-python",
   "name": "python",
   "nbconvert_exporter": "python",
   "pygments_lexer": "ipython3",
   "version": "3.9.12"
  }
 },
 "nbformat": 4,
 "nbformat_minor": 5
}
